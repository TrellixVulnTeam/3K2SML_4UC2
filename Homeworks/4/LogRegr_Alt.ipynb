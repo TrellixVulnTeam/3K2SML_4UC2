{
 "cells": [
  {
   "cell_type": "code",
   "execution_count": 1,
   "metadata": {},
   "outputs": [],
   "source": [
    "import numpy as np\n",
    "import pandas as pd\n",
    "from sklearn.model_selection import train_test_split\n",
    "from mpl_toolkits.mplot3d import Axes3D\n",
    "import matplotlib.pyplot as plt\n",
    "\n",
    "from matplotlib.colors import ListedColormap\n",
    "cm_bright = ListedColormap(['#FF0000', '#0000FF'])\n",
    "%matplotlib inline"
   ]
  },
  {
   "cell_type": "code",
   "execution_count": 2,
   "metadata": {},
   "outputs": [],
   "source": [
    "def normalize(X):\n",
    "    n = X.shape[0]\n",
    "    mean = np.mean(X, axis=1).reshape((n, 1))\n",
    "    std = np.std(X, axis=1).reshape((n, 1))\n",
    "    X_new = (X - mean) / std**2\n",
    "    return X_new, mean, std"
   ]
  },
  {
   "cell_type": "code",
   "execution_count": 3,
   "metadata": {},
   "outputs": [],
   "source": [
    "def sigmoid(Z):\n",
    "    return 1 / (1 + np.exp(-Z))"
   ]
  },
  {
   "cell_type": "code",
   "execution_count": 4,
   "metadata": {},
   "outputs": [],
   "source": [
    "def plot_data(X, y):\n",
    "    ax = plt.gca()\n",
    "    ax.scatter(X[:,0], X[:,1], c=(y == 1), cmap=cm_bright)"
   ]
  },
  {
   "cell_type": "code",
   "execution_count": 5,
   "metadata": {},
   "outputs": [],
   "source": [
    "def fwd_pass(X, params):\n",
    "    W = params[\"W\"]\n",
    "    b = params[\"b\"]\n",
    "    \n",
    "    Z = np.dot(W, X) + b\n",
    "    A = sigmoid(Z)\n",
    "    \n",
    "    cache = (W, b, Z, A)\n",
    "    \n",
    "    return A, cache"
   ]
  },
  {
   "cell_type": "code",
   "execution_count": 6,
   "metadata": {},
   "outputs": [],
   "source": [
    "def cost(A, Y):\n",
    "    m = Y.shape[1]\n",
    "    \n",
    "    L = - Y * np.log(A) - (1 - Y) * np.log(1 - A)\n",
    "    J = np.sum(L) / m\n",
    "    \n",
    "    return J"
   ]
  },
  {
   "cell_type": "code",
   "execution_count": 7,
   "metadata": {},
   "outputs": [],
   "source": [
    "def bwd_pass(X, Y, cache):\n",
    "    n, m = X.shape\n",
    "    (W, b, Z, A) = cache\n",
    "    \n",
    "    dZ = A - Y\n",
    "    dW = 1. / m * np.dot(X, dZ.T).reshape((1, n))\n",
    "    db = 1. / m * np.sum(dZ)\n",
    "    \n",
    "    grads = {\"dW\" : dW, \"db\" : db, \"dZ\" : dZ}\n",
    "    return grads"
   ]
  },
  {
   "cell_type": "code",
   "execution_count": 8,
   "metadata": {},
   "outputs": [],
   "source": [
    "def init_params(n, m):\n",
    "    W = np.random.randn(1, n) * 0.01\n",
    "    b = 0\n",
    "    \n",
    "    params = {\"W\" : W, \"b\" : b}\n",
    "    return params"
   ]
  },
  {
   "cell_type": "code",
   "execution_count": 9,
   "metadata": {},
   "outputs": [],
   "source": [
    "def update_params(params, grads, learning_rate):\n",
    "    W = params[\"W\"]\n",
    "    b = params[\"b\"]\n",
    "    \n",
    "    dW = grads[\"dW\"]\n",
    "    db = grads[\"db\"]\n",
    "    \n",
    "    params[\"W\"] = W - learning_rate * dW\n",
    "    params[\"b\"] = b - learning_rate * db\n",
    "    \n",
    "    return params"
   ]
  },
  {
   "cell_type": "code",
   "execution_count": 10,
   "metadata": {},
   "outputs": [],
   "source": [
    "def fit(X, Y, learning_rate = 0.01, num_iter = 30000, debug = False):\n",
    "    n, m = X.shape \n",
    "    params = init_params(n, m)\n",
    "    costs = []\n",
    "    for i in range(num_iter):\n",
    "        A, cache = fwd_pass(X, params)\n",
    "        curr_cost = cost(A, Y)\n",
    "        grads = bwd_pass(X, Y, cache)\n",
    "        \n",
    "        params = update_params(params, grads, learning_rate)\n",
    "        \n",
    "        if debug and i % 10 == 0:\n",
    "            print(\"{}-th iteration: {}\".format(i, curr_cost))\n",
    "            costs.append(curr_cost)\n",
    "    \n",
    "    plt.plot(costs)\n",
    "    plt.ylabel(\"Cost\")\n",
    "    plt.xlabel(\"Iteration, *10\")\n",
    "    plt.show()\n",
    "    \n",
    "    return params    "
   ]
  },
  {
   "cell_type": "code",
   "execution_count": 11,
   "metadata": {},
   "outputs": [
    {
     "name": "stdout",
     "output_type": "stream",
     "text": [
      "Training set: X=(100, 2), y=(100,)\n"
     ]
    }
   ],
   "source": [
    "data_columns = [\"exam1\", \"exam2\"]\n",
    "target_column = \"submitted\"\n",
    "df = pd.read_csv(\"sats.csv\")\n",
    "X, Y = df[data_columns].values, df[target_column]\n",
    "print('Training set: X={}, y={}'.format(X.shape, Y.shape))"
   ]
  },
  {
   "cell_type": "code",
   "execution_count": 12,
   "metadata": {},
   "outputs": [
    {
     "name": "stdout",
     "output_type": "stream",
     "text": [
      "Training set: X=(118, 2), y=(118,)\n"
     ]
    }
   ],
   "source": [
    "data_columns = [\"test1\", \"test2\"]\n",
    "target_column = \"passed\"\n",
    "df = pd.read_csv(\"tests.csv\")\n",
    "X, Y = df[data_columns].values, df[target_column]\n",
    "print('Training set: X={}, y={}'.format(X.shape, Y.shape))"
   ]
  },
  {
   "cell_type": "code",
   "execution_count": 13,
   "metadata": {},
   "outputs": [
    {
     "name": "stdout",
     "output_type": "stream",
     "text": [
      "Training set: X=(118, 7), y=(118,)\n"
     ]
    }
   ],
   "source": [
    "data_columns = [\"test1\", \"test2\", \"test1test1\", \"test2test2\", \"test1test2\", \"test1test1test1\", \"test2test2test2\"]\n",
    "target_column = \"passed\"\n",
    "df = pd.read_csv(\"testsCom.csv\")\n",
    "X, Y = df[data_columns].values, df[target_column]\n",
    "print('Training set: X={}, y={}'.format(X.shape, Y.shape))"
   ]
  },
  {
   "cell_type": "code",
   "execution_count": 14,
   "metadata": {},
   "outputs": [
    {
     "data": {
      "image/png": "[encoded data removed]",
      "text/plain": [
       "<Figure size 432x288 with 1 Axes>"
      ]
     },
     "metadata": {
      "needs_background": "light"
     },
     "output_type": "display_data"
    }
   ],
   "source": [
    "plot_data(X, Y)"
   ]
  },
  {
   "cell_type": "code",
   "execution_count": 15,
   "metadata": {},
   "outputs": [],
   "source": [
    "Y = Y.values.reshape((df.shape[0], 1))"
   ]
  },
  {
   "cell_type": "code",
   "execution_count": 16,
   "metadata": {},
   "outputs": [],
   "source": [
    "X, Y = X.T, Y.T"
   ]
  },
  {
   "cell_type": "code",
   "execution_count": 17,
   "metadata": {},
   "outputs": [],
   "source": [
    "X, mean, std = normalize(X)"
   ]
  },
  {
   "cell_type": "code",
   "execution_count": 18,
   "metadata": {},
   "outputs": [
    {
     "data": {
      "text/plain": [
       "array([[-0.60317345, -0.01435925, -1.09777917, -1.75725074, -2.32251793],\n",
       "       [ 1.87362608,  1.92821021,  1.90091814,  1.19132449,  1.05486417],\n",
       "       [-3.90194657, -3.99946939, -3.29665705, -1.74627385,  0.25880084],\n",
       "       [ 2.0899842 ,  2.34213524,  2.21539406, -0.61258054, -1.05324385],\n",
       "       [-0.76431824,  1.23204463, -2.46000243, -3.2711155 , -4.28888063],\n",
       "       [-0.81067086, -0.79820379, -0.93050954, -1.50509379, -2.60774817],\n",
       "       [ 1.69714712,  1.89645037,  1.79574649, -0.1488716 , -0.39246017]])"
      ]
     },
     "execution_count": 18,
     "metadata": {},
     "output_type": "execute_result"
    }
   ],
   "source": [
    "X[:,:5]"
   ]
  },
  {
   "cell_type": "code",
   "execution_count": 19,
   "metadata": {},
   "outputs": [
    {
     "data": {
      "text/plain": [
       "(1, 118)"
      ]
     },
     "execution_count": 19,
     "metadata": {},
     "output_type": "execute_result"
    }
   ],
   "source": [
    "Y.shape"
   ]
  },
  {
   "cell_type": "code",
   "execution_count": 20,
   "metadata": {},
   "outputs": [
    {
     "data": {
      "text/plain": [
       "array([[ 0.05477891],\n",
       "       [ 0.18310156],\n",
       "       [ 0.24757534],\n",
       "       [ 0.30136961],\n",
       "       [-0.02547184],\n",
       "       [ 0.05983333],\n",
       "       [ 0.14235001]])"
      ]
     },
     "execution_count": 20,
     "metadata": {},
     "output_type": "execute_result"
    }
   ],
   "source": [
    "mean"
   ]
  },
  {
   "cell_type": "code",
   "execution_count": 21,
   "metadata": {},
   "outputs": [
    {
     "data": {
      "text/plain": [
       "array([[0.49454485],\n",
       "       [0.51753592],\n",
       "       [0.24747703],\n",
       "       [0.28332819],\n",
       "       [0.22312342],\n",
       "       [0.27347972],\n",
       "       [0.32474925]])"
      ]
     },
     "execution_count": 21,
     "metadata": {},
     "output_type": "execute_result"
    }
   ],
   "source": [
    "std"
   ]
  },
  {
   "cell_type": "code",
   "execution_count": 22,
   "metadata": {},
   "outputs": [
    {
     "name": "stdout",
     "output_type": "stream",
     "text": [
      "0-th iteration: 0.6756132814193164\n",
      "10-th iteration: 0.47678467570527966\n",
      "20-th iteration: 0.4319768985176975\n",
      "30-th iteration: 0.40893636792824634\n",
      "40-th iteration: 0.3950227143911935\n",
      "50-th iteration: 0.3857016504272756\n",
      "60-th iteration: 0.37899641515783333\n",
      "70-th iteration: 0.37392336701978907\n",
      "80-th iteration: 0.3699413907298857\n",
      "90-th iteration: 0.36672874925050086\n",
      "100-th iteration: 0.36408194364298785\n",
      "110-th iteration: 0.3618656064610521\n",
      "120-th iteration: 0.3599858361007996\n",
      "130-th iteration: 0.35837514970254486\n",
      "140-th iteration: 0.3569835670606116\n",
      "150-th iteration: 0.3557731034724443\n",
      "160-th iteration: 0.3547142438480036\n",
      "170-th iteration: 0.3537836129940229\n",
      "180-th iteration: 0.35296239244338506\n",
      "190-th iteration: 0.3522352170689452\n",
      "200-th iteration: 0.35158938823457614\n",
      "210-th iteration: 0.3510143007973393\n",
      "220-th iteration: 0.3505010177563192\n",
      "230-th iteration: 0.35004194889986867\n",
      "240-th iteration: 0.3496306040797204\n"
     ]
    },
    {
     "data": {
      "image/png": "[encoded data removed]",
      "text/plain": [
       "<Figure size 432x288 with 1 Axes>"
      ]
     },
     "metadata": {
      "needs_background": "light"
     },
     "output_type": "display_data"
    }
   ],
   "source": [
    "params = fit(X, Y, learning_rate = 0.1, num_iter = 250, debug = True)"
   ]
  },
  {
   "cell_type": "code",
   "execution_count": 23,
   "metadata": {},
   "outputs": [
    {
     "name": "stdout",
     "output_type": "stream",
     "text": [
      "{'W': array([[ 0.61747216,  1.02423648, -0.67329891, -0.81445139, -0.32281205,\n",
      "         0.03608533, -0.0833324 ]]), 'b': -0.18135384397976398}\n"
     ]
    }
   ],
   "source": [
    "print(params)"
   ]
  }
 ],
 "metadata": {
  "kernelspec": {
   "display_name": "Python 3",
   "language": "python",
   "name": "python3"
  },
  "language_info": {
   "codemirror_mode": {
    "name": "ipython",
    "version": 3
   },
   "file_extension": ".py",
   "mimetype": "text/x-python",
   "name": "python",
   "nbconvert_exporter": "python",
   "pygments_lexer": "ipython3",
   "version": "3.10.2"
  }
 },
 "nbformat": 4,
 "nbformat_minor": 1
}
