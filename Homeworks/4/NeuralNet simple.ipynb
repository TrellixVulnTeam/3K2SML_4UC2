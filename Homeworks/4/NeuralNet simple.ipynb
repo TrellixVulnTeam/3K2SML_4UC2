{
 "cells": [
  {
   "cell_type": "markdown",
   "metadata": {},
   "source": [
    "В цій практичній роботі ми спробуємо реалізувати нейронну мережу з двох шарів (прихований і вихідний). Запропонований підхід стане заготовкою для реалізації наступних оптимізацій: MBGD, ADAM та регуляризації. \n",
    "\n",
    "Сьогодні ж вам пропонується додати до цього класу підтримку довільної кількості шарів та нейронів в них (наприклад, передавати їх параметром в конструктор, як це робиться в MLPClassifier за допомогою hidden_layer_sizes). Також потрібно передбачити можливість ранньої зупинки ітераційного процесу, якщо значення штрафної функції не покращуватиметься протягом певної кількості ітерацій. Наприклад, якщо протягом $k$ ітерацій штрафна функція за модулем не стане меншою, ніж на поточному кроці."
   ]
  },
  {
   "cell_type": "code",
   "execution_count": 85,
   "metadata": {},
   "outputs": [],
   "source": [
    "import numpy as np\n",
    "import pandas as pd\n",
    "from sklearn.model_selection import train_test_split\n",
    "from mpl_toolkits.mplot3d import Axes3D\n",
    "import matplotlib.pyplot as plt\n",
    "\n",
    "from matplotlib.colors import ListedColormap\n",
    "cm_bright = ListedColormap(['#FF0000', '#0000FF'])\n",
    "%matplotlib inline\n",
    "from sklearn.metrics import accuracy_score\n",
    "\n",
    "import sklearn.linear_model"
   ]
  },
  {
   "cell_type": "code",
   "execution_count": 86,
   "metadata": {},
   "outputs": [],
   "source": [
    "def plot_surface(cls, x_1, x_2, ax=None, threshold=0.5, contourf=False):\n",
    "    xx1, xx2 = np.meshgrid(np.linspace(x_1.min(), x_1.max(), 100), \n",
    "                           np.linspace(x_2.min(), x_2.max(), 100))\n",
    "\n",
    "    X_pred = np.c_[xx1.ravel(), xx2.ravel()]\n",
    "    pred = cls.predict_proba(X_pred)[:, 0]\n",
    "    Z = pred.reshape((100, 100))\n",
    "    if ax is None:\n",
    "        ax = plt.gca()\n",
    "    ax.contour(xx1, xx2, Z, levels=[threshold], colors='black')\n",
    "    ax.set_xlim((x_1.min(), x_1.max()))\n",
    "    ax.set_ylim((x_2.min(), x_2.max()))"
   ]
  },
  {
   "cell_type": "code",
   "execution_count": 87,
   "metadata": {},
   "outputs": [],
   "source": [
    "def plot_data(X, y):\n",
    "    ax = plt.gca()\n",
    "    ax.scatter(X[:,0], X[:,1], c=(y == 1), cmap=cm_bright)"
   ]
  },
  {
   "cell_type": "code",
   "execution_count": 88,
   "metadata": {},
   "outputs": [],
   "source": [
    "class NeuralNet:\n",
    "    \"\"\"\n",
    "    NN for binary classification\n",
    "    Attributes:\n",
    "    ...\n",
    "    \"\"\"\n",
    "    \n",
    "    def __init__(self, hidden_layer_sizes = [1,1], normalize = True, learning_rate = 0.01, num_iter = 30000):\n",
    "        self.layer_sizes = hidden_layer_sizes \n",
    "        self.layers_count = len(self.layer_sizes) + 1\n",
    "        self.parameters = {}\n",
    "\n",
    "        self.learning_rate = learning_rate\n",
    "        self.num_iter = num_iter\n",
    "        self.normalize = normalize\n",
    "        \n",
    "    \n",
    "    def __normalize(self, X, mean = None, std = None):\n",
    "        \"\"\"\n",
    "        Зверніть увагу, що нормалізація вхідних даних є дуже важливою для швидкодії нейронних мереж.\n",
    "        \"\"\"\n",
    "        n = X.shape[0]\n",
    "        m = mean\n",
    "        if m is None:\n",
    "            m = np.mean(X, axis=1).reshape((n, 1))\n",
    "        s = std\n",
    "        if s is None:\n",
    "            s = np.std(X, axis=1).reshape((n, 1))\n",
    "        X_new = (X - m) / s\n",
    "        return X_new, m, s\n",
    "\n",
    "    def __sigmoid(self, Z):\n",
    "        \"\"\"\n",
    "        В наступних практичних потрібно буде додати підтримку й інших активаційних функцій - це один з гіперпараметрів. \n",
    "        Їх можна вибирати для всіх шарів одночасно або мати різні активаційні функції на кожному з них.\n",
    "        \"\"\"\n",
    "        return 1 / (1 + np.exp(-Z))\n",
    "\n",
    "    def __sigmoid_derivative(self, Z):\n",
    "        sig = self.__sigmoid(Z)\n",
    "        return sig*(1 - sig)\n",
    "    \n",
    "    def __initialize_parameters(self):\n",
    "        n_i = self.layer_sizes\n",
    "        for i in range(self.layers_count):\n",
    "            Wi = np.random.randn(n_i[i+1], n_i[i]) * 0.01\n",
    "            bi = np.zeros((n_i[i+1], 1))\n",
    "            self.parameters[f\"W{i+1}\"] = Wi\n",
    "            self.parameters[f\"b{i+1}\"] = bi\n",
    "        \n",
    "        # W1 = np.random.randn(n_1, n_x) * 0.01\n",
    "        # b1 = np.zeros((n_1, 1))\n",
    "        # W2 = np.random.randn(1, n_1) * 0.01\n",
    "        # b2 = 0 # у вихідному шарі лише 1 нейрон\n",
    "        # self.parameters = {\"W1\" : W1, \"b1\" : b1, \"W2\" : W2, \"b2\" : b2}\n",
    "       \n",
    "    def __forward_propagation(self, X):\n",
    "        Aj = X\n",
    "        cache = [Aj]\n",
    "        for i in range(self.layers_count):\n",
    "            Wi, bi = self.parameters[f\"W{i+1}\"], self.parameters[f\"b{i+1}\"]\n",
    "            Zi = np.dot(Wi, Aj) + bi\n",
    "            Aj = self.__sigmoid(Zi)\n",
    "            cache.extend([Wi, bi, Zi, Aj])\n",
    "\n",
    "        return Aj, cache \n",
    "\n",
    "        # W1 = self.parameters[\"W1\"]\n",
    "        # b1 = self.parameters[\"b1\"]\n",
    "        # W2 = self.parameters[\"W2\"]\n",
    "        # b2 = self.parameters[\"b2\"]\n",
    "        # Z1 = np.dot(W1, X) + b1\n",
    "        # A1 = self.__sigmoid(Z1)\n",
    "        # Z2 = np.dot(W2, A1) + b2\n",
    "        # A2 = self.__sigmoid(Z2)\n",
    "        # cache = (W1, b1, W2, b2, Z1, A1, Z2, A2)\n",
    "        #return A2, cache\n",
    "    \n",
    "    def compute_cost(self, A, Y):\n",
    "        m = Y.shape[1]\n",
    "        res = Y * np.log(A) + (1 - Y) * np.log(1 - A)\n",
    "        J = -(1 / m) * np.sum(res)\n",
    "        return J\n",
    "        \n",
    "    def __backward_propagation(self, X, Y, cache):\n",
    "        m = X.shape[1]\n",
    "        n = X.shape[0]\n",
    "        grads = {}\n",
    "        pre = self.layers_count - 1\n",
    "        for i in reversed(range(self.layers_count)):\n",
    "            (*cache, Wi, bi, Zi, Ai) = cache\n",
    "            if i == pre:\n",
    "                dAi = -np.divide(Y, Ai) + np.divide(1 - Y, 1 - Ai) \n",
    "            dZi = dAi*self.__sigmoid_derivative(Zi)\n",
    "            dWi = np.dot(dZi, cache[-1].T)/m\n",
    "            dbi = np.sum(dZi, axis=1, keepdims=True)/m\n",
    "            dAi = np.dot(Wi.T, dZi)\n",
    "\n",
    "            # if(i == pre):\n",
    "            #     dZi = Ai - Y\n",
    "            #     dWi = np.dot(dZi, cache[-1].T)/m\n",
    "            #     dAi = np.dot(Wi.T, dZi)\n",
    "            # else:\n",
    "            #     dZi =  np.multiply(dAi, np.multiply(Ai, 1 - Ai))\n",
    "            #     dWi = np.dot(dZi, X.T)/m\n",
    "            # dbi = np.sum(dZi, axis = 1, keepdims = True)/m\n",
    "\n",
    "            grads[f\"dZ{i+1}\"] = dZi\n",
    "            grads[f\"dW{i+1}\"] = dWi\n",
    "            grads[f\"db{i+1}\"] = dbi\n",
    "\n",
    "        return grads\n",
    "\n",
    "        # m = X.shape[1]\n",
    "        # n = X.shape[0]\n",
    "        #\n",
    "        # Note : A2, dZ2, A1\n",
    "        #\n",
    "        # (W1, b1, W2, b2, Z1, A1, Z2, A2) = cache\n",
    "        # dZ2 = A2 - Y\n",
    "        # dW2 = 1. / m * np.dot(dZ2, A1.T)\n",
    "        # db2 = 1. / m * np.sum(dZ2, axis = 1, keepdims = True)\n",
    "        #\n",
    "        # Note : W2, dZ2, dA1, A1, dZ1\n",
    "        #\n",
    "        # dA1 = np.dot(W2.T, dZ2)\n",
    "        # dZ1 = np.multiply(dA1, np.multiply(A1, 1 - A1))\n",
    "        # dW1 = 1. / m * np.dot(dZ1, X.T)\n",
    "        # db1 = 1. / m * np.sum(dZ1, axis = 1, keepdims = True)\n",
    "        # grads = {\"dZ1\" : dZ1, \"dW1\" : dW1, \"db1\" : db1, \"dZ2\" : dZ2, \"dW2\" : dW2, \"db2\" : db2}\n",
    "        # return grads\n",
    "    \n",
    "    def __update_parameters(self, grads):\n",
    "        for i in range(self.layers_count):\n",
    "            Wi = self.parameters[f\"W{i+1}\"]\n",
    "            bi = self.parameters[f\"b{i+1}\"]\n",
    "            dWi = grads[f\"dW{i+1}\"]\n",
    "            dbi = grads[f\"db{i+1}\"]\n",
    "            self.parameters[f\"W{i+1}\"] = Wi - self.learning_rate * dWi\n",
    "            self.parameters[f\"b{i+1}\"] = bi - self.learning_rate * dbi\n",
    "            \n",
    "        # W1 = self.parameters[\"W1\"]\n",
    "        # b1 = self.parameters[\"b1\"]\n",
    "        # W2 = self.parameters[\"W2\"]\n",
    "        # b2 = self.parameters[\"b2\"]\n",
    "        # dW1 = grads[\"dW1\"]\n",
    "        # db1 = grads[\"db1\"]\n",
    "        # dW2 = grads[\"dW2\"]\n",
    "        # db2 = grads[\"db2\"]\n",
    "        # self.parameters[\"W1\"] = W1 - self.learning_rate * dW1\n",
    "        # self.parameters[\"b1\"] = b1 - self.learning_rate * db1\n",
    "        # self.parameters[\"W2\"] = W2 - self.learning_rate * dW2\n",
    "        # self.parameters[\"b2\"] = b2 - self.learning_rate * db2\n",
    "\n",
    "        \n",
    "    def fit(self, X_vert, Y_vert, print_cost = True):\n",
    "        \n",
    "        X, Y = X_vert.T, Y_vert.T #Convert vertical to horizontal matrices\n",
    "        \n",
    "        if self.normalize: #Normalize\n",
    "            X, self.__mean, self.__std = self.__normalize(X)\n",
    "        \n",
    "        costs = [] #Costs log\n",
    "\n",
    "        self.layer_sizes.insert(0, X.shape[0]) #Input layer\n",
    "        self.layer_sizes.append(1) #Output layer\n",
    "        \n",
    "        self.__initialize_parameters()\n",
    "\n",
    "        for i in range(self.num_iter):\n",
    "            A, cache = self.__forward_propagation(X)\n",
    "\n",
    "            cost = self.compute_cost(A, Y)\n",
    "\n",
    "            grads = self.__backward_propagation(X, Y, cache)\n",
    "\n",
    "            self.__update_parameters(grads)\n",
    "\n",
    "        #OUTPUT\n",
    "            if print_cost and i % 1000 == 0: #Print cost every 1000 iterations\n",
    "                print(\"{}-th iteration: {}\".format(i, cost))\n",
    "\n",
    "            if i % 1000 == 0: #Append cost every 1000 iterations\n",
    "                costs.append(cost)\n",
    "        #Last cost print\n",
    "        if print_cost:\n",
    "            plt.plot(costs)\n",
    "            plt.ylabel(\"Cost\")\n",
    "            plt.xlabel(\"Iteration, *1000\")\n",
    "            plt.show()\n",
    "    \n",
    "    def predict_proba(self, X_vert):\n",
    "        X = X_vert.T\n",
    "        if self.normalize:\n",
    "            X, _, _ = self.__normalize(X, self.__mean, self.__std)\n",
    "        \n",
    "        probs = self.__forward_propagation(X)[0]\n",
    "        \n",
    "        return np.column_stack((probs.T, 1 - probs.T))\n",
    "    \n",
    "    def predict(self, X_vert):\n",
    "        positive_probs = self.predict_proba(X_vert)[:, 0]\n",
    "        return (positive_probs >= 0.5).astype(int)   \n"
   ]
  },
  {
   "cell_type": "markdown",
   "metadata": {},
   "source": [
    "Спочатку спробуйте цей клас на одній задачі, а потім на іншій."
   ]
  },
  {
   "cell_type": "code",
   "execution_count": 89,
   "metadata": {},
   "outputs": [],
   "source": [
    "#data_columns = [\"exam1\", \"exam2\"]\n",
    "#target_column = \"submitted\"\n",
    "#df = pd.read_csv(\"sats.csv\")\n",
    "#X, Y = df[data_columns].values, df[target_column].reshape((df.shape[0], 1))\n",
    "#print('Training set: X={}, y={}'.format(X.shape, Y.shape))"
   ]
  },
  {
   "cell_type": "code",
   "execution_count": 90,
   "metadata": {},
   "outputs": [
    {
     "name": "stdout",
     "output_type": "stream",
     "text": [
      "Training set: X=(118, 2), y=(118,)\n"
     ]
    }
   ],
   "source": [
    "data_columns = [\"test1\", \"test2\"]\n",
    "target_column = \"passed\"\n",
    "df = pd.read_csv(\"tests.csv\")\n",
    "X, Y = df[data_columns].values, df[target_column]\n",
    "print('Training set: X={}, y={}'.format(X.shape, Y.shape))"
   ]
  },
  {
   "cell_type": "code",
   "execution_count": 91,
   "metadata": {},
   "outputs": [
    {
     "data": {
      "image/png": "[encoded data removed]",
      "text/plain": [
       "<Figure size 432x288 with 1 Axes>"
      ]
     },
     "metadata": {
      "needs_background": "light"
     },
     "output_type": "display_data"
    }
   ],
   "source": [
    "plot_data(X, Y)"
   ]
  },
  {
   "cell_type": "code",
   "execution_count": 92,
   "metadata": {},
   "outputs": [],
   "source": [
    "cls = NeuralNet(hidden_layer_sizes=[10,9,8,7,6,5,4,3], normalize = True, learning_rate = 0.5, num_iter = 4000)"
   ]
  },
  {
   "cell_type": "code",
   "execution_count": 93,
   "metadata": {},
   "outputs": [
    {
     "name": "stdout",
     "output_type": "stream",
     "text": [
      "0-th iteration: 0.6930779961531404\n",
      "1000-th iteration: 0.6930035367960178\n",
      "2000-th iteration: 0.6930035367960181\n",
      "3000-th iteration: 0.6930035367960178\n"
     ]
    },
    {
     "data": {
      "image/png": "[encoded data removed]",
      "text/plain": [
       "<Figure size 432x288 with 1 Axes>"
      ]
     },
     "metadata": {
      "needs_background": "light"
     },
     "output_type": "display_data"
    }
   ],
   "source": [
    "cls.fit(X, Y.values.reshape((df.shape[0], 1)))"
   ]
  },
  {
   "cell_type": "code",
   "execution_count": 94,
   "metadata": {},
   "outputs": [
    {
     "name": "stdout",
     "output_type": "stream",
     "text": [
      "{'W1': array([[ 1.81856242e-03,  1.47608176e-03],\n",
      "       [ 1.73848462e-02, -1.03004550e-02],\n",
      "       [-5.62378070e-03,  1.31645498e-02],\n",
      "       [ 7.74200168e-03, -8.39658662e-03],\n",
      "       [ 3.90181764e-03, -7.30000612e-03],\n",
      "       [-1.44201038e-02, -5.61738961e-03],\n",
      "       [ 7.34344932e-03, -4.75973014e-03],\n",
      "       [ 9.87608215e-03, -1.03339892e-02],\n",
      "       [-5.82066478e-03, -6.42099033e-04],\n",
      "       [ 1.44937507e-02, -1.16168288e-05]]), 'b1': array([[-2.61367741e-21],\n",
      "       [ 1.30227125e-21],\n",
      "       [-6.52150009e-22],\n",
      "       [ 5.65526013e-21],\n",
      "       [ 7.12595325e-21],\n",
      "       [ 1.50569566e-21],\n",
      "       [-1.66833678e-21],\n",
      "       [ 1.37137037e-21],\n",
      "       [ 3.11915613e-22],\n",
      "       [ 4.49378077e-22]]), 'W2': array([[ 0.00300587, -0.00637717,  0.01861041,  0.02106939,  0.01346553,\n",
      "         0.01767374, -0.00526256, -0.00169426, -0.0040509 ,  0.00102266],\n",
      "       [ 0.00383899,  0.0028635 , -0.00177543, -0.01730975, -0.00784518,\n",
      "         0.00049247,  0.01129756, -0.00422322, -0.00064953, -0.01073049],\n",
      "       [ 0.00524417, -0.00415416,  0.01509652,  0.00159519,  0.01850218,\n",
      "         0.01348342,  0.01425748,  0.00046166,  0.0047788 , -0.00099169],\n",
      "       [ 0.00784633,  0.00745459, -0.02739316,  0.0098252 , -0.01301339,\n",
      "        -0.00122122, -0.0052599 ,  0.00113347,  0.007904  , -0.00661003],\n",
      "       [ 0.00794568,  0.01509519,  0.00335509, -0.01432315, -0.00634454,\n",
      "        -0.00552552,  0.00635248, -0.0078463 ,  0.01489479,  0.00391618],\n",
      "       [-0.01832297, -0.00059557, -0.005551  , -0.00659699, -0.0012059 ,\n",
      "         0.00292709,  0.01981433, -0.00967014, -0.00599489, -0.00802052],\n",
      "       [ 0.00280554,  0.0166932 ,  0.02325821, -0.00321429, -0.00517481,\n",
      "        -0.00594021, -0.00149014, -0.00695122,  0.00542099,  0.00529928],\n",
      "       [ 0.01714313,  0.00884271,  0.00222394, -0.0083639 , -0.00323529,\n",
      "         0.00600594,  0.00136381, -0.00286986,  0.00429993, -0.012783  ],\n",
      "       [ 0.01890914, -0.0082361 , -0.00752816,  0.00751229, -0.02091488,\n",
      "        -0.01403216,  0.00454762, -0.00755251,  0.00238103,  0.01017897]]), 'b2': array([[-4.11191536e-19],\n",
      "       [-2.66954423e-18],\n",
      "       [ 6.48651483e-19],\n",
      "       [-2.02986238e-19],\n",
      "       [ 2.70274962e-19],\n",
      "       [ 2.24785183e-19],\n",
      "       [-1.24267629e-18],\n",
      "       [ 2.56074920e-19],\n",
      "       [ 4.64859773e-21]]), 'W3': array([[-0.00428707, -0.02221865,  0.00633384, -0.00266141, -0.00868058,\n",
      "        -0.00422316, -0.01607551,  0.00674146, -0.01200098],\n",
      "       [ 0.00883106,  0.00014877, -0.0044601 ,  0.01124096,  0.01726067,\n",
      "         0.00354576,  0.00305446,  0.001927  , -0.00715511],\n",
      "       [-0.01646497, -0.00388046, -0.01056118,  0.00392129, -0.00026657,\n",
      "         0.00283882, -0.01685039, -0.00020763,  0.0078969 ],\n",
      "       [-0.00311459,  0.01175314, -0.00557797,  0.01329333,  0.0196209 ,\n",
      "        -0.00107284,  0.00457624,  0.00611603, -0.00275044],\n",
      "       [ 0.00828979, -0.01414337,  0.01249203,  0.00055758,  0.01137192,\n",
      "        -0.00047518,  0.01719848,  0.0013899 , -0.00361027],\n",
      "       [ 0.00713791,  0.01559064, -0.00408307, -0.00588144, -0.01175989,\n",
      "        -0.00121943,  0.01523839, -0.00866564,  0.00488293],\n",
      "       [ 0.00866777, -0.0135467 ,  0.00309807, -0.01079264, -0.00977128,\n",
      "         0.0081699 ,  0.0168857 ,  0.00242845,  0.00824657],\n",
      "       [ 0.00092817, -0.01022894, -0.01457895,  0.00170837,  0.00468248,\n",
      "         0.0093685 , -0.02394276, -0.00246803,  0.00845395]]), 'b3': array([[ 6.18100373e-17],\n",
      "       [-7.06959160e-17],\n",
      "       [ 1.17469600e-16],\n",
      "       [-1.40185440e-16],\n",
      "       [ 2.51492532e-16],\n",
      "       [-1.80763063e-16],\n",
      "       [-1.59921309e-17],\n",
      "       [ 1.02170663e-16]]), 'W4': array([[ 0.00937736, -0.00347759,  0.01012215, -0.0221081 ,  0.01438107,\n",
      "        -0.0149535 ,  0.0031662 ,  0.00539072],\n",
      "       [-0.00020933,  0.00617135,  0.02442848,  0.0008026 , -0.01009979,\n",
      "         0.00625213,  0.01696315, -0.01727714],\n",
      "       [-0.01123607,  0.00083321,  0.0055453 ,  0.0010485 , -0.00030331,\n",
      "        -0.01065216,  0.01220088,  0.01137853],\n",
      "       [ 0.01041235, -0.01345494,  0.00936234, -0.00063612,  0.02011482,\n",
      "        -0.0077019 , -0.01013157,  0.0147193 ],\n",
      "       [-0.01494054, -0.0003489 ,  0.02102687, -0.02186317,  0.02350397,\n",
      "        -0.000598  ,  0.01115884,  0.00247219],\n",
      "       [-0.0185833 ,  0.00570751, -0.02414108, -0.01343319, -0.01265785,\n",
      "        -0.00097703, -0.00437792,  0.01751955],\n",
      "       [ 0.00420359,  0.00527676, -0.00359024, -0.00199027, -0.00575223,\n",
      "        -0.00891001, -0.00512577, -0.004664  ]]), 'b4': array([[ 1.77881446e-14],\n",
      "       [-1.62189678e-14],\n",
      "       [ 1.19738354e-14],\n",
      "       [ 1.07232317e-14],\n",
      "       [ 1.33874346e-14],\n",
      "       [-1.23456685e-14],\n",
      "       [ 1.67877570e-14]]), 'W5': array([[-0.0086245 ,  0.00753547, -0.00850342,  0.00354496, -0.01371598,\n",
      "         0.00189326, -0.00794636],\n",
      "       [-0.00446133,  0.00627688, -0.01132482, -0.01323471, -0.00533279,\n",
      "         0.00338336, -0.00199399],\n",
      "       [ 0.0149559 ,  0.01541621,  0.0073545 , -0.01849916, -0.01329762,\n",
      "         0.00870488, -0.00673844],\n",
      "       [-0.00341318, -0.00506431, -0.01468307,  0.00782248, -0.00717267,\n",
      "        -0.00501649,  0.00707841],\n",
      "       [-0.01095475,  0.01000573, -0.00903333,  0.02164066,  0.01388099,\n",
      "        -0.00523933, -0.00647604],\n",
      "       [-0.01271628, -0.00163916,  0.01112022, -0.01014889, -0.0036719 ,\n",
      "         0.01684592, -0.01150176]]), 'b5': array([[-3.02117422e-12],\n",
      "       [-3.72066318e-12],\n",
      "       [-4.55080053e-13],\n",
      "       [ 4.86904601e-13],\n",
      "       [-1.22984627e-12],\n",
      "       [-1.84745244e-12]]), 'W6': array([[ 2.19725402e-02,  3.95357528e-05, -8.43316712e-03,\n",
      "        -5.06203507e-03, -1.03439360e-03,  1.41270325e-02],\n",
      "       [-1.01199574e-02, -1.13408206e-02,  3.43707470e-03,\n",
      "         6.14167491e-04, -1.94812344e-02,  9.71075291e-03],\n",
      "       [-3.24106657e-02, -1.96169821e-02,  6.82079617e-03,\n",
      "         3.22131423e-03, -1.01088261e-02, -1.47897231e-02],\n",
      "       [-1.60273567e-04,  2.43189523e-02,  4.11143601e-03,\n",
      "        -7.57306319e-03,  1.84528941e-02, -9.90162651e-03],\n",
      "       [-1.32819816e-02, -8.71815151e-03, -1.25483189e-02,\n",
      "        -2.52945378e-03, -7.36956073e-03, -8.03624076e-03]]), 'b6': array([[ 2.57910958e-10],\n",
      "       [-3.53204558e-10],\n",
      "       [ 6.07573272e-10],\n",
      "       [-2.41866320e-10],\n",
      "       [ 1.25996623e-10]]), 'W7': array([[-0.00327651,  0.00177514,  0.0088978 , -0.01641289, -0.00076035],\n",
      "       [-0.01654892,  0.01125187, -0.00492548, -0.00853196,  0.00577145],\n",
      "       [-0.0109356 ,  0.00074712,  0.00317259, -0.00396002,  0.01186626],\n",
      "       [-0.00243536,  0.00759744, -0.01750013,  0.00313996, -0.01091197]]), 'b7': array([[ 9.28786406e-08],\n",
      "       [-1.09468232e-07],\n",
      "       [ 5.48331206e-08],\n",
      "       [-5.09373396e-08]]), 'W8': array([[ 0.00539758, -0.01031078, -0.00428962,  0.0031092 ],\n",
      "       [ 0.00253597,  0.00250547,  0.00734207, -0.00806653],\n",
      "       [ 0.00408854, -0.02393383,  0.0012708 ,  0.0141505 ]]), 'b8': array([[3.95844098e-05],\n",
      "       [5.20139087e-05],\n",
      "       [6.63765654e-06]]), 'W9': array([[-0.01525806, -0.01883137, -0.00581496]]), 'b9': array([[-0.01395356]])}\n"
     ]
    }
   ],
   "source": [
    "print(cls.parameters)"
   ]
  },
  {
   "cell_type": "code",
   "execution_count": 95,
   "metadata": {},
   "outputs": [
    {
     "data": {
      "text/plain": [
       "array([[0.49152542, 0.50847458],\n",
       "       [0.49152542, 0.50847458],\n",
       "       [0.49152542, 0.50847458],\n",
       "       [0.49152542, 0.50847458],\n",
       "       [0.49152542, 0.50847458],\n",
       "       [0.49152542, 0.50847458],\n",
       "       [0.49152542, 0.50847458],\n",
       "       [0.49152542, 0.50847458],\n",
       "       [0.49152542, 0.50847458],\n",
       "       [0.49152542, 0.50847458],\n",
       "       [0.49152542, 0.50847458],\n",
       "       [0.49152542, 0.50847458],\n",
       "       [0.49152542, 0.50847458],\n",
       "       [0.49152542, 0.50847458],\n",
       "       [0.49152542, 0.50847458],\n",
       "       [0.49152542, 0.50847458],\n",
       "       [0.49152542, 0.50847458],\n",
       "       [0.49152542, 0.50847458],\n",
       "       [0.49152542, 0.50847458],\n",
       "       [0.49152542, 0.50847458],\n",
       "       [0.49152542, 0.50847458],\n",
       "       [0.49152542, 0.50847458],\n",
       "       [0.49152542, 0.50847458],\n",
       "       [0.49152542, 0.50847458],\n",
       "       [0.49152542, 0.50847458],\n",
       "       [0.49152542, 0.50847458],\n",
       "       [0.49152542, 0.50847458],\n",
       "       [0.49152542, 0.50847458],\n",
       "       [0.49152542, 0.50847458],\n",
       "       [0.49152542, 0.50847458],\n",
       "       [0.49152542, 0.50847458],\n",
       "       [0.49152542, 0.50847458],\n",
       "       [0.49152542, 0.50847458],\n",
       "       [0.49152542, 0.50847458],\n",
       "       [0.49152542, 0.50847458],\n",
       "       [0.49152542, 0.50847458],\n",
       "       [0.49152542, 0.50847458],\n",
       "       [0.49152542, 0.50847458],\n",
       "       [0.49152542, 0.50847458],\n",
       "       [0.49152542, 0.50847458],\n",
       "       [0.49152542, 0.50847458],\n",
       "       [0.49152542, 0.50847458],\n",
       "       [0.49152542, 0.50847458],\n",
       "       [0.49152542, 0.50847458],\n",
       "       [0.49152542, 0.50847458],\n",
       "       [0.49152542, 0.50847458],\n",
       "       [0.49152542, 0.50847458],\n",
       "       [0.49152542, 0.50847458],\n",
       "       [0.49152542, 0.50847458],\n",
       "       [0.49152542, 0.50847458],\n",
       "       [0.49152542, 0.50847458],\n",
       "       [0.49152542, 0.50847458],\n",
       "       [0.49152542, 0.50847458],\n",
       "       [0.49152542, 0.50847458],\n",
       "       [0.49152542, 0.50847458],\n",
       "       [0.49152542, 0.50847458],\n",
       "       [0.49152542, 0.50847458],\n",
       "       [0.49152542, 0.50847458],\n",
       "       [0.49152542, 0.50847458],\n",
       "       [0.49152542, 0.50847458],\n",
       "       [0.49152542, 0.50847458],\n",
       "       [0.49152542, 0.50847458],\n",
       "       [0.49152542, 0.50847458],\n",
       "       [0.49152542, 0.50847458],\n",
       "       [0.49152542, 0.50847458],\n",
       "       [0.49152542, 0.50847458],\n",
       "       [0.49152542, 0.50847458],\n",
       "       [0.49152542, 0.50847458],\n",
       "       [0.49152542, 0.50847458],\n",
       "       [0.49152542, 0.50847458],\n",
       "       [0.49152542, 0.50847458],\n",
       "       [0.49152542, 0.50847458],\n",
       "       [0.49152542, 0.50847458],\n",
       "       [0.49152542, 0.50847458],\n",
       "       [0.49152542, 0.50847458],\n",
       "       [0.49152542, 0.50847458],\n",
       "       [0.49152542, 0.50847458],\n",
       "       [0.49152542, 0.50847458],\n",
       "       [0.49152542, 0.50847458],\n",
       "       [0.49152542, 0.50847458],\n",
       "       [0.49152542, 0.50847458],\n",
       "       [0.49152542, 0.50847458],\n",
       "       [0.49152542, 0.50847458],\n",
       "       [0.49152542, 0.50847458],\n",
       "       [0.49152542, 0.50847458],\n",
       "       [0.49152542, 0.50847458],\n",
       "       [0.49152542, 0.50847458],\n",
       "       [0.49152542, 0.50847458],\n",
       "       [0.49152542, 0.50847458],\n",
       "       [0.49152542, 0.50847458],\n",
       "       [0.49152542, 0.50847458],\n",
       "       [0.49152542, 0.50847458],\n",
       "       [0.49152542, 0.50847458],\n",
       "       [0.49152542, 0.50847458],\n",
       "       [0.49152542, 0.50847458],\n",
       "       [0.49152542, 0.50847458],\n",
       "       [0.49152542, 0.50847458],\n",
       "       [0.49152542, 0.50847458],\n",
       "       [0.49152542, 0.50847458],\n",
       "       [0.49152542, 0.50847458],\n",
       "       [0.49152542, 0.50847458],\n",
       "       [0.49152542, 0.50847458],\n",
       "       [0.49152542, 0.50847458],\n",
       "       [0.49152542, 0.50847458],\n",
       "       [0.49152542, 0.50847458],\n",
       "       [0.49152542, 0.50847458],\n",
       "       [0.49152542, 0.50847458],\n",
       "       [0.49152542, 0.50847458],\n",
       "       [0.49152542, 0.50847458],\n",
       "       [0.49152542, 0.50847458],\n",
       "       [0.49152542, 0.50847458],\n",
       "       [0.49152542, 0.50847458],\n",
       "       [0.49152542, 0.50847458],\n",
       "       [0.49152542, 0.50847458],\n",
       "       [0.49152542, 0.50847458],\n",
       "       [0.49152542, 0.50847458],\n",
       "       [0.49152542, 0.50847458],\n",
       "       [0.49152542, 0.50847458]])"
      ]
     },
     "execution_count": 95,
     "metadata": {},
     "output_type": "execute_result"
    }
   ],
   "source": [
    "Y_prob = cls.predict_proba(X)\n",
    "Y_prob"
   ]
  },
  {
   "cell_type": "code",
   "execution_count": 96,
   "metadata": {},
   "outputs": [
    {
     "data": {
      "text/plain": [
       "array([0, 0, 0, 0, 0, 0, 0, 0, 0, 0, 0, 0, 0, 0, 0, 0, 0, 0, 0, 0, 0, 0,\n",
       "       0, 0, 0, 0, 0, 0, 0, 0, 0, 0, 0, 0, 0, 0, 0, 0, 0, 0, 0, 0, 0, 0,\n",
       "       0, 0, 0, 0, 0, 0, 0, 0, 0, 0, 0, 0, 0, 0, 0, 0, 0, 0, 0, 0, 0, 0,\n",
       "       0, 0, 0, 0, 0, 0, 0, 0, 0, 0, 0, 0, 0, 0, 0, 0, 0, 0, 0, 0, 0, 0,\n",
       "       0, 0, 0, 0, 0, 0, 0, 0, 0, 0, 0, 0, 0, 0, 0, 0, 0, 0, 0, 0, 0, 0,\n",
       "       0, 0, 0, 0, 0, 0, 0, 0])"
      ]
     },
     "execution_count": 96,
     "metadata": {},
     "output_type": "execute_result"
    }
   ],
   "source": [
    "Y_hat = cls.predict(X)\n",
    "Y_hat"
   ]
  },
  {
   "cell_type": "code",
   "execution_count": 97,
   "metadata": {},
   "outputs": [
    {
     "data": {
      "text/plain": [
       "0.5084745762711864"
      ]
     },
     "execution_count": 97,
     "metadata": {},
     "output_type": "execute_result"
    }
   ],
   "source": [
    "accuracy_score(Y, Y_hat)"
   ]
  },
  {
   "cell_type": "code",
   "execution_count": 98,
   "metadata": {},
   "outputs": [
    {
     "name": "stderr",
     "output_type": "stream",
     "text": [
      "C:\\Users\\MarKson\\AppData\\Local\\Temp\\ipykernel_16908\\1714921773.py:10: UserWarning: No contour levels were found within the data range.\n",
      "  ax.contour(xx1, xx2, Z, levels=[threshold], colors='black')\n"
     ]
    },
    {
     "data": {
      "image/png": "[encoded data removed]",
      "text/plain": [
       "<Figure size 432x288 with 1 Axes>"
      ]
     },
     "metadata": {
      "needs_background": "light"
     },
     "output_type": "display_data"
    }
   ],
   "source": [
    "plot_data(X, Y)\n",
    "plot_surface(cls, X[:, 0], X[:, 1])"
   ]
  },
  {
   "cell_type": "markdown",
   "metadata": {},
   "source": [
    "Зверніть увагу на границю прийняття рішення. Модель старається побудувати складну криву, що може свідчити про її перетренування. Порівняйте отримані результати з класом з sklearn. Спробуйте додати нові шари для нашого класу та порівняти результати тоді. Поекспериментуйте з гіперпараметрами для обох класів."
   ]
  },
  {
   "cell_type": "code",
   "execution_count": 99,
   "metadata": {},
   "outputs": [],
   "source": [
    "from sklearn.neural_network import MLPClassifier\n",
    "clf = MLPClassifier(hidden_layer_sizes = (20,), max_iter = 10000)#, activation = 'logistic', solver = 'sgd', learning_rate_init = 0.01, learning_rate = 'constant')"
   ]
  },
  {
   "cell_type": "code",
   "execution_count": 100,
   "metadata": {},
   "outputs": [
    {
     "data": {
      "text/plain": [
       "MLPClassifier(hidden_layer_sizes=(20,), max_iter=10000)"
      ]
     },
     "execution_count": 100,
     "metadata": {},
     "output_type": "execute_result"
    }
   ],
   "source": [
    "clf.fit(X, Y)"
   ]
  },
  {
   "cell_type": "code",
   "execution_count": 101,
   "metadata": {},
   "outputs": [
    {
     "data": {
      "image/png": "[encoded data removed]",
      "text/plain": [
       "<Figure size 432x288 with 1 Axes>"
      ]
     },
     "metadata": {
      "needs_background": "light"
     },
     "output_type": "display_data"
    }
   ],
   "source": [
    "plot_data(X, Y)\n",
    "plot_surface(clf, X[:, 0], X[:, 1])"
   ]
  },
  {
   "cell_type": "code",
   "execution_count": 102,
   "metadata": {},
   "outputs": [
    {
     "data": {
      "text/plain": [
       "0.8559322033898306"
      ]
     },
     "execution_count": 102,
     "metadata": {},
     "output_type": "execute_result"
    }
   ],
   "source": [
    "accuracy_score(Y, clf.predict(X))"
   ]
  },
  {
   "cell_type": "code",
   "execution_count": 103,
   "metadata": {},
   "outputs": [
    {
     "data": {
      "text/plain": [
       "1814"
      ]
     },
     "execution_count": 103,
     "metadata": {},
     "output_type": "execute_result"
    }
   ],
   "source": [
    "clf.n_iter_"
   ]
  }
 ],
 "metadata": {
  "anaconda-cloud": {},
  "kernelspec": {
   "display_name": "Python 3",
   "language": "python",
   "name": "python3"
  },
  "language_info": {
   "codemirror_mode": {
    "name": "ipython",
    "version": 3
   },
   "file_extension": ".py",
   "mimetype": "text/x-python",
   "name": "python",
   "nbconvert_exporter": "python",
   "pygments_lexer": "ipython3",
   "version": "3.10.2"
  }
 },
 "nbformat": 4,
 "nbformat_minor": 1
}
