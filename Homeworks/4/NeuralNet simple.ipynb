{
 "cells": [
  {
   "cell_type": "markdown",
   "metadata": {},
   "source": [
    "В цій практичній роботі ми спробуємо реалізувати нейронну мережу з двох шарів (прихований і вихідний). Запропонований підхід стане заготовкою для реалізації наступних оптимізацій: MBGD, ADAM та регуляризації. \n",
    "\n",
    "Сьогодні ж вам пропонується додати до цього класу підтримку довільної кількості шарів та нейронів в них (наприклад, передавати їх параметром в конструктор, як це робиться в MLPClassifier за допомогою hidden_layer_sizes). Також потрібно передбачити можливість ранньої зупинки ітераційного процесу, якщо значення штрафної функції не покращуватиметься протягом певної кількості ітерацій. Наприклад, якщо протягом $k$ ітерацій штрафна функція за модулем не стане меншою, ніж на поточному кроці."
   ]
  },
  {
   "cell_type": "code",
   "execution_count": 1,
   "metadata": {},
   "outputs": [],
   "source": [
    "import numpy as np\n",
    "import pandas as pd\n",
    "from sklearn.model_selection import train_test_split\n",
    "from mpl_toolkits.mplot3d import Axes3D\n",
    "import matplotlib.pyplot as plt\n",
    "\n",
    "from matplotlib.colors import ListedColormap\n",
    "cm_bright = ListedColormap(['#FF0000', '#0000FF'])\n",
    "%matplotlib inline\n",
    "from sklearn.metrics import accuracy_score\n",
    "\n",
    "import sklearn.linear_model"
   ]
  },
  {
   "cell_type": "code",
   "execution_count": 2,
   "metadata": {},
   "outputs": [],
   "source": [
    "def plot_surface(cls, x_1, x_2, ax=None, threshold=0.5, contourf=False):\n",
    "    xx1, xx2 = np.meshgrid(np.linspace(x_1.min(), x_1.max(), 100), \n",
    "                           np.linspace(x_2.min(), x_2.max(), 100))\n",
    "\n",
    "    X_pred = np.c_[xx1.ravel(), xx2.ravel()]\n",
    "    pred = cls.predict_proba(X_pred)[:, 0]\n",
    "    Z = pred.reshape((100, 100))\n",
    "    if ax is None:\n",
    "        ax = plt.gca()\n",
    "    ax.contour(xx1, xx2, Z, levels=[threshold], colors='black')\n",
    "    ax.set_xlim((x_1.min(), x_1.max()))\n",
    "    ax.set_ylim((x_2.min(), x_2.max()))"
   ]
  },
  {
   "cell_type": "code",
   "execution_count": 3,
   "metadata": {},
   "outputs": [],
   "source": [
    "def plot_data(X, y):\n",
    "    ax = plt.gca()\n",
    "    ax.scatter(X[:,0], X[:,1], c=(y == 1), cmap=cm_bright)"
   ]
  },
  {
   "cell_type": "code",
   "execution_count": 4,
   "metadata": {},
   "outputs": [],
   "source": [
    "class NeuralNet:\n",
    "    \"\"\"\n",
    "    NN for binary classification\n",
    "    Attributes:\n",
    "    ...\n",
    "    \"\"\"\n",
    "    \n",
    "    def __init__(self, normalize = True, learning_rate = 0.01, num_iter = 30000):\n",
    "        self.learning_rate = learning_rate\n",
    "        self.num_iter = num_iter\n",
    "        self.normalize = normalize\n",
    "    \n",
    "    def __normalize(self, X, mean = None, std = None):\n",
    "        \"\"\"\n",
    "        Зверніть увагу, що нормалізація вхідних даних є дуже важливою для швидкодії нейронних мереж.\n",
    "        \"\"\"\n",
    "        n = X.shape[0]\n",
    "        m = mean\n",
    "        if m is None:\n",
    "            m = np.mean(X, axis=1).reshape((n, 1))\n",
    "        s = std\n",
    "        if s is None:\n",
    "            s = np.std(X, axis=1).reshape((n, 1))\n",
    "        X_new = (X - m) / s\n",
    "        return X_new, m, s\n",
    "\n",
    "    def __sigmoid(self, Z):\n",
    "        \"\"\"\n",
    "        В наступних практичних потрібно буде додати підтримку й інших активаційних функцій - це один з гіперпараметрів. \n",
    "        Їх можна вибирати для всіх шарів одночасно або мати різні активаційні функції на кожному з них.\n",
    "        \"\"\"\n",
    "        return 1 / (1 + np.exp(-Z))\n",
    "    \n",
    "    def __initialize_parameters(self, n_x, n_1):\n",
    "        W1 = np.random.randn(n_1, n_x) * 0.01\n",
    "        b1 = np.zeros((n_1, 1))\n",
    "        W2 = np.random.randn(1, n_1) * 0.01\n",
    "        b2 = 0 # у вихідному шарі лише 1 нейрон\n",
    "        self.parameters = {\"W1\" : W1, \"b1\" : b1, \"W2\" : W2, \"b2\" : b2}\n",
    "       \n",
    "    def __forward_propagation(self, X):\n",
    "        W1 = self.parameters[\"W1\"]\n",
    "        b1 = self.parameters[\"b1\"]\n",
    "        W2 = self.parameters[\"W2\"]\n",
    "        b2 = self.parameters[\"b2\"]\n",
    "\n",
    "        Z1 = np.dot(W1, X) + b1\n",
    "        A1 = self.__sigmoid(Z1)\n",
    "\n",
    "        Z2 = np.dot(W2, A1) + b2\n",
    "        A2 = self.__sigmoid(Z2)\n",
    "\n",
    "        \n",
    "        cache = (W1, b1, W2, b2, Z1, A1, Z2, A2)\n",
    "\n",
    "        return A2, cache\n",
    "    \n",
    "    def compute_cost(self, A, Y):\n",
    "        m = Y.shape[1]\n",
    "        res = Y * np.log(A) + (1 - Y) * np.log(1 - A)\n",
    "        J = -(1 / m) * np.sum(res)\n",
    "        return J\n",
    "        \n",
    "    def __backward_propagation(self, X, Y, cache):\n",
    "        m = X.shape[1]\n",
    "        n = X.shape[0]\n",
    "        (W1, b1, W2, b2, Z1, A1, Z2, A2) = cache\n",
    "        \n",
    "        dZ2 = A2 - Y\n",
    "        dW2 = 1. / m * np.dot(dZ2, A1.T)\n",
    "        db2 = 1. / m * np.sum(dZ2, axis = 1, keepdims = True)\n",
    "        \n",
    "        dA1 = np.dot(W2.T, dZ2)\n",
    "        dZ1 = np.multiply(dA1, np.multiply(A1, 1 - A1))\n",
    "        dW1 = 1. / m * np.dot(dZ1, X.T)\n",
    "        db1 = 1. / m * np.sum(dZ1, axis = 1, keepdims = True)\n",
    "        \n",
    "\n",
    "        grads = {\"dZ1\" : dZ1, \"dW1\" : dW1, \"db1\" : db1, \"dZ2\" : dZ2, \"dW2\" : dW2, \"db2\" : db2}\n",
    "        return grads\n",
    "    \n",
    "    def __update_parameters(self, grads):\n",
    "        W1 = self.parameters[\"W1\"]\n",
    "        b1 = self.parameters[\"b1\"]\n",
    "        W2 = self.parameters[\"W2\"]\n",
    "        b2 = self.parameters[\"b2\"]\n",
    "\n",
    "        dW1 = grads[\"dW1\"]\n",
    "        db1 = grads[\"db1\"]\n",
    "        dW2 = grads[\"dW2\"]\n",
    "        db2 = grads[\"db2\"]\n",
    "        \n",
    "\n",
    "        self.parameters[\"W1\"] = W1 - self.learning_rate * dW1\n",
    "        self.parameters[\"b1\"] = b1 - self.learning_rate * db1\n",
    "        self.parameters[\"W2\"] = W2 - self.learning_rate * dW2\n",
    "        self.parameters[\"b2\"] = b2 - self.learning_rate * db2\n",
    "\n",
    "        \n",
    "    def fit(self, X_vert, Y_vert, print_cost = True):\n",
    "        \n",
    "        X, Y = X_vert.T, Y_vert.T\n",
    "        \n",
    "        if self.normalize:\n",
    "            X, self.__mean, self.__std = self.__normalize(X)\n",
    "        \n",
    "        costs = []\n",
    "        \n",
    "        m = X.shape[1]\n",
    "        n_x = X.shape[0]\n",
    "        \n",
    "        self.__initialize_parameters(n_x, 20)\n",
    "\n",
    "        for i in range(self.num_iter):\n",
    "            A, cache = self.__forward_propagation(X)\n",
    "\n",
    "            cost = self.compute_cost(A, Y)\n",
    "\n",
    "            grads = self.__backward_propagation(X, Y, cache)\n",
    "\n",
    "            self.__update_parameters(grads)\n",
    "\n",
    "            if print_cost and i % 1000 == 0:\n",
    "                print(\"{}-th iteration: {}\".format(i, cost))\n",
    "\n",
    "            if i % 1000 == 0:\n",
    "                costs.append(cost)\n",
    "\n",
    "        if print_cost:\n",
    "            plt.plot(costs)\n",
    "            plt.ylabel(\"Cost\")\n",
    "            plt.xlabel(\"Iteration, *1000\")\n",
    "            plt.show()\n",
    "    \n",
    "    def predict_proba(self, X_vert):\n",
    "        X = X_vert.T\n",
    "        if self.normalize:\n",
    "            X, _, _ = self.__normalize(X, self.__mean, self.__std)\n",
    "        \n",
    "        probs = self.__forward_propagation(X)[0]\n",
    "        \n",
    "        return np.column_stack((probs.T, 1 - probs.T))\n",
    "    \n",
    "    def predict(self, X_vert):\n",
    "        positive_probs = self.predict_proba(X_vert)[:, 0]\n",
    "        return (positive_probs >= 0.5).astype(int)   \n"
   ]
  },
  {
   "cell_type": "markdown",
   "metadata": {},
   "source": [
    "Спочатку спробуйте цей клас на одній задачі, а потім на іншій."
   ]
  },
  {
   "cell_type": "code",
   "execution_count": 5,
   "metadata": {},
   "outputs": [],
   "source": [
    "#data_columns = [\"exam1\", \"exam2\"]\n",
    "#target_column = \"submitted\"\n",
    "#df = pd.read_csv(\"sats.csv\")\n",
    "#X, Y = df[data_columns].values, df[target_column].reshape((df.shape[0], 1))\n",
    "#print('Training set: X={}, y={}'.format(X.shape, Y.shape))"
   ]
  },
  {
   "cell_type": "code",
   "execution_count": 6,
   "metadata": {},
   "outputs": [
    {
     "name": "stdout",
     "output_type": "stream",
     "text": [
      "Training set: X=(118, 2), y=(118,)\n"
     ]
    }
   ],
   "source": [
    "data_columns = [\"test1\", \"test2\"]\n",
    "target_column = \"passed\"\n",
    "df = pd.read_csv(\"tests.csv\")\n",
    "X, Y = df[data_columns].values, df[target_column]\n",
    "print('Training set: X={}, y={}'.format(X.shape, Y.shape))"
   ]
  },
  {
   "cell_type": "code",
   "execution_count": 7,
   "metadata": {},
   "outputs": [
    {
     "data": {
      "image/png": "[encoded data removed]",
      "text/plain": [
       "<Figure size 432x288 with 1 Axes>"
      ]
     },
     "metadata": {
      "needs_background": "light"
     },
     "output_type": "display_data"
    }
   ],
   "source": [
    "plot_data(X, Y)"
   ]
  },
  {
   "cell_type": "code",
   "execution_count": 8,
   "metadata": {},
   "outputs": [],
   "source": [
    "cls = NeuralNet(normalize = True, learning_rate = 0.5, num_iter = 4000)"
   ]
  },
  {
   "cell_type": "code",
   "execution_count": 9,
   "metadata": {},
   "outputs": [
    {
     "name": "stdout",
     "output_type": "stream",
     "text": [
      "0-th iteration: 0.6930620533710502\n",
      "1000-th iteration: 0.6901557652892701\n",
      "2000-th iteration: 0.6740578219741026\n",
      "3000-th iteration: 0.5795189173000207\n"
     ]
    },
    {
     "data": {
      "image/png": "[encoded data removed]",
      "text/plain": [
       "<Figure size 432x288 with 1 Axes>"
      ]
     },
     "metadata": {
      "needs_background": "light"
     },
     "output_type": "display_data"
    }
   ],
   "source": [
    "cls.fit(X, Y.values.reshape((df.shape[0], 1)))"
   ]
  },
  {
   "cell_type": "code",
   "execution_count": 10,
   "metadata": {},
   "outputs": [
    {
     "name": "stdout",
     "output_type": "stream",
     "text": [
      "{'W1': array([[-1.22323891e+00,  3.73128929e-01],\n",
      "       [-8.44265936e-01, -4.17067300e-02],\n",
      "       [-6.55803465e-01,  9.71615626e-02],\n",
      "       [ 1.02148524e+00, -2.56105756e+00],\n",
      "       [-3.65341922e-01,  5.98542218e-03],\n",
      "       [-6.53413438e-01,  6.47761188e-02],\n",
      "       [-3.74190625e-01, -4.28468249e-03],\n",
      "       [-1.26551235e+00,  3.56843393e-01],\n",
      "       [-3.49621524e+00, -2.89062392e+00],\n",
      "       [-1.67161550e+00,  4.91498397e-01],\n",
      "       [ 5.02614677e-02, -9.96121133e-01],\n",
      "       [ 4.62264438e-02, -2.73345164e+00],\n",
      "       [-1.90176827e-01,  3.38419421e-02],\n",
      "       [-1.46553709e+00,  4.82957565e-01],\n",
      "       [-3.61588209e-01,  8.27257515e-03],\n",
      "       [-6.95414110e-01,  8.90066739e-02],\n",
      "       [-1.58680551e+00,  4.55142034e-01],\n",
      "       [-1.80931408e+00,  2.69493288e-01],\n",
      "       [-5.72986851e-01,  3.27883425e-02],\n",
      "       [-3.58828801e-01,  1.25678271e-03]]), 'b1': array([[-0.97904291],\n",
      "       [-0.63397516],\n",
      "       [-0.40022573],\n",
      "       [-2.8642385 ],\n",
      "       [-0.12162356],\n",
      "       [-0.4028247 ],\n",
      "       [-0.13645998],\n",
      "       [-1.02104359],\n",
      "       [ 3.55055021],\n",
      "       [-1.56485132],\n",
      "       [-0.72712669],\n",
      "       [-2.00138102],\n",
      "       [ 0.02785268],\n",
      "       [-1.29251596],\n",
      "       [-0.11656375],\n",
      "       [-0.44111751],\n",
      "       [-1.43197053],\n",
      "       [-1.63551401],\n",
      "       [-0.3273142 ],\n",
      "       [-0.1186807 ]]), 'W2': array([[-1.12548752, -0.68282401, -0.49337649, -4.59849698, -0.22947055,\n",
      "        -0.49693674, -0.24226169, -1.17284941,  8.39761657, -1.86813966,\n",
      "        -0.71753849, -3.38984223, -0.03107266, -1.51827049, -0.22485836,\n",
      "        -0.53283289, -1.69193606, -1.93707411, -0.42648135, -0.22451997]]), 'b2': array([[0.30118487]])}\n"
     ]
    }
   ],
   "source": [
    "print(cls.parameters)"
   ]
  },
  {
   "cell_type": "code",
   "execution_count": 11,
   "metadata": {},
   "outputs": [
    {
     "data": {
      "text/plain": [
       "array([[0.50104294, 0.49895706],\n",
       "       [0.64361626, 0.35638374],\n",
       "       [0.21146422, 0.78853578],\n",
       "       [0.26118734, 0.73881266],\n",
       "       [0.20979647, 0.79020353],\n",
       "       [0.82230018, 0.17769982],\n",
       "       [0.12893761, 0.87106239],\n",
       "       [0.36406651, 0.63593349],\n",
       "       [0.83115118, 0.16884882],\n",
       "       [0.85297129, 0.14702871],\n",
       "       [0.9370799 , 0.0629201 ],\n",
       "       [0.44263078, 0.55736922],\n",
       "       [0.28399028, 0.71600972],\n",
       "       [0.23375692, 0.76624308],\n",
       "       [0.75292525, 0.24707475],\n",
       "       [0.3505815 , 0.6494185 ],\n",
       "       [0.37672585, 0.62327415],\n",
       "       [0.76080544, 0.23919456],\n",
       "       [0.63171002, 0.36828998],\n",
       "       [0.26777515, 0.73222485],\n",
       "       [0.94934448, 0.05065552],\n",
       "       [0.73599255, 0.26400745],\n",
       "       [0.56421518, 0.43578482],\n",
       "       [0.14426796, 0.85573204],\n",
       "       [0.36660337, 0.63339663],\n",
       "       [0.78409551, 0.21590449],\n",
       "       [0.28470591, 0.71529409],\n",
       "       [0.51669448, 0.48330552],\n",
       "       [0.38096826, 0.61903174],\n",
       "       [0.68586857, 0.31413143],\n",
       "       [0.9179114 , 0.0820886 ],\n",
       "       [0.4596496 , 0.5403504 ],\n",
       "       [0.36160068, 0.63839932],\n",
       "       [0.72012092, 0.27987908],\n",
       "       [0.2023902 , 0.7976098 ],\n",
       "       [0.65826228, 0.34173772],\n",
       "       [0.37680037, 0.62319963],\n",
       "       [0.09701181, 0.90298819],\n",
       "       [0.97733704, 0.02266296],\n",
       "       [0.22252575, 0.77747425],\n",
       "       [0.12729624, 0.87270376],\n",
       "       [0.57907315, 0.42092685],\n",
       "       [0.12767856, 0.87232144],\n",
       "       [0.42202203, 0.57797797],\n",
       "       [0.25657119, 0.74342881],\n",
       "       [0.77898087, 0.22101913],\n",
       "       [0.14460473, 0.85539527],\n",
       "       [0.25936029, 0.74063971],\n",
       "       [0.24510453, 0.75489547],\n",
       "       [0.15098363, 0.84901637],\n",
       "       [0.69730945, 0.30269055],\n",
       "       [0.2426921 , 0.7573079 ],\n",
       "       [0.82376494, 0.17623506],\n",
       "       [0.06791163, 0.93208837],\n",
       "       [0.47401966, 0.52598034],\n",
       "       [0.38493962, 0.61506038],\n",
       "       [0.07037217, 0.92962783],\n",
       "       [0.40212414, 0.59787586],\n",
       "       [0.43655131, 0.56344869],\n",
       "       [0.66763772, 0.33236228],\n",
       "       [0.51426483, 0.48573517],\n",
       "       [0.93018062, 0.06981938],\n",
       "       [0.06202203, 0.93797797],\n",
       "       [0.27618281, 0.72381719],\n",
       "       [0.890636  , 0.109364  ],\n",
       "       [0.83493335, 0.16506665],\n",
       "       [0.06532562, 0.93467438],\n",
       "       [0.22812816, 0.77187184],\n",
       "       [0.43813898, 0.56186102],\n",
       "       [0.20337123, 0.79662877],\n",
       "       [0.90064111, 0.09935889],\n",
       "       [0.49146311, 0.50853689],\n",
       "       [0.91896046, 0.08103954],\n",
       "       [0.80524616, 0.19475384],\n",
       "       [0.47517533, 0.52482467],\n",
       "       [0.93789428, 0.06210572],\n",
       "       [0.55281916, 0.44718084],\n",
       "       [0.74487819, 0.25512181],\n",
       "       [0.45784808, 0.54215192],\n",
       "       [0.73692916, 0.26307084],\n",
       "       [0.20535394, 0.79464606],\n",
       "       [0.94078498, 0.05921502],\n",
       "       [0.93794343, 0.06205657],\n",
       "       [0.37157924, 0.62842076],\n",
       "       [0.55379827, 0.44620173],\n",
       "       [0.40979162, 0.59020838],\n",
       "       [0.28750737, 0.71249263],\n",
       "       [0.3385842 , 0.6614158 ],\n",
       "       [0.56818813, 0.43181187],\n",
       "       [0.0513507 , 0.9486493 ],\n",
       "       [0.32877281, 0.67122719],\n",
       "       [0.89890847, 0.10109153],\n",
       "       [0.91876   , 0.08124   ],\n",
       "       [0.06958434, 0.93041566],\n",
       "       [0.26651697, 0.73348303],\n",
       "       [0.20244512, 0.79755488],\n",
       "       [0.87563969, 0.12436031],\n",
       "       [0.23818401, 0.76181599],\n",
       "       [0.22439732, 0.77560268],\n",
       "       [0.67695388, 0.32304612],\n",
       "       [0.89975703, 0.10024297],\n",
       "       [0.9686677 , 0.0313323 ],\n",
       "       [0.60047712, 0.39952288],\n",
       "       [0.17412451, 0.82587549],\n",
       "       [0.07787211, 0.92212789],\n",
       "       [0.86216806, 0.13783194],\n",
       "       [0.23250021, 0.76749979],\n",
       "       [0.55388613, 0.44611387],\n",
       "       [0.70741172, 0.29258828],\n",
       "       [0.90545738, 0.09454262],\n",
       "       [0.32543641, 0.67456359],\n",
       "       [0.56046824, 0.43953176],\n",
       "       [0.13618513, 0.86381487],\n",
       "       [0.88193087, 0.11806913],\n",
       "       [0.43857626, 0.56142374],\n",
       "       [0.69332023, 0.30667977],\n",
       "       [0.37424028, 0.62575972],\n",
       "       [0.23167404, 0.76832596]])"
      ]
     },
     "execution_count": 11,
     "metadata": {},
     "output_type": "execute_result"
    }
   ],
   "source": [
    "Y_prob = cls.predict_proba(X)\n",
    "Y_prob"
   ]
  },
  {
   "cell_type": "code",
   "execution_count": 12,
   "metadata": {},
   "outputs": [
    {
     "data": {
      "text/plain": [
       "array([1, 1, 0, 0, 0, 1, 0, 0, 1, 1, 1, 0, 0, 0, 1, 0, 0, 1, 1, 0, 1, 1,\n",
       "       1, 0, 0, 1, 0, 1, 0, 1, 1, 0, 0, 1, 0, 1, 0, 0, 1, 0, 0, 1, 0, 0,\n",
       "       0, 1, 0, 0, 0, 0, 1, 0, 1, 0, 0, 0, 0, 0, 0, 1, 1, 1, 0, 0, 1, 1,\n",
       "       0, 0, 0, 0, 1, 0, 1, 1, 0, 1, 1, 1, 0, 1, 0, 1, 1, 0, 1, 0, 0, 0,\n",
       "       1, 0, 0, 1, 1, 0, 0, 0, 1, 0, 0, 1, 1, 1, 1, 0, 0, 1, 0, 1, 1, 1,\n",
       "       0, 1, 0, 1, 0, 1, 0, 0])"
      ]
     },
     "execution_count": 12,
     "metadata": {},
     "output_type": "execute_result"
    }
   ],
   "source": [
    "Y_hat = cls.predict(X)\n",
    "Y_hat"
   ]
  },
  {
   "cell_type": "code",
   "execution_count": 13,
   "metadata": {},
   "outputs": [
    {
     "data": {
      "text/plain": [
       "0.8220338983050848"
      ]
     },
     "execution_count": 13,
     "metadata": {},
     "output_type": "execute_result"
    }
   ],
   "source": [
    "accuracy_score(Y, Y_hat)"
   ]
  },
  {
   "cell_type": "code",
   "execution_count": 14,
   "metadata": {},
   "outputs": [
    {
     "data": {
      "image/png": "[encoded data removed]",
      "text/plain": [
       "<Figure size 432x288 with 1 Axes>"
      ]
     },
     "metadata": {
      "needs_background": "light"
     },
     "output_type": "display_data"
    }
   ],
   "source": [
    "plot_data(X, Y)\n",
    "plot_surface(cls, X[:, 0], X[:, 1])"
   ]
  },
  {
   "cell_type": "markdown",
   "metadata": {},
   "source": [
    "Зверніть увагу на границю прийняття рішення. Модель старається побудувати складну криву, що може свідчити про її перетренування. Порівняйте отримані результати з класом з sklearn. Спробуйте додати нові шари для нашого класу та порівняти результати тоді. Поекспериментуйте з гіперпараметрами для обох класів."
   ]
  },
  {
   "cell_type": "code",
   "execution_count": 15,
   "metadata": {},
   "outputs": [],
   "source": [
    "from sklearn.neural_network import MLPClassifier\n",
    "clf = MLPClassifier(hidden_layer_sizes = (20,), max_iter = 10000)#, activation = 'logistic', solver = 'sgd', learning_rate_init = 0.01, learning_rate = 'constant')"
   ]
  },
  {
   "cell_type": "code",
   "execution_count": 16,
   "metadata": {},
   "outputs": [
    {
     "data": {
      "text/plain": [
       "MLPClassifier(hidden_layer_sizes=(20,), max_iter=10000)"
      ]
     },
     "execution_count": 16,
     "metadata": {},
     "output_type": "execute_result"
    }
   ],
   "source": [
    "clf.fit(X, Y)"
   ]
  },
  {
   "cell_type": "code",
   "execution_count": 17,
   "metadata": {},
   "outputs": [
    {
     "data": {
      "image/png": "[encoded data removed]",
      "text/plain": [
       "<Figure size 432x288 with 1 Axes>"
      ]
     },
     "metadata": {
      "needs_background": "light"
     },
     "output_type": "display_data"
    }
   ],
   "source": [
    "plot_data(X, Y)\n",
    "plot_surface(clf, X[:, 0], X[:, 1])"
   ]
  },
  {
   "cell_type": "code",
   "execution_count": 18,
   "metadata": {},
   "outputs": [
    {
     "data": {
      "text/plain": [
       "0.8305084745762712"
      ]
     },
     "execution_count": 18,
     "metadata": {},
     "output_type": "execute_result"
    }
   ],
   "source": [
    "accuracy_score(Y, clf.predict(X))"
   ]
  },
  {
   "cell_type": "code",
   "execution_count": 19,
   "metadata": {},
   "outputs": [
    {
     "data": {
      "text/plain": [
       "1457"
      ]
     },
     "execution_count": 19,
     "metadata": {},
     "output_type": "execute_result"
    }
   ],
   "source": [
    "clf.n_iter_"
   ]
  }
 ],
 "metadata": {
  "anaconda-cloud": {},
  "kernelspec": {
   "display_name": "Python 3",
   "language": "python",
   "name": "python3"
  },
  "language_info": {
   "codemirror_mode": {
    "name": "ipython",
    "version": 3
   },
   "file_extension": ".py",
   "mimetype": "text/x-python",
   "name": "python",
   "nbconvert_exporter": "python",
   "pygments_lexer": "ipython3",
   "version": "3.10.2"
  }
 },
 "nbformat": 4,
 "nbformat_minor": 1
}
