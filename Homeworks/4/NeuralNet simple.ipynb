{
 "cells": [
  {
   "cell_type": "markdown",
   "metadata": {},
   "source": [
    "В цій практичній роботі ми спробуємо реалізувати нейронну мережу з двох шарів (прихований і вихідний). Запропонований підхід стане заготовкою для реалізації наступних оптимізацій: MBGD, ADAM та регуляризації. \n",
    "\n",
    "Сьогодні ж вам пропонується додати до цього класу підтримку довільної кількості шарів та нейронів в них (наприклад, передавати їх параметром в конструктор, як це робиться в MLPClassifier за допомогою hidden_layer_sizes). Також потрібно передбачити можливість ранньої зупинки ітераційного процесу, якщо значення штрафної функції не покращуватиметься протягом певної кількості ітерацій. Наприклад, якщо протягом $k$ ітерацій штрафна функція за модулем не стане меншою, ніж на поточному кроці."
   ]
  },
  {
   "cell_type": "code",
   "execution_count": 41,
   "metadata": {},
   "outputs": [],
   "source": [
    "import numpy as np\n",
    "import pandas as pd\n",
    "from sklearn.model_selection import train_test_split\n",
    "from mpl_toolkits.mplot3d import Axes3D\n",
    "import matplotlib.pyplot as plt\n",
    "\n",
    "from matplotlib.colors import ListedColormap\n",
    "cm_bright = ListedColormap(['#FF0000', '#0000FF'])\n",
    "%matplotlib inline\n",
    "from sklearn.metrics import accuracy_score\n",
    "\n",
    "import sklearn.linear_model"
   ]
  },
  {
   "cell_type": "code",
   "execution_count": 42,
   "metadata": {},
   "outputs": [],
   "source": [
    "def plot_surface(cls, x_1, x_2, ax=None, threshold=0.5, contourf=False):\n",
    "    xx1, xx2 = np.meshgrid(np.linspace(x_1.min(), x_1.max(), 100), \n",
    "                           np.linspace(x_2.min(), x_2.max(), 100))\n",
    "\n",
    "    X_pred = np.c_[xx1.ravel(), xx2.ravel()]\n",
    "    pred = cls.predict_proba(X_pred)[:, 0]\n",
    "    Z = pred.reshape((100, 100))\n",
    "    if ax is None:\n",
    "        ax = plt.gca()\n",
    "    ax.contour(xx1, xx2, Z, levels=[threshold], colors='black')\n",
    "    ax.set_xlim((x_1.min(), x_1.max()))\n",
    "    ax.set_ylim((x_2.min(), x_2.max()))"
   ]
  },
  {
   "cell_type": "code",
   "execution_count": 43,
   "metadata": {},
   "outputs": [],
   "source": [
    "def plot_data(X, y):\n",
    "    ax = plt.gca()\n",
    "    ax.scatter(X[:,0], X[:,1], c=(y == 1), cmap=cm_bright)"
   ]
  },
  {
   "cell_type": "code",
   "execution_count": 44,
   "metadata": {},
   "outputs": [],
   "source": [
    "class NeuralNet:\n",
    "    \"\"\"\n",
    "    NN for binary classification\n",
    "    Attributes:\n",
    "    ...\n",
    "    \"\"\"\n",
    "    \n",
    "    def __init__(self, hidden_layer_sizes, normalize = True, learning_rate = 0.01, num_iter = 30000, eps = 10**-2):\n",
    "        self.layer_sizes = hidden_layer_sizes \n",
    "        self.layers_count = len(self.layer_sizes) + 1\n",
    "        self.normalize = normalize \n",
    "        self.learning_rate = learning_rate\n",
    "        self.num_iter = num_iter\n",
    "        self.eps = eps\n",
    "        \n",
    "        self.COST_APPEND_T = 1\n",
    "        \n",
    "    def __normalize(self, X, mean = None, std = None):\n",
    "        m = mean\n",
    "        if m is None:\n",
    "            m = np.array([np.mean(X, axis=1)]).T\n",
    "        s = std\n",
    "        if s is None:\n",
    "            s = np.array([np.std(X, axis=1)]).T\n",
    "        X_new = (X - m) / s\n",
    "        return X_new, m, s\n",
    "\n",
    "    def __sigmoid(self, Z):\n",
    "        return 1 / (1 + np.exp(-Z))\n",
    "    \n",
    "    def __initialize_parameters(self):\n",
    "        self.parameters = {}\n",
    "        n_i = self.layer_sizes\n",
    "        for i in range(1, self.layers_count + 1):\n",
    "            self.parameters[f\"W{i}\"] = np.random.randn(n_i[i], n_i[i - 1]) * np.sqrt(2/n_i[i - 1])\n",
    "            self.parameters[f\"b{i}\"] = np.zeros((n_i[i], 1))\n",
    "       \n",
    "    def __forward_propagation(self, X):\n",
    "        cache = {\"A0\" : X}\n",
    "        for i in range(1, self.layers_count + 1):\n",
    "            cache[f\"Z{i}\"] = np.dot(self.parameters[f\"W{i}\"], cache[f\"A{i - 1}\"]) + self.parameters[f\"b{i}\"]\n",
    "            cache[f\"A{i}\"] = self.__sigmoid(cache[f\"Z{i}\"])\n",
    "\n",
    "        return cache[f\"A{self.layers_count}\"], cache\n",
    "        \n",
    "\n",
    "    def compute_cost(self, A, Y):\n",
    "        m = Y.shape[1]\n",
    "        res = Y * np.log(A) + (1 - Y) * np.log(1 - A)\n",
    "        J = -(1 / m) * np.sum(res)\n",
    "        return J\n",
    "        \n",
    "    def __backward_propagation(self, X, Y, cache):\n",
    "        m = X.shape[1]\n",
    "        gradients = {}\n",
    "        for i in reversed(range(1, self.layers_count + 1)):\n",
    "            if i == self.layers_count:\n",
    "                gradients[f\"dZ{i}\"] = cache[f\"A{i}\"] - Y\n",
    "            else:\n",
    "                dAi = np.dot(self.parameters[f\"W{i + 1}\"].T, gradients[f\"dZ{i + 1}\"])\n",
    "                gradients[f\"dZ{i}\"] = np.multiply(dAi, cache[f\"A{i}\"] * (1 - cache[f\"A{i}\"]))\n",
    "                \n",
    "            gradients[f\"dW{i}\"] = (1/m) * np.dot (gradients[f\"dZ{i}\"], cache[f\"A{i - 1}\"].T)  \n",
    "            gradients[f\"db{i}\"] = (1/m) * np.sum(gradients[f\"dZ{i}\"], axis = 1, keepdims = True)\n",
    "                \n",
    "        return gradients\n",
    "    \n",
    "    def __update_parameters(self, gradients):\n",
    "        for i in range(1, self.layers_count + 1):\n",
    "            dWi = gradients[f\"dW{i}\"]\n",
    "            dbi = gradients[f\"db{i}\"]\n",
    "            self.parameters[f\"W{i}\"] -= self.learning_rate * dWi\n",
    "            self.parameters[f\"b{i}\"] -= self.learning_rate * dbi\n",
    "\n",
    "    def fit(self, X_vert, Y_vert, print_cost = True):\n",
    "        \n",
    "        X, Y = X_vert.T, Y_vert.T #Convert vertical to horizontal matrices\n",
    "        \n",
    "        if self.normalize: #Normalize\n",
    "            X, self.__mean, self.__std = self.__normalize(X)\n",
    "        \n",
    "        costs = [] #Costs log\n",
    "\n",
    "        if(len(self.layer_sizes) - 1 != self.layers_count):\n",
    "            self.layer_sizes.insert(0, X.shape[0]) #Input layer\n",
    "            self.layer_sizes.append(1) #Output layer\n",
    "        \n",
    "        self.__initialize_parameters()\n",
    "        print(self.parameters)\n",
    "\n",
    "        for i in range(self.num_iter):\n",
    "            A, cache = self.__forward_propagation(X)\n",
    "\n",
    "            cost = self.compute_cost(A, Y)\n",
    "\n",
    "            gradients = self.__backward_propagation(X, Y, cache)\n",
    "\n",
    "            self.__update_parameters(gradients)\n",
    "\n",
    "            #OUTPUT\n",
    "            if print_cost and i % 1000 == 0: #Print cost every 1000 iterations\n",
    "                print(\"{}-th iteration: {}\".format(i, cost))\n",
    "\n",
    "            if i % self.COST_APPEND_T == 0: #Append cost every 1000 iterations\n",
    "                costs.append(cost)\n",
    "            \n",
    "            if(i>=self.COST_APPEND_T*2):\n",
    "                if(abs(costs[-1] - costs[-2]) < self.eps):\n",
    "                    break\n",
    "\n",
    "        #Plot costs\n",
    "        if print_cost:\n",
    "            plt.plot(costs)\n",
    "            plt.ylabel(\"Cost\")\n",
    "            plt.xlabel(f\"Iteration, *{self.COST_APPEND_T}\")\n",
    "            plt.show()\n",
    "        \n",
    "\n",
    "    def predict_proba(self, X_vert):\n",
    "        X = X_vert.T\n",
    "        if self.normalize:\n",
    "            X, _, _ = self.__normalize(X, self.__mean, self.__std)    \n",
    "        \n",
    "        probabilities = self.__forward_propagation(X)[0]\n",
    "        return probabilities.T\n",
    "        \n",
    "    def predict(self, X_vert):\n",
    "        positive_probabilities = self.predict_proba(X_vert)[:, 0]\n",
    "        return (positive_probabilities >= 0.5).astype(int)   \n"
   ]
  },
  {
   "cell_type": "markdown",
   "metadata": {},
   "source": [
    "Спочатку спробуйте цей клас на одній задачі, а потім на іншій."
   ]
  },
  {
   "cell_type": "code",
   "execution_count": 45,
   "metadata": {},
   "outputs": [],
   "source": [
    "# data_columns = [\"exam1\", \"exam2\"]\n",
    "# target_column = \"submitted\"\n",
    "# df = pd.read_csv(\"sats.csv\")\n",
    "# X, Y = df[data_columns].values, df[target_column]#.reshape((df.shape[0], 1))\n",
    "# print('Training set: X={}, y={}'.format(X.shape, Y.shape))"
   ]
  },
  {
   "cell_type": "code",
   "execution_count": 46,
   "metadata": {},
   "outputs": [
    {
     "name": "stdout",
     "output_type": "stream",
     "text": [
      "Training set: X=(118, 2), y=(118,)\n"
     ]
    }
   ],
   "source": [
    "data_columns = [\"test1\", \"test2\"]\n",
    "target_column = \"passed\"\n",
    "df = pd.read_csv(\"tests.csv\")\n",
    "X, Y = np.array(df[data_columns].values), np.array(df[target_column].values)\n",
    "print('Training set: X={}, y={}'.format(X.shape, Y.shape))\n"
   ]
  },
  {
   "cell_type": "code",
   "execution_count": null,
   "metadata": {},
   "outputs": [],
   "source": []
  },
  {
   "cell_type": "code",
   "execution_count": 47,
   "metadata": {},
   "outputs": [
    {
     "data": {
      "image/png": "[encoded data removed]",
      "text/plain": [
       "<Figure size 432x288 with 1 Axes>"
      ]
     },
     "metadata": {
      "needs_background": "light"
     },
     "output_type": "display_data"
    }
   ],
   "source": [
    "plot_data(X, Y)"
   ]
  },
  {
   "cell_type": "code",
   "execution_count": 48,
   "metadata": {},
   "outputs": [],
   "source": [
    "cls = NeuralNet(hidden_layer_sizes=[4, 3, 2], normalize = True, learning_rate = 0.05, num_iter = 100000, eps=10**-15)"
   ]
  },
  {
   "cell_type": "code",
   "execution_count": null,
   "metadata": {},
   "outputs": [],
   "source": []
  },
  {
   "cell_type": "code",
   "execution_count": 49,
   "metadata": {},
   "outputs": [
    {
     "name": "stdout",
     "output_type": "stream",
     "text": [
      "{'W1': array([[ 1.12918826,  0.63102115],\n",
      "       [ 0.99580255, -0.35249215],\n",
      "       [-1.22102015,  2.05211993],\n",
      "       [ 0.14668172,  0.09034961]]), 'b1': array([[0.],\n",
      "       [0.],\n",
      "       [0.],\n",
      "       [0.]]), 'W2': array([[ 0.39980412, -0.61335302,  0.56055763, -0.67094301],\n",
      "       [-1.2500953 ,  0.48977717, -0.47702909, -0.01489752],\n",
      "       [ 1.42967725,  0.85067583, -1.0910771 , -0.02798565]]), 'b2': array([[0.],\n",
      "       [0.],\n",
      "       [0.]]), 'W3': array([[-0.66838973, -0.67403981,  0.73698996],\n",
      "       [-1.97115459,  0.77164127, -0.54825181]]), 'b3': array([[0.],\n",
      "       [0.]]), 'W4': array([[-0.02286407,  0.93990031]]), 'b4': array([[0.]])}\n",
      "0-th iteration: 0.7031475602028476\n",
      "1000-th iteration: 0.6928619259043296\n",
      "2000-th iteration: 0.6925026587062525\n",
      "3000-th iteration: 0.6920877986264693\n",
      "4000-th iteration: 0.6915751440058544\n",
      "5000-th iteration: 0.6909096818662387\n",
      "6000-th iteration: 0.6900157067819808\n",
      "7000-th iteration: 0.688787090817304\n",
      "8000-th iteration: 0.6870745600773183\n",
      "9000-th iteration: 0.684666343391338\n",
      "10000-th iteration: 0.6812549520502306\n",
      "11000-th iteration: 0.6763931130943432\n",
      "12000-th iteration: 0.6694728569999977\n",
      "13000-th iteration: 0.659643112657653\n",
      "14000-th iteration: 0.6448985266996263\n",
      "15000-th iteration: 0.6189045913798716\n",
      "16000-th iteration: 0.5734897818303625\n",
      "17000-th iteration: 0.5181808231040816\n",
      "18000-th iteration: 0.45616502184648616\n",
      "19000-th iteration: 0.413597807951235\n",
      "20000-th iteration: 0.3909653625197285\n",
      "21000-th iteration: 0.3778576361335497\n",
      "22000-th iteration: 0.3689421282376738\n",
      "23000-th iteration: 0.36198455171703076\n",
      "24000-th iteration: 0.35607873280963026\n",
      "25000-th iteration: 0.3508013537558149\n",
      "26000-th iteration: 0.3459408307428831\n",
      "27000-th iteration: 0.3414735603163704\n",
      "28000-th iteration: 0.33746510193309576\n",
      "29000-th iteration: 0.3339887524111364\n",
      "30000-th iteration: 0.33107115849940255\n",
      "31000-th iteration: 0.32867827747821043\n",
      "32000-th iteration: 0.3267347413292679\n",
      "33000-th iteration: 0.3251504666973032\n",
      "34000-th iteration: 0.32384097611903573\n",
      "35000-th iteration: 0.3227374339503905\n",
      "36000-th iteration: 0.3217881521161689\n",
      "37000-th iteration: 0.32095575218682537\n",
      "38000-th iteration: 0.32021335897767916\n",
      "39000-th iteration: 0.31954139401123954\n",
      "40000-th iteration: 0.3189252990546171\n",
      "41000-th iteration: 0.318354026249745\n",
      "42000-th iteration: 0.31781904869113026\n",
      "43000-th iteration: 0.31731369949516336\n",
      "44000-th iteration: 0.31683271586376094\n",
      "45000-th iteration: 0.31637191410192067\n",
      "46000-th iteration: 0.31592795159821774\n",
      "47000-th iteration: 0.31549814890948563\n",
      "48000-th iteration: 0.3150803547879842\n",
      "49000-th iteration: 0.31467284262853323\n",
      "50000-th iteration: 0.314274230248987\n",
      "51000-th iteration: 0.31388341712929896\n",
      "52000-th iteration: 0.3134995347401105\n",
      "53000-th iteration: 0.3131219066712908\n",
      "54000-th iteration: 0.3127500160797619\n",
      "55000-th iteration: 0.3123834786025422\n",
      "56000-th iteration: 0.3120220193757786\n",
      "57000-th iteration: 0.3116654531927358\n",
      "58000-th iteration: 0.3113136671405445\n",
      "59000-th iteration: 0.31096660528827674\n",
      "60000-th iteration: 0.31062425516663744\n",
      "61000-th iteration: 0.3102866358910461\n",
      "62000-th iteration: 0.3099537878445998\n",
      "63000-th iteration: 0.3096257638655949\n",
      "64000-th iteration: 0.30930262188639857\n",
      "65000-th iteration: 0.30898441895641116\n",
      "66000-th iteration: 0.30867120656031527\n",
      "67000-th iteration: 0.3083630271205052\n",
      "68000-th iteration: 0.30805991155421963\n",
      "69000-th iteration: 0.3077618777440771\n",
      "70000-th iteration: 0.3074689297762559\n",
      "71000-th iteration: 0.30718105780310623\n",
      "72000-th iteration: 0.3068982383952219\n",
      "73000-th iteration: 0.3066204352604136\n",
      "74000-th iteration: 0.3063476002219201\n",
      "75000-th iteration: 0.3060796743642113\n",
      "76000-th iteration: 0.30581658927067\n",
      "77000-th iteration: 0.3055582682925375\n",
      "78000-th iteration: 0.3053046278022101\n",
      "79000-th iteration: 0.30505557839604897\n",
      "80000-th iteration: 0.304811026022166\n",
      "81000-th iteration: 0.30457087301726676\n",
      "82000-th iteration: 0.30433501904362803\n",
      "83000-th iteration: 0.3041033619228197\n",
      "84000-th iteration: 0.30387579836704937\n",
      "85000-th iteration: 0.3036522246121343\n",
      "86000-th iteration: 0.3034325369583032\n",
      "87000-th iteration: 0.3032166322264225\n",
      "88000-th iteration: 0.30300440813799673\n",
      "89000-th iteration: 0.3027957636275297\n",
      "90000-th iteration: 0.30259059909566277\n",
      "91000-th iteration: 0.3023888166110651\n",
      "92000-th iteration: 0.30219032006837787\n",
      "93000-th iteration: 0.301995015308743\n",
      "94000-th iteration: 0.30180281020859945\n",
      "95000-th iteration: 0.30161361474157866\n",
      "96000-th iteration: 0.30142734101752233\n",
      "97000-th iteration: 0.3012439033018828\n",
      "98000-th iteration: 0.30106321801810904\n",
      "99000-th iteration: 0.3008852037350482\n"
     ]
    },
    {
     "data": {
      "image/png": "[encoded data removed]",
      "text/plain": [
       "<Figure size 432x288 with 1 Axes>"
      ]
     },
     "metadata": {
      "needs_background": "light"
     },
     "output_type": "display_data"
    }
   ],
   "source": [
    "cls.fit(X, Y.reshape((df.shape[0], 1)))"
   ]
  },
  {
   "cell_type": "code",
   "execution_count": 50,
   "metadata": {},
   "outputs": [
    {
     "data": {
      "text/plain": [
       "{'W1': array([[ 2.72332607,  1.96291955],\n",
       "        [ 3.79439424, -1.45875069],\n",
       "        [ 0.09442572,  2.09136755],\n",
       "        [ 6.15156538, -1.94280546]]),\n",
       " 'b1': array([[-2.60975008],\n",
       "        [ 4.66520921],\n",
       "        [ 2.18173292],\n",
       "        [-0.93246248]]),\n",
       " 'W2': array([[ 4.96870886, -2.86465545, -2.02711817, -3.08028798],\n",
       "        [-2.75106023,  3.31196766,  4.72451012, -0.01802592],\n",
       "        [ 4.6694725 , -0.48752681, -5.29150201, -2.25067216]]),\n",
       " 'b2': array([[ 2.46536149],\n",
       "        [-4.4998508 ],\n",
       "        [ 3.24983605]]),\n",
       " 'W3': array([[ 2.40191297, -4.62825933,  4.22510452],\n",
       "        [-6.61624115,  6.99796904, -7.43860364]]),\n",
       " 'b3': array([[0.01045188],\n",
       "        [0.65816534]]),\n",
       " 'W4': array([[-8.21621904,  8.19617883]]),\n",
       " 'b4': array([[-5.19793534]])}"
      ]
     },
     "execution_count": 50,
     "metadata": {},
     "output_type": "execute_result"
    }
   ],
   "source": [
    "cls.parameters"
   ]
  },
  {
   "cell_type": "code",
   "execution_count": 51,
   "metadata": {},
   "outputs": [
    {
     "name": "stdout",
     "output_type": "stream",
     "text": [
      "{'W1': array([[ 2.72332607,  1.96291955],\n",
      "       [ 3.79439424, -1.45875069],\n",
      "       [ 0.09442572,  2.09136755],\n",
      "       [ 6.15156538, -1.94280546]]), 'b1': array([[-2.60975008],\n",
      "       [ 4.66520921],\n",
      "       [ 2.18173292],\n",
      "       [-0.93246248]]), 'W2': array([[ 4.96870886, -2.86465545, -2.02711817, -3.08028798],\n",
      "       [-2.75106023,  3.31196766,  4.72451012, -0.01802592],\n",
      "       [ 4.6694725 , -0.48752681, -5.29150201, -2.25067216]]), 'b2': array([[ 2.46536149],\n",
      "       [-4.4998508 ],\n",
      "       [ 3.24983605]]), 'W3': array([[ 2.40191297, -4.62825933,  4.22510452],\n",
      "       [-6.61624115,  6.99796904, -7.43860364]]), 'b3': array([[0.01045188],\n",
      "       [0.65816534]]), 'W4': array([[-8.21621904,  8.19617883]]), 'b4': array([[-5.19793534]])}\n"
     ]
    }
   ],
   "source": [
    "print(cls.parameters)"
   ]
  },
  {
   "cell_type": "code",
   "execution_count": 52,
   "metadata": {},
   "outputs": [
    {
     "data": {
      "text/plain": [
       "array([[ 0.46601  , -0.53582  ],\n",
       "       [ 0.322    ,  0.5826   ],\n",
       "       [-0.75518  ,  0.2902   ],\n",
       "       [-0.10426  ,  0.99196  ],\n",
       "       [-0.40956  , -0.41155  ],\n",
       "       [-0.28859  , -0.060673 ],\n",
       "       [-0.66302  , -0.21418  ],\n",
       "       [ 0.79435  , -0.55775  ],\n",
       "       [ 0.63265  , -0.030612 ],\n",
       "       [-0.30012  ,  0.027047 ],\n",
       "       [ 0.062788 , -0.16301  ],\n",
       "       [-0.39228  , -0.25804  ],\n",
       "       [ 0.44297  ,  0.67032  ],\n",
       "       [ 0.057028 ,  0.91886  ],\n",
       "       [-0.13882  , -0.27266  ],\n",
       "       [ 0.59274  , -0.7405   ],\n",
       "       [-0.62846  ,  0.33406  ],\n",
       "       [ 0.63882  , -0.24342  ],\n",
       "       [ 0.016705 , -0.40424  ],\n",
       "       [ 0.28744  , -0.76974  ],\n",
       "       [-0.092742 ,  0.55336  ],\n",
       "       [-0.39804  ,  0.034357 ],\n",
       "       [-0.52477  ,  0.2098   ],\n",
       "       [-0.0063364,  0.99927  ],\n",
       "       [-0.60541  ,  0.59722  ],\n",
       "       [-0.16187  ,  0.8019   ],\n",
       "       [-0.61118  , -0.067982 ],\n",
       "       [-0.38076  ,  0.91886  ],\n",
       "       [ 0.14919  , -0.57968  ],\n",
       "       [ 0.22984  , -0.41155  ],\n",
       "       [ 0.13767  ,  0.57529  ],\n",
       "       [ 0.38537  , -0.56506  ],\n",
       "       [-0.59389  ,  0.005117 ],\n",
       "       [-0.43836  ,  0.21711  ],\n",
       "       [ 0.63882  ,  0.88962  ],\n",
       "       [-0.4038   ,  0.70687  ],\n",
       "       [ 0.322    ,  0.69225  ],\n",
       "       [ 0.89804  , -0.20687  ],\n",
       "       [-0.0063364,  0.39985  ],\n",
       "       [ 0.61578  ,  0.7288   ],\n",
       "       [ 0.18376  ,  0.93348  ],\n",
       "       [-0.15035  , -0.36769  ],\n",
       "       [-0.23675  , -0.63816  ],\n",
       "       [-0.54781  ,  0.70687  ],\n",
       "       [ 0.76555  ,  0.50219  ],\n",
       "       [-0.375    ,  0.50219  ],\n",
       "       [-0.72638  , -0.082602 ],\n",
       "       [ 0.82316  ,  0.66301  ],\n",
       "       [ 0.67339  ,  0.64108  ],\n",
       "       [-0.83007  ,  0.31213  ],\n",
       "       [-0.046659 ,  0.81652  ],\n",
       "       [ 0.85196  , -0.36769  ],\n",
       "       [-0.36348  ,  0.31213  ],\n",
       "       [ 0.28744  ,  1.087    ],\n",
       "       [-0.46717  , -0.13377  ],\n",
       "       [-0.50749  ,  0.90424  ],\n",
       "       [-0.59965  , -0.41886  ],\n",
       "       [ 0.54666  ,  0.48757  ],\n",
       "       [ 0.35081  , -0.57968  ],\n",
       "       [ 0.46601  , -0.41886  ],\n",
       "       [ 0.52938  , -0.5212   ],\n",
       "       [ 0.16647  ,  0.53874  ],\n",
       "       [-0.081221 ,  1.1089   ],\n",
       "       [ 0.72523  ,  0.44371  ],\n",
       "       [-0.06394  , -0.18494  ],\n",
       "       [ 0.051267 ,  0.69956  ],\n",
       "       [-0.74366  , -0.25804  ],\n",
       "       [-0.69758  ,  0.041667 ],\n",
       "       [ 0.51786  , -0.5943   ],\n",
       "       [ 0.92684  ,  0.3633   ],\n",
       "       [-0.17339  ,  0.64839  ],\n",
       "       [-0.26555  ,  0.96272  ],\n",
       "       [ 0.48329  , -0.18494  ],\n",
       "       [ 0.64459  , -0.14108  ],\n",
       "       [ 0.13191  , -0.51389  ],\n",
       "       [-0.20795  ,  0.35599  ],\n",
       "       [ 0.73675  , -0.18494  ],\n",
       "       [-0.29435  ,  0.77997  ],\n",
       "       [ 0.67339  , -0.53582  ],\n",
       "       [-0.23675  , -0.21418  ],\n",
       "       [ 0.50634  ,  0.75804  ],\n",
       "       [-0.13882  ,  0.54605  ],\n",
       "       [-0.20795  ,  0.17325  ],\n",
       "       [ 0.20104  , -0.60161  ],\n",
       "       [ 0.10311  ,  0.77997  ],\n",
       "       [-0.59389  ,  0.49488  ],\n",
       "       [-0.046659 , -0.57968  ],\n",
       "       [-0.48445  ,  0.99927  ],\n",
       "       [-0.47869  ,  0.63377  ],\n",
       "       [ 1.0709   ,  0.10015  ],\n",
       "       [ 0.22408  ,  0.77997  ],\n",
       "       [-0.21947  , -0.016813 ],\n",
       "       [ 0.2932   , -0.2288   ],\n",
       "       [ 0.93836  ,  0.012427 ],\n",
       "       [ 0.60426  ,  0.59722  ],\n",
       "       [ 0.085829 , -0.75512  ],\n",
       "       [-0.17339  ,  0.69956  ],\n",
       "       [-0.49021  , -0.3019   ],\n",
       "       [ 0.82316  ,  0.27558  ],\n",
       "       [-0.30588  , -0.19225  ],\n",
       "       [-0.092742 ,  0.68494  ],\n",
       "       [ 0.46025  ,  0.012427 ],\n",
       "       [ 0.29896  ,  0.61915  ],\n",
       "       [ 0.39689  ,  0.82383  ],\n",
       "       [ 0.96141  ,  0.085526 ],\n",
       "       [-0.21371  ,  0.69225  ],\n",
       "       [-0.69758  ,  0.68494  ],\n",
       "       [-0.11578  , -0.39693  ],\n",
       "       [ 0.6273   ,  0.15863  ],\n",
       "       [ 0.22408  ,  0.52412  ],\n",
       "       [ 0.82892  , -0.5212   ],\n",
       "       [-0.51325  ,  0.46564  ],\n",
       "       [ 0.86348  , -0.082602 ],\n",
       "       [-0.28283  ,  0.47295  ],\n",
       "       [-0.13306  , -0.4481   ],\n",
       "       [ 0.57546  ,  0.26827  ],\n",
       "       [-0.42108  , -0.27266  ],\n",
       "       [-0.72062  ,  0.53874  ]])"
      ]
     },
     "execution_count": 52,
     "metadata": {},
     "output_type": "execute_result"
    }
   ],
   "source": [
    "X"
   ]
  },
  {
   "cell_type": "code",
   "execution_count": 53,
   "metadata": {},
   "outputs": [
    {
     "data": {
      "text/plain": [
       "array([[7.37891568e-01],\n",
       "       [9.06114114e-01],\n",
       "       [1.45895084e-02],\n",
       "       [4.06805569e-02],\n",
       "       [4.14060386e-04],\n",
       "       [9.18947290e-01],\n",
       "       [3.22192453e-04],\n",
       "       [2.03198424e-02],\n",
       "       [9.24767114e-01],\n",
       "       [9.29519187e-01],\n",
       "       [9.39684101e-01],\n",
       "       [4.55881311e-01],\n",
       "       [6.79038702e-01],\n",
       "       [1.28871009e-03],\n",
       "       [8.35258923e-01],\n",
       "       [6.38952739e-03],\n",
       "       [4.79118860e-01],\n",
       "       [9.14666983e-01],\n",
       "       [8.75713349e-01],\n",
       "       [6.17638718e-03],\n",
       "       [9.36032325e-01],\n",
       "       [9.22113242e-01],\n",
       "       [8.87368098e-01],\n",
       "       [4.78003588e-04],\n",
       "       [2.68848025e-01],\n",
       "       [9.05106386e-01],\n",
       "       [3.20104305e-01],\n",
       "       [4.27485198e-01],\n",
       "       [5.70778385e-01],\n",
       "       [9.10695743e-01],\n",
       "       [9.15565479e-01],\n",
       "       [6.67580799e-01],\n",
       "       [6.56593408e-01],\n",
       "       [9.24443011e-01],\n",
       "       [1.09205439e-02],\n",
       "       [8.64074567e-01],\n",
       "       [6.40317636e-01],\n",
       "       [1.28978800e-02],\n",
       "       [9.39325733e-01],\n",
       "       [7.39026533e-02],\n",
       "       [2.75444898e-05],\n",
       "       [4.33169678e-01],\n",
       "       [1.01459135e-05],\n",
       "       [3.54113070e-01],\n",
       "       [5.37296785e-02],\n",
       "       [9.25758216e-01],\n",
       "       [4.05567267e-04],\n",
       "       [9.07604089e-03],\n",
       "       [7.94950223e-02],\n",
       "       [2.93710813e-03],\n",
       "       [8.22185343e-01],\n",
       "       [4.88782140e-02],\n",
       "       [9.33573734e-01],\n",
       "       [4.79437213e-06],\n",
       "       [8.07251878e-01],\n",
       "       [8.34626564e-02],\n",
       "       [1.25735531e-05],\n",
       "       [8.23959906e-01],\n",
       "       [6.11860851e-01],\n",
       "       [8.97790476e-01],\n",
       "       [7.41850620e-01],\n",
       "       [9.25715015e-01],\n",
       "       [5.40524788e-05],\n",
       "       [2.03432605e-01],\n",
       "       [9.23521063e-01],\n",
       "       [8.63122537e-01],\n",
       "       [7.82401187e-06],\n",
       "       [2.48527523e-02],\n",
       "       [4.35763488e-01],\n",
       "       [5.46260516e-03],\n",
       "       [9.32454303e-01],\n",
       "       [4.91915546e-01],\n",
       "       [9.37687785e-01],\n",
       "       [9.21497558e-01],\n",
       "       [7.95654753e-01],\n",
       "       [9.39351994e-01],\n",
       "       [8.58286998e-01],\n",
       "       [8.99433930e-01],\n",
       "       [4.20897002e-01],\n",
       "       [8.39329457e-01],\n",
       "       [1.65887134e-01],\n",
       "       [9.37003056e-01],\n",
       "       [9.38193203e-01],\n",
       "       [4.82142147e-01],\n",
       "       [1.94830216e-01],\n",
       "       [5.03815845e-01],\n",
       "       [5.84562282e-02],\n",
       "       [1.79120111e-02],\n",
       "       [7.98615391e-01],\n",
       "       [1.74830902e-04],\n",
       "       [7.27746666e-03],\n",
       "       [9.29192046e-01],\n",
       "       [9.39580328e-01],\n",
       "       [3.33825022e-03],\n",
       "       [3.62098377e-01],\n",
       "       [4.68947838e-03],\n",
       "       [9.28005549e-01],\n",
       "       [1.99536028e-02],\n",
       "       [8.79165477e-02],\n",
       "       [8.37376878e-01],\n",
       "       [9.25719788e-01],\n",
       "       [9.41891138e-01],\n",
       "       [8.78179179e-01],\n",
       "       [1.25218156e-02],\n",
       "       [1.81626267e-03],\n",
       "       [9.28282110e-01],\n",
       "       [3.06742848e-02],\n",
       "       [4.78270861e-01],\n",
       "       [9.09234238e-01],\n",
       "       [9.29345585e-01],\n",
       "       [1.06025412e-02],\n",
       "       [8.45033094e-01],\n",
       "       [1.29986885e-01],\n",
       "       [9.36139772e-01],\n",
       "       [8.88778874e-02],\n",
       "       [9.11762096e-01],\n",
       "       [2.59859977e-01],\n",
       "       [3.43417870e-02]])"
      ]
     },
     "execution_count": 53,
     "metadata": {},
     "output_type": "execute_result"
    }
   ],
   "source": [
    "Y_probabilities = cls.predict_proba(X)\n",
    "Y_probabilities"
   ]
  },
  {
   "cell_type": "code",
   "execution_count": 54,
   "metadata": {},
   "outputs": [
    {
     "data": {
      "text/plain": [
       "array([1, 1, 0, 0, 0, 1, 0, 0, 1, 1, 1, 0, 1, 0, 1, 0, 0, 1, 1, 0, 1, 1,\n",
       "       1, 0, 0, 1, 0, 0, 1, 1, 1, 1, 1, 1, 0, 1, 1, 0, 1, 0, 0, 0, 0, 0,\n",
       "       0, 1, 0, 0, 0, 0, 1, 0, 1, 0, 1, 0, 0, 1, 1, 1, 1, 1, 0, 0, 1, 1,\n",
       "       0, 0, 0, 0, 1, 0, 1, 1, 1, 1, 1, 1, 0, 1, 0, 1, 1, 0, 0, 1, 0, 0,\n",
       "       1, 0, 0, 1, 1, 0, 0, 0, 1, 0, 0, 1, 1, 1, 1, 0, 0, 1, 0, 0, 1, 1,\n",
       "       0, 1, 0, 1, 0, 1, 0, 0])"
      ]
     },
     "execution_count": 54,
     "metadata": {},
     "output_type": "execute_result"
    }
   ],
   "source": [
    "Y_hat = cls.predict(X)\n",
    "Y_hat"
   ]
  },
  {
   "cell_type": "code",
   "execution_count": 55,
   "metadata": {},
   "outputs": [
    {
     "data": {
      "text/plain": [
       "array([1, 1, 0, 0, 0, 0, 0, 0, 0, 1, 1, 0, 1, 0, 1, 0, 1, 1, 1, 0, 1, 1,\n",
       "       1, 0, 1, 1, 0, 0, 0, 1, 1, 1, 1, 1, 0, 0, 1, 0, 1, 0, 0, 0, 0, 0,\n",
       "       0, 1, 0, 0, 0, 0, 1, 0, 1, 0, 0, 0, 0, 1, 0, 0, 1, 1, 0, 1, 1, 1,\n",
       "       0, 0, 0, 0, 1, 1, 1, 1, 1, 1, 1, 1, 1, 1, 0, 1, 1, 1, 0, 0, 0, 0,\n",
       "       1, 0, 0, 1, 1, 0, 0, 0, 1, 0, 0, 1, 1, 1, 0, 0, 0, 1, 0, 1, 1, 1,\n",
       "       0, 1, 0, 1, 0, 1, 1, 0], dtype=int64)"
      ]
     },
     "execution_count": 55,
     "metadata": {},
     "output_type": "execute_result"
    }
   ],
   "source": [
    "np.array(Y)"
   ]
  },
  {
   "cell_type": "code",
   "execution_count": 56,
   "metadata": {},
   "outputs": [
    {
     "data": {
      "text/plain": [
       "0.8559322033898306"
      ]
     },
     "execution_count": 56,
     "metadata": {},
     "output_type": "execute_result"
    }
   ],
   "source": [
    "accuracy_score(Y, Y_hat)"
   ]
  },
  {
   "cell_type": "code",
   "execution_count": 57,
   "metadata": {},
   "outputs": [
    {
     "data": {
      "image/png": "[encoded data removed]",
      "text/plain": [
       "<Figure size 432x288 with 1 Axes>"
      ]
     },
     "metadata": {
      "needs_background": "light"
     },
     "output_type": "display_data"
    }
   ],
   "source": [
    "plot_data(X, Y)\n",
    "plot_surface(cls, X[:, 0], X[:, 1])"
   ]
  },
  {
   "cell_type": "markdown",
   "metadata": {},
   "source": [
    "Зверніть увагу на границю прийняття рішення. Модель старається побудувати складну криву, що може свідчити про її перетренування. Порівняйте отримані результати з класом з sklearn. Спробуйте додати нові шари для нашого класу та порівняти результати тоді. Поекспериментуйте з гіперпараметрами для обох класів."
   ]
  },
  {
   "cell_type": "code",
   "execution_count": 88,
   "metadata": {},
   "outputs": [],
   "source": [
    "from sklearn.neural_network import MLPClassifier\n",
    "clf = MLPClassifier(hidden_layer_sizes = (20, ), max_iter = 100000)#, activation = 'logistic', solver = 'sgd', learning_rate_init = 0.01, learning_rate = 'constant')"
   ]
  },
  {
   "cell_type": "code",
   "execution_count": 89,
   "metadata": {},
   "outputs": [
    {
     "data": {
      "text/plain": [
       "MLPClassifier(hidden_layer_sizes=(20,), max_iter=100000)"
      ]
     },
     "execution_count": 89,
     "metadata": {},
     "output_type": "execute_result"
    }
   ],
   "source": [
    "clf.fit(X, Y)"
   ]
  },
  {
   "cell_type": "code",
   "execution_count": 90,
   "metadata": {},
   "outputs": [
    {
     "data": {
      "image/png": "[encoded data removed]",
      "text/plain": [
       "<Figure size 432x288 with 1 Axes>"
      ]
     },
     "metadata": {
      "needs_background": "light"
     },
     "output_type": "display_data"
    }
   ],
   "source": [
    "plot_data(X, Y)\n",
    "plot_surface(clf, X[:, 0], X[:, 1])"
   ]
  },
  {
   "cell_type": "code",
   "execution_count": 91,
   "metadata": {},
   "outputs": [
    {
     "data": {
      "text/plain": [
       "0.8559322033898306"
      ]
     },
     "execution_count": 91,
     "metadata": {},
     "output_type": "execute_result"
    }
   ],
   "source": [
    "accuracy_score(Y, clf.predict(X))"
   ]
  },
  {
   "cell_type": "code",
   "execution_count": 92,
   "metadata": {},
   "outputs": [
    {
     "data": {
      "text/plain": [
       "1247"
      ]
     },
     "execution_count": 92,
     "metadata": {},
     "output_type": "execute_result"
    }
   ],
   "source": [
    "clf.n_iter_"
   ]
  }
 ],
 "metadata": {
  "anaconda-cloud": {},
  "interpreter": {
   "hash": "accbce864bb7d7413f19e5e08086b507c673f6b5c8cfdadf3ac75b6d56ce7a21"
  },
  "kernelspec": {
   "display_name": "Python 3.10.4 64-bit",
   "language": "python",
   "name": "python3"
  },
  "language_info": {
   "codemirror_mode": {
    "name": "ipython",
    "version": 3
   },
   "file_extension": ".py",
   "mimetype": "text/x-python",
   "name": "python",
   "nbconvert_exporter": "python",
   "pygments_lexer": "ipython3",
   "version": "3.10.4"
  }
 },
 "nbformat": 4,
 "nbformat_minor": 1
}
