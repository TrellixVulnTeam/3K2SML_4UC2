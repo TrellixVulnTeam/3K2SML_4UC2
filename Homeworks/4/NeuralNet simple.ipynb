{
 "cells": [
  {
   "cell_type": "markdown",
   "metadata": {},
   "source": [
    "В цій практичній роботі ми спробуємо реалізувати нейронну мережу з двох шарів (прихований і вихідний). Запропонований підхід стане заготовкою для реалізації наступних оптимізацій: MBGD, ADAM та регуляризації. \n",
    "\n",
    "Сьогодні ж вам пропонується додати до цього класу підтримку довільної кількості шарів та нейронів в них (наприклад, передавати їх параметром в конструктор, як це робиться в MLPClassifier за допомогою hidden_layer_sizes). Також потрібно передбачити можливість ранньої зупинки ітераційного процесу, якщо значення штрафної функції не покращуватиметься протягом певної кількості ітерацій. Наприклад, якщо протягом $k$ ітерацій штрафна функція за модулем не стане меншою, ніж на поточному кроці."
   ]
  },
  {
   "cell_type": "code",
   "execution_count": 297,
   "metadata": {},
   "outputs": [],
   "source": [
    "import numpy as np\n",
    "import pandas as pd\n",
    "from sklearn.model_selection import train_test_split\n",
    "from mpl_toolkits.mplot3d import Axes3D\n",
    "import matplotlib.pyplot as plt\n",
    "\n",
    "from matplotlib.colors import ListedColormap\n",
    "cm_bright = ListedColormap(['#FF0000', '#0000FF'])\n",
    "%matplotlib inline\n",
    "from sklearn.metrics import accuracy_score\n",
    "\n",
    "import sklearn.linear_model"
   ]
  },
  {
   "cell_type": "code",
   "execution_count": 298,
   "metadata": {},
   "outputs": [],
   "source": [
    "def plot_surface(cls, x_1, x_2, ax=None, threshold=0.5, contourf=False):\n",
    "    xx1, xx2 = np.meshgrid(np.linspace(x_1.min(), x_1.max(), 100), \n",
    "                           np.linspace(x_2.min(), x_2.max(), 100))\n",
    "\n",
    "    X_pred = np.c_[xx1.ravel(), xx2.ravel()]\n",
    "    pred = cls.predict_proba(X_pred)[:, 0]\n",
    "    Z = pred.reshape((100, 100))\n",
    "    if ax is None:\n",
    "        ax = plt.gca()\n",
    "    ax.contour(xx1, xx2, Z, levels=[threshold], colors='black')\n",
    "    ax.set_xlim((x_1.min(), x_1.max()))\n",
    "    ax.set_ylim((x_2.min(), x_2.max()))"
   ]
  },
  {
   "cell_type": "code",
   "execution_count": 299,
   "metadata": {},
   "outputs": [],
   "source": [
    "def plot_data(X, y):\n",
    "    ax = plt.gca()\n",
    "    ax.scatter(X[:,0], X[:,1], c=(y == 1), cmap=cm_bright)"
   ]
  },
  {
   "cell_type": "code",
   "execution_count": 300,
   "metadata": {},
   "outputs": [],
   "source": [
    "class NeuralNet:\n",
    "    \"\"\"\n",
    "    NN for binary classification\n",
    "    Attributes:\n",
    "    ...\n",
    "    \"\"\"\n",
    "    \n",
    "    def __init__(self, hidden_layer_sizes = [1,1], normalize = True, learning_rate = 0.01, num_iter = 30000, eps = 10**-2):\n",
    "        self.layer_sizes = hidden_layer_sizes \n",
    "        self.layers_count = len(self.layer_sizes) + 1\n",
    "        self.parameters = {}\n",
    "        self.eps = eps\n",
    "        self.COST_APPEND_T = 1\n",
    "\n",
    "        self.learning_rate = learning_rate\n",
    "        self.num_iter = num_iter\n",
    "        self.normalize = normalize\n",
    "        \n",
    "    \n",
    "    def __normalize(self, X, mean = None, std = None):\n",
    "        \"\"\"\n",
    "        Зверніть увагу, що нормалізація вхідних даних є дуже важливою для швидкодії нейронних мереж.\n",
    "        \"\"\"\n",
    "        n = X.shape[0]\n",
    "        m = mean\n",
    "        if m is None:\n",
    "            m = np.mean(X, axis=1).reshape((n, 1))\n",
    "        s = std\n",
    "        if s is None:\n",
    "            s = np.std(X, axis=1).reshape((n, 1))\n",
    "        X_new = (X - m) / s\n",
    "        return X_new, m, s\n",
    "\n",
    "    def __sigmoid(self, Z):\n",
    "        \"\"\"\n",
    "        В наступних практичних потрібно буде додати підтримку й інших активаційних функцій - це один з гіперпараметрів. \n",
    "        Їх можна вибирати для всіх шарів одночасно або мати різні активаційні функції на кожному з них.\n",
    "        \"\"\"\n",
    "        return 1 / (1 + np.exp(-Z))\n",
    "\n",
    "    def __sigmoid_derivative(self, Z):\n",
    "        sig = self.__sigmoid(Z)\n",
    "        return sig*(1 - sig)\n",
    "    \n",
    "    def __initialize_parameters(self):\n",
    "        n_i = self.layer_sizes\n",
    "        for i in range(self.layers_count):\n",
    "            Wi = np.random.randn(n_i[i+1], n_i[i]) * 0.01\n",
    "            bi = np.zeros((n_i[i+1], 1))\n",
    "            self.parameters[f\"W{i+1}\"] = Wi\n",
    "            self.parameters[f\"b{i+1}\"] = bi\n",
    "       \n",
    "    def __forward_propagation(self, X):\n",
    "        Aj = X\n",
    "        cache = [Aj]\n",
    "        for i in range(self.layers_count):\n",
    "            Wi, bi = self.parameters[f\"W{i+1}\"], self.parameters[f\"b{i+1}\"]\n",
    "            Zi = np.dot(Wi, Aj) + bi\n",
    "            Aj = self.__sigmoid(Zi)\n",
    "            cache.extend([Wi, bi, Zi, Aj])\n",
    "\n",
    "        return Aj, cache \n",
    "\n",
    "    def compute_cost(self, A, Y):\n",
    "        m = Y.shape[1]\n",
    "        res = Y * np.log(A) + (1 - Y) * np.log(1 - A)\n",
    "        J = -(1 / m) * np.sum(res)\n",
    "        return J\n",
    "        \n",
    "    def __backward_propagation(self, X, Y, cache):\n",
    "        m = X.shape[1]\n",
    "        n = X.shape[0]\n",
    "        grads = {}\n",
    "        pre = self.layers_count - 1\n",
    "        for i in reversed(range(self.layers_count)):\n",
    "            (*cache, Wi, bi, Zi, Ai) = cache\n",
    "            if i == pre:\n",
    "                dAi = -np.divide(Y, Ai) + np.divide(1 - Y, 1 - Ai) \n",
    "            dZi = dAi*self.__sigmoid_derivative(Zi)\n",
    "            dWi = np.dot(dZi, cache[-1].T)/m\n",
    "            dbi = np.sum(dZi, axis=1, keepdims=True)/m\n",
    "            dAi = np.dot(Wi.T, dZi)\n",
    "\n",
    "            grads[f\"dZ{i+1}\"] = dZi\n",
    "            grads[f\"dW{i+1}\"] = dWi\n",
    "            grads[f\"db{i+1}\"] = dbi\n",
    "\n",
    "        return grads\n",
    "    \n",
    "    def __update_parameters(self, grads):\n",
    "        for i in range(self.layers_count):\n",
    "            Wi = self.parameters[f\"W{i+1}\"]\n",
    "            bi = self.parameters[f\"b{i+1}\"]\n",
    "            dWi = grads[f\"dW{i+1}\"]\n",
    "            dbi = grads[f\"db{i+1}\"]\n",
    "            self.parameters[f\"W{i+1}\"] = Wi - self.learning_rate * dWi\n",
    "            self.parameters[f\"b{i+1}\"] = bi - self.learning_rate * dbi\n",
    "\n",
    "        \n",
    "    def fit(self, X_vert, Y_vert, print_cost = True):\n",
    "        \n",
    "        X, Y = X_vert.T, Y_vert.T #Convert vertical to horizontal matrices\n",
    "        \n",
    "        if self.normalize: #Normalize\n",
    "            X, self.__mean, self.__std = self.__normalize(X)\n",
    "        \n",
    "        costs = [] #Costs log\n",
    "\n",
    "        self.layer_sizes.insert(0, X.shape[0]) #Input layer\n",
    "        self.layer_sizes.append(1) #Output layer\n",
    "        \n",
    "        self.__initialize_parameters()\n",
    "\n",
    "        for i in range(self.num_iter):\n",
    "            A, cache = self.__forward_propagation(X)\n",
    "\n",
    "            cost = self.compute_cost(A, Y)\n",
    "\n",
    "            grads = self.__backward_propagation(X, Y, cache)\n",
    "\n",
    "            self.__update_parameters(grads)\n",
    "\n",
    "            #OUTPUT\n",
    "            if print_cost and i % 1000 == 0: #Print cost every 1000 iterations\n",
    "                print(\"{}-th iteration: {}\".format(i, cost))\n",
    "\n",
    "            if i % self.COST_APPEND_T == 0: #Append cost every 1000 iterations\n",
    "                costs.append(cost)\n",
    "            \n",
    "            if(i>=self.COST_APPEND_T*2):\n",
    "                if(abs(costs[-1] - costs[-2]) < self.eps):\n",
    "                    break\n",
    "\n",
    "        #Plot costs\n",
    "        if print_cost:\n",
    "            plt.plot(costs)\n",
    "            plt.ylabel(\"Cost\")\n",
    "            plt.xlabel(f\"Iteration, *{self.COST_APPEND_T}\")\n",
    "            plt.show()\n",
    "\n",
    "    \n",
    "    def predict_proba(self, X_vert):\n",
    "        X = X_vert.T\n",
    "        if self.normalize:\n",
    "            X, _, _ = self.__normalize(X, self.__mean, self.__std)\n",
    "        \n",
    "        probs = self.__forward_propagation(X)[0]\n",
    "        \n",
    "        return np.column_stack((probs.T, 1 - probs.T))\n",
    "    \n",
    "    def predict(self, X_vert):\n",
    "        positive_probs = self.predict_proba(X_vert)[:, 0]\n",
    "        return (positive_probs >= 0.5).astype(int)   \n"
   ]
  },
  {
   "cell_type": "markdown",
   "metadata": {},
   "source": [
    "Спочатку спробуйте цей клас на одній задачі, а потім на іншій."
   ]
  },
  {
   "cell_type": "code",
   "execution_count": 301,
   "metadata": {},
   "outputs": [],
   "source": [
    "# data_columns = [\"exam1\", \"exam2\"]\n",
    "# target_column = \"submitted\"\n",
    "# df = pd.read_csv(\"sats.csv\")\n",
    "# X, Y = df[data_columns].values, df[target_column]#.reshape((df.shape[0], 1))\n",
    "# print('Training set: X={}, y={}'.format(X.shape, Y.shape))"
   ]
  },
  {
   "cell_type": "code",
   "execution_count": 302,
   "metadata": {},
   "outputs": [
    {
     "name": "stdout",
     "output_type": "stream",
     "text": [
      "Training set: X=(118, 2), y=(118,)\n"
     ]
    }
   ],
   "source": [
    "data_columns = [\"test1\", \"test2\"]\n",
    "target_column = \"passed\"\n",
    "df = pd.read_csv(\"tests.csv\")\n",
    "X, Y = df[data_columns].values, df[target_column]\n",
    "print('Training set: X={}, y={}'.format(X.shape, Y.shape))"
   ]
  },
  {
   "cell_type": "code",
   "execution_count": 303,
   "metadata": {},
   "outputs": [
    {
     "data": {
      "image/png": "[encoded data removed]",
      "text/plain": [
       "<Figure size 432x288 with 1 Axes>"
      ]
     },
     "metadata": {
      "needs_background": "light"
     },
     "output_type": "display_data"
    }
   ],
   "source": [
    "plot_data(X, Y)"
   ]
  },
  {
   "cell_type": "code",
   "execution_count": 304,
   "metadata": {},
   "outputs": [],
   "source": [
    "cls = NeuralNet(hidden_layer_sizes=[4,3], normalize = True, learning_rate = 0.5, num_iter = 4000, eps=10**-10)"
   ]
  },
  {
   "cell_type": "code",
   "execution_count": 305,
   "metadata": {},
   "outputs": [
    {
     "name": "stdout",
     "output_type": "stream",
     "text": [
      "0-th iteration: 0.6931302324172848\n"
     ]
    },
    {
     "data": {
      "image/png": "[encoded data removed]",
      "text/plain": [
       "<Figure size 432x288 with 1 Axes>"
      ]
     },
     "metadata": {
      "needs_background": "light"
     },
     "output_type": "display_data"
    }
   ],
   "source": [
    "cls.fit(X, Y.values.reshape((df.shape[0], 1)))"
   ]
  },
  {
   "cell_type": "code",
   "execution_count": 306,
   "metadata": {},
   "outputs": [
    {
     "name": "stdout",
     "output_type": "stream",
     "text": [
      "{'W1': array([[ 0.00789911, -0.00064038],\n",
      "       [-0.01638477, -0.01695057],\n",
      "       [ 0.01405017,  0.00614499],\n",
      "       [-0.00155119,  0.00570664]]), 'b1': array([[-3.29292385e-08],\n",
      "       [-3.07326855e-08],\n",
      "       [-1.32649872e-07],\n",
      "       [-1.20754573e-07]]), 'W2': array([[ 4.41788263e-03, -1.00284003e-02,  6.28550195e-03,\n",
      "        -1.90444118e-02],\n",
      "       [-5.44643530e-03,  1.13048056e-04, -1.22845656e-02,\n",
      "        -2.12333480e-03],\n",
      "       [ 1.12288841e-02,  2.02833898e-03,  4.70978142e-05,\n",
      "        -1.24495141e-02]]), 'b2': array([[1.48415168e-05],\n",
      "       [5.12167094e-05],\n",
      "       [7.37037107e-06]]), 'W3': array([[-0.00835808, -0.01632482, -0.00673632]]), 'b3': array([[-0.01822559]])}\n"
     ]
    }
   ],
   "source": [
    "print(cls.parameters)"
   ]
  },
  {
   "cell_type": "code",
   "execution_count": 307,
   "metadata": {},
   "outputs": [
    {
     "data": {
      "text/plain": [
       "array([[0.49153161, 0.50846839],\n",
       "       [0.49153166, 0.50846834],\n",
       "       [0.49153163, 0.50846837],\n",
       "       [0.49153167, 0.50846833],\n",
       "       [0.49153161, 0.50846839],\n",
       "       [0.49153162, 0.50846838],\n",
       "       [0.49153161, 0.50846839],\n",
       "       [0.49153161, 0.50846839],\n",
       "       [0.49153163, 0.50846837],\n",
       "       [0.49153163, 0.50846837],\n",
       "       [0.49153162, 0.50846838],\n",
       "       [0.49153161, 0.50846839],\n",
       "       [0.49153166, 0.50846834],\n",
       "       [0.49153167, 0.50846833],\n",
       "       [0.49153162, 0.50846838],\n",
       "       [0.4915316 , 0.5084684 ],\n",
       "       [0.49153164, 0.50846836],\n",
       "       [0.49153163, 0.50846837],\n",
       "       [0.49153161, 0.50846839],\n",
       "       [0.4915316 , 0.5084684 ],\n",
       "       [0.49153165, 0.50846835],\n",
       "       [0.49153163, 0.50846837],\n",
       "       [0.49153163, 0.50846837],\n",
       "       [0.49153167, 0.50846833],\n",
       "       [0.49153165, 0.50846835],\n",
       "       [0.49153166, 0.50846834],\n",
       "       [0.49153162, 0.50846838],\n",
       "       [0.49153166, 0.50846834],\n",
       "       [0.49153161, 0.50846839],\n",
       "       [0.49153161, 0.50846839],\n",
       "       [0.49153165, 0.50846835],\n",
       "       [0.49153161, 0.50846839],\n",
       "       [0.49153162, 0.50846838],\n",
       "       [0.49153163, 0.50846837],\n",
       "       [0.49153167, 0.50846833],\n",
       "       [0.49153165, 0.50846835],\n",
       "       [0.49153166, 0.50846834],\n",
       "       [0.49153163, 0.50846837],\n",
       "       [0.49153164, 0.50846836],\n",
       "       [0.49153166, 0.50846834],\n",
       "       [0.49153167, 0.50846833],\n",
       "       [0.49153161, 0.50846839],\n",
       "       [0.4915316 , 0.5084684 ],\n",
       "       [0.49153165, 0.50846835],\n",
       "       [0.49153166, 0.50846834],\n",
       "       [0.49153164, 0.50846836],\n",
       "       [0.49153162, 0.50846838],\n",
       "       [0.49153166, 0.50846834],\n",
       "       [0.49153166, 0.50846834],\n",
       "       [0.49153163, 0.50846837],\n",
       "       [0.49153166, 0.50846834],\n",
       "       [0.49153162, 0.50846838],\n",
       "       [0.49153164, 0.50846836],\n",
       "       [0.49153168, 0.50846832],\n",
       "       [0.49153162, 0.50846838],\n",
       "       [0.49153166, 0.50846834],\n",
       "       [0.49153161, 0.50846839],\n",
       "       [0.49153165, 0.50846835],\n",
       "       [0.49153161, 0.50846839],\n",
       "       [0.49153162, 0.50846838],\n",
       "       [0.49153161, 0.50846839],\n",
       "       [0.49153165, 0.50846835],\n",
       "       [0.49153167, 0.50846833],\n",
       "       [0.49153165, 0.50846835],\n",
       "       [0.49153162, 0.50846838],\n",
       "       [0.49153166, 0.50846834],\n",
       "       [0.49153161, 0.50846839],\n",
       "       [0.49153162, 0.50846838],\n",
       "       [0.49153161, 0.50846839],\n",
       "       [0.49153165, 0.50846835],\n",
       "       [0.49153165, 0.50846835],\n",
       "       [0.49153166, 0.50846834],\n",
       "       [0.49153163, 0.50846837],\n",
       "       [0.49153163, 0.50846837],\n",
       "       [0.49153161, 0.50846839],\n",
       "       [0.49153164, 0.50846836],\n",
       "       [0.49153163, 0.50846837],\n",
       "       [0.49153166, 0.50846834],\n",
       "       [0.49153161, 0.50846839],\n",
       "       [0.49153162, 0.50846838],\n",
       "       [0.49153166, 0.50846834],\n",
       "       [0.49153165, 0.50846835],\n",
       "       [0.49153163, 0.50846837],\n",
       "       [0.49153161, 0.50846839],\n",
       "       [0.49153166, 0.50846834],\n",
       "       [0.49153164, 0.50846836],\n",
       "       [0.4915316 , 0.5084684 ],\n",
       "       [0.49153166, 0.50846834],\n",
       "       [0.49153165, 0.50846835],\n",
       "       [0.49153164, 0.50846836],\n",
       "       [0.49153166, 0.50846834],\n",
       "       [0.49153163, 0.50846837],\n",
       "       [0.49153162, 0.50846838],\n",
       "       [0.49153164, 0.50846836],\n",
       "       [0.49153166, 0.50846834],\n",
       "       [0.4915316 , 0.5084684 ],\n",
       "       [0.49153166, 0.50846834],\n",
       "       [0.49153161, 0.50846839],\n",
       "       [0.49153165, 0.50846835],\n",
       "       [0.49153162, 0.50846838],\n",
       "       [0.49153166, 0.50846834],\n",
       "       [0.49153163, 0.50846837],\n",
       "       [0.49153166, 0.50846834],\n",
       "       [0.49153167, 0.50846833],\n",
       "       [0.49153164, 0.50846836],\n",
       "       [0.49153165, 0.50846835],\n",
       "       [0.49153165, 0.50846835],\n",
       "       [0.49153161, 0.50846839],\n",
       "       [0.49153164, 0.50846836],\n",
       "       [0.49153165, 0.50846835],\n",
       "       [0.49153162, 0.50846838],\n",
       "       [0.49153164, 0.50846836],\n",
       "       [0.49153163, 0.50846837],\n",
       "       [0.49153164, 0.50846836],\n",
       "       [0.49153161, 0.50846839],\n",
       "       [0.49153165, 0.50846835],\n",
       "       [0.49153161, 0.50846839],\n",
       "       [0.49153164, 0.50846836]])"
      ]
     },
     "execution_count": 307,
     "metadata": {},
     "output_type": "execute_result"
    }
   ],
   "source": [
    "Y_prob = cls.predict_proba(X)\n",
    "Y_prob"
   ]
  },
  {
   "cell_type": "code",
   "execution_count": 308,
   "metadata": {},
   "outputs": [
    {
     "data": {
      "text/plain": [
       "array([0, 0, 0, 0, 0, 0, 0, 0, 0, 0, 0, 0, 0, 0, 0, 0, 0, 0, 0, 0, 0, 0,\n",
       "       0, 0, 0, 0, 0, 0, 0, 0, 0, 0, 0, 0, 0, 0, 0, 0, 0, 0, 0, 0, 0, 0,\n",
       "       0, 0, 0, 0, 0, 0, 0, 0, 0, 0, 0, 0, 0, 0, 0, 0, 0, 0, 0, 0, 0, 0,\n",
       "       0, 0, 0, 0, 0, 0, 0, 0, 0, 0, 0, 0, 0, 0, 0, 0, 0, 0, 0, 0, 0, 0,\n",
       "       0, 0, 0, 0, 0, 0, 0, 0, 0, 0, 0, 0, 0, 0, 0, 0, 0, 0, 0, 0, 0, 0,\n",
       "       0, 0, 0, 0, 0, 0, 0, 0])"
      ]
     },
     "execution_count": 308,
     "metadata": {},
     "output_type": "execute_result"
    }
   ],
   "source": [
    "Y_hat = cls.predict(X)\n",
    "Y_hat"
   ]
  },
  {
   "cell_type": "code",
   "execution_count": 309,
   "metadata": {},
   "outputs": [
    {
     "data": {
      "text/plain": [
       "0.5084745762711864"
      ]
     },
     "execution_count": 309,
     "metadata": {},
     "output_type": "execute_result"
    }
   ],
   "source": [
    "accuracy_score(Y, Y_hat)"
   ]
  },
  {
   "cell_type": "code",
   "execution_count": 310,
   "metadata": {},
   "outputs": [
    {
     "name": "stderr",
     "output_type": "stream",
     "text": [
      "C:\\Users\\MarKson\\AppData\\Local\\Temp\\ipykernel_11644\\1714921773.py:10: UserWarning: No contour levels were found within the data range.\n",
      "  ax.contour(xx1, xx2, Z, levels=[threshold], colors='black')\n"
     ]
    },
    {
     "data": {
      "image/png": "[encoded data removed]",
      "text/plain": [
       "<Figure size 432x288 with 1 Axes>"
      ]
     },
     "metadata": {
      "needs_background": "light"
     },
     "output_type": "display_data"
    }
   ],
   "source": [
    "plot_data(X, Y)\n",
    "plot_surface(cls, X[:, 0], X[:, 1])"
   ]
  },
  {
   "cell_type": "markdown",
   "metadata": {},
   "source": [
    "Зверніть увагу на границю прийняття рішення. Модель старається побудувати складну криву, що може свідчити про її перетренування. Порівняйте отримані результати з класом з sklearn. Спробуйте додати нові шари для нашого класу та порівняти результати тоді. Поекспериментуйте з гіперпараметрами для обох класів."
   ]
  },
  {
   "cell_type": "code",
   "execution_count": 311,
   "metadata": {},
   "outputs": [],
   "source": [
    "from sklearn.neural_network import MLPClassifier\n",
    "clf = MLPClassifier(hidden_layer_sizes = (20,), max_iter = 10000)#, activation = 'logistic', solver = 'sgd', learning_rate_init = 0.01, learning_rate = 'constant')"
   ]
  },
  {
   "cell_type": "code",
   "execution_count": 312,
   "metadata": {},
   "outputs": [
    {
     "data": {
      "text/plain": [
       "MLPClassifier(hidden_layer_sizes=(20,), max_iter=10000)"
      ]
     },
     "execution_count": 312,
     "metadata": {},
     "output_type": "execute_result"
    }
   ],
   "source": [
    "clf.fit(X, Y)"
   ]
  },
  {
   "cell_type": "code",
   "execution_count": 313,
   "metadata": {},
   "outputs": [
    {
     "data": {
      "image/png": "[encoded data removed]",
      "text/plain": [
       "<Figure size 432x288 with 1 Axes>"
      ]
     },
     "metadata": {
      "needs_background": "light"
     },
     "output_type": "display_data"
    }
   ],
   "source": [
    "plot_data(X, Y)\n",
    "plot_surface(clf, X[:, 0], X[:, 1])"
   ]
  },
  {
   "cell_type": "code",
   "execution_count": 314,
   "metadata": {},
   "outputs": [
    {
     "data": {
      "text/plain": [
       "0.8559322033898306"
      ]
     },
     "execution_count": 314,
     "metadata": {},
     "output_type": "execute_result"
    }
   ],
   "source": [
    "accuracy_score(Y, clf.predict(X))"
   ]
  },
  {
   "cell_type": "code",
   "execution_count": 315,
   "metadata": {},
   "outputs": [
    {
     "data": {
      "text/plain": [
       "1409"
      ]
     },
     "execution_count": 315,
     "metadata": {},
     "output_type": "execute_result"
    }
   ],
   "source": [
    "clf.n_iter_"
   ]
  }
 ],
 "metadata": {
  "anaconda-cloud": {},
  "kernelspec": {
   "display_name": "Python 3",
   "language": "python",
   "name": "python3"
  },
  "language_info": {
   "codemirror_mode": {
    "name": "ipython",
    "version": 3
   },
   "file_extension": ".py",
   "mimetype": "text/x-python",
   "name": "python",
   "nbconvert_exporter": "python",
   "pygments_lexer": "ipython3",
   "version": "3.10.2"
  }
 },
 "nbformat": 4,
 "nbformat_minor": 1
}
