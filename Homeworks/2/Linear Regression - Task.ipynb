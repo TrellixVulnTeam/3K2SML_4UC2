{
 "cells": [
  {
   "cell_type": "code",
   "execution_count": 66,
   "metadata": {},
   "outputs": [],
   "source": [
    "import numpy as np\n",
    "import pandas as pd\n",
    "from sklearn.model_selection import train_test_split\n",
    "from mpl_toolkits.mplot3d import Axes3D\n",
    "import matplotlib.pyplot as plt\n",
    "%matplotlib inline"
   ]
  },
  {
   "cell_type": "code",
   "execution_count": 67,
   "metadata": {},
   "outputs": [],
   "source": [
    "def load_datasets(filename, column_list, target_column):\n",
    "    '''\n",
    "    Читає вхідний файл\n",
    "    \n",
    "    Параметри:\n",
    "    filename - шлях до вхідного файлу з даними\n",
    "    column_list - список назв колонок-характеристик\n",
    "    target_column - назва колонки з цільовою величиною\n",
    "    \n",
    "    Результат:\n",
    "    X - набір характеристик\n",
    "    y - набір передбачуваних величин\n",
    "    '''\n",
    "    \n",
    "    df = pd.read_csv(filename, delimiter=',')\n",
    "    X, y = df[column_list], df[target_column]\n",
    "    return X, y"
   ]
  },
  {
   "cell_type": "code",
   "execution_count": 68,
   "metadata": {},
   "outputs": [],
   "source": [
    "def split_datasets(X, y, test_size = 0.2):\n",
    "    '''\n",
    "    Розбиває дані на 2 датасети: тренувальний та тестувальний.\n",
    "    \n",
    "    Параметри:\n",
    "    X - набір характеристик\n",
    "    y - набір передбачуваних величин\n",
    "    test_size - розмір тестового датасету\n",
    "    \n",
    "    Результат:\n",
    "    X_train - набір тренувальних прикладів\n",
    "    X_test - набір тестових прикладів\n",
    "    y_train - вектор величин, що передбачаємо для тренувального датасету\n",
    "    y_test - вектор величин, що передбачаємо для тестового датасету\n",
    "    '''\n",
    "    X_train, X_test, y_train, y_test = train_test_split(X, y, test_size=test_size)\n",
    "    return X_train, X_test, y_train, y_test"
   ]
  },
  {
   "cell_type": "code",
   "execution_count": 69,
   "metadata": {},
   "outputs": [],
   "source": [
    "def plot_data(X_train, X_test, y_train, y_test):\n",
    "    '''\n",
    "    Функція для відображення розподілу тренувальних та тестових даних (для однієї змінної)\n",
    "    '''\n",
    "    plt.scatter(X_train, y_train, marker='^', c='green')\n",
    "    plt.scatter(X_test, y_test, marker='o', c='red')\n",
    "    plt.show()"
   ]
  },
  {
   "cell_type": "code",
   "execution_count": 70,
   "metadata": {},
   "outputs": [],
   "source": [
    "def normalize(X):\n",
    "    '''\n",
    "    Нормалізує датасет з характеристиками\n",
    "    \n",
    "    Параметри:\n",
    "    X - набір характеристик\n",
    "    \n",
    "    Результат:\n",
    "    X_new - набір нормалізованих характеристик, (X-mean)/std\n",
    "    mean - вектор середніх значень характеристик\n",
    "    std - вектор стандартних девіацій характеристик\n",
    "    '''\n",
    "    ##################\n",
    "    # Заповнити змінні\n",
    "    ##################\n",
    "    mean = X.mean()\n",
    "    std = X.std()\n",
    "    X_new = (X - mean)/std\n",
    "    return X_new, mean, std"
   ]
  },
  {
   "cell_type": "code",
   "execution_count": 71,
   "metadata": {},
   "outputs": [],
   "source": [
    "def prepare_X(X):\n",
    "    '''\n",
    "    Формує датасет з рисами, де першою колонкою буде колонка з одиницями.\n",
    "    \n",
    "    Параметри:\n",
    "    X - вхідний датасет з прикладами, по одному в рядок. Кожна риса - відповідна колонка.\n",
    "    \n",
    "    Результат:\n",
    "    X_new - датасет, який складається з колонки одиниць, а решта колонок з X    \n",
    "    '''\n",
    "    m = X.shape[0]\n",
    "    ones = np.ones((m, 1))\n",
    "    X_new = np.array(X[:])\n",
    "    X_new = np.column_stack((ones, X_new))\n",
    "    return X_new"
   ]
  },
  {
   "cell_type": "code",
   "execution_count": 72,
   "metadata": {},
   "outputs": [],
   "source": [
    "def hypothesis(X, theta):\n",
    "    '''\n",
    "    Обчислює значення передбачуваної величини для вхідної матриці X та вектора параметрів thetha.\n",
    "    \n",
    "    Параметри:\n",
    "    X - матриця з рисами. Перша колонка - одиниці. Друга - дані риси.\n",
    "    thetha - вектор параметрів: [thetha0, thetha1]\n",
    "    \n",
    "    Результат:\n",
    "    Матриця значень шуканої величини для прикладів з X\n",
    "    '''\n",
    "    ######################\n",
    "    # Один рядок коду\n",
    "    ######################\n",
    "    h_theta =(pd.DataFrame(X) * pd.Series(theta)).sum(axis=1)\n",
    "    return h_theta"
   ]
  },
  {
   "cell_type": "code",
   "execution_count": 73,
   "metadata": {},
   "outputs": [],
   "source": [
    "def cost_function(X, y, theta):\n",
    "    '''\n",
    "    Функція для обчислення штрафної функції J.\n",
    "    \n",
    "    Параметри:\n",
    "    X - тренувальний датасет. 0 - колонка з одиниць, далі - реальні риси\n",
    "    y - точні значення передбачуваної величини\n",
    "    thethe - вектор параметрів регресії\n",
    "    \n",
    "    Результат:\n",
    "    Дійсне число - значення штрафної функції для набору прикладів X та параметрів thetha\n",
    "    '''\n",
    "    m = X.shape[0]\n",
    "    if m == 0:\n",
    "        return None\n",
    "    ######################\n",
    "    # 1-2 рядки коду\n",
    "    J = 1/(2*m)*sum((hypothesis(pd.DataFrame(X), pd.Series(theta)) - y)**2)\n",
    "    ######################\n",
    "    return J"
   ]
  },
  {
   "cell_type": "code",
   "execution_count": 74,
   "metadata": {},
   "outputs": [],
   "source": [
    "def derivative(X, y, theta):\n",
    "    m = X.shape[0]\n",
    "    '''\n",
    "    Функція для обчислення похідних штрафної функції J по thetha.\n",
    "    \n",
    "    Параметри:\n",
    "    X - тренувальний датасет. 0 - колонка з одиниць, далі - реальні риси\n",
    "    y - точні значення передбачуваної величини\n",
    "    thetha - вектор параметрів регресії\n",
    "    \n",
    "    Результат:\n",
    "    Вектор похідних d_thetha\n",
    "    '''\n",
    "    ######################\n",
    "    # 1 рядок коду\n",
    "    d_theta = 1/m * pd.DataFrame(X).mul(hypothesis(pd.DataFrame(X), pd.Series(theta)) - pd.Series(y), axis = 0).sum()\n",
    "    ######################\n",
    "    return d_theta"
   ]
  },
  {
   "cell_type": "code",
   "execution_count": 75,
   "metadata": {},
   "outputs": [],
   "source": [
    "def gradient_descent(X, y, theta, alpha, num_iters, print_J = True):\n",
    "    '''\n",
    "    Функція, що реалізує градієнтний спуск для метода лінійної регресії.\n",
    "    \n",
    "    Параметри:\n",
    "    X - тренувальний датасет. 0 - колонка з одиниць, далі - реальні риси\n",
    "    y - точні значення передбачуваної величини\n",
    "    thetha - вектор початкових параметрів регресії\n",
    "    alpha - швидкість навчання\n",
    "    num_iters - кількість ітерацій\n",
    "    print_J - виведення штрафної функції на екран після кожної ітерації\n",
    "    \n",
    "    Результат:\n",
    "    theta - оптимальні значення параметрів регресії\n",
    "    J_history - масив історичних значень штрафної функції після кожної ітерації\n",
    "    \n",
    "    \n",
    "    1) J_i (theta_0, theta_1)\n",
    "    2)  theta_0 = theta_0 - alpha*dtheta_0\n",
    "        theta_1 = theta_1 - alpha*dtheta_1\n",
    "        |J_i-J_{i-1}| < eps || num_iters>10000000000 -> break\n",
    "    3) goto 1\n",
    "    '''\n",
    "    m = X.shape[0]\n",
    "    J_history = []\n",
    "    J = cost_function(X, y, theta)\n",
    "    if print_J == True:\n",
    "        print(J)\n",
    "    J_history.append(J)\n",
    "    for i in range(num_iters):\n",
    "        ######################\n",
    "        # Використати написані вище функції\n",
    "        delta = derivative(X, y, theta)\n",
    "        theta = theta - alpha*delta\n",
    "        J = cost_function(X, y, theta)\n",
    "        ######################\n",
    "        if print_J == True:\n",
    "            print(J)\n",
    "        J_history.append(J)\n",
    "    return theta, J_history"
   ]
  },
  {
   "cell_type": "code",
   "execution_count": 76,
   "metadata": {},
   "outputs": [],
   "source": [
    "def plot_J(X, y):\n",
    "    '''\n",
    "    Функція для виведення графіків штрафної функції для різних значень параметрів на вхідних даних\n",
    "    \n",
    "    Параметри:\n",
    "    X - тренувальний датасет. 0 - колонка з одиниць, далі - реальні риси\n",
    "    y - точні значення передбачуваної величини\n",
    "    '''\n",
    "    theta_0 = np.linspace(-20, 20, 100)\n",
    "    theta_1 = np.linspace(-5, 10, 100)\n",
    "    \n",
    "    J_vals = np.zeros((len(theta_0), len(theta_1)))\n",
    "    for i, t0 in enumerate(theta_0):\n",
    "        for j, t1 in enumerate(theta_1):\n",
    "            theta = np.array([t0, t1])\n",
    "            J_vals[i, j] = cost_function(X, y, theta)\n",
    "    \n",
    "    J_vals = J_vals.T\n",
    "    fig = plt.figure()\n",
    "    ax = fig.gca(projection='3d')\n",
    "    ax.plot_surface(theta_0, theta_1, J_vals, color='b')\n",
    "    plt.xlabel('theta_0')\n",
    "    plt.ylabel('theta_1')\n",
    "    plt.title('Surface plot of the cost function')\n",
    "    plt.show()\n",
    "    plt.contour(theta_0, theta_1, J_vals, np.logspace(-2, 3, 20))\n",
    "    plt.xlabel('theta_0')\n",
    "    plt.ylabel('theta_1')\n",
    "    plt.title('Contour plot of the cost function')\n",
    "    plt.show()"
   ]
  },
  {
   "cell_type": "markdown",
   "metadata": {},
   "source": [
    "## Основний код програми"
   ]
  },
  {
   "cell_type": "markdown",
   "metadata": {},
   "source": [
    "Отримання датасетів та видрук їх параметрів."
   ]
  },
  {
   "cell_type": "code",
   "execution_count": 77,
   "metadata": {},
   "outputs": [
    {
     "name": "stdout",
     "output_type": "stream",
     "text": [
      "Dataset: X=(97, 1), y=(97,)\n"
     ]
    }
   ],
   "source": [
    "X, y = load_datasets('burrito.csv', [\"population\"], \"profit\")\n",
    "print('Dataset: X={}, y={}'.format(X.shape, y.shape))"
   ]
  },
  {
   "cell_type": "markdown",
   "metadata": {},
   "source": [
    "Розбиття датасету на частини:"
   ]
  },
  {
   "cell_type": "code",
   "execution_count": 78,
   "metadata": {},
   "outputs": [
    {
     "name": "stdout",
     "output_type": "stream",
     "text": [
      "Training set: X=(77, 1), y=(77,)\n",
      "Test set: X=(20, 1), y=(20,)\n"
     ]
    }
   ],
   "source": [
    "test_size = 0.2 #0.0\n",
    "X_train, X_test, y_train, y_test = split_datasets(X, y, test_size)\n",
    "print('Training set: X={}, y={}'.format(X_train.shape, y_train.shape))\n",
    "print('Test set: X={}, y={}'.format(X_test.shape, y_test.shape))"
   ]
  },
  {
   "cell_type": "markdown",
   "metadata": {},
   "source": [
    "Відображення тренувальних і тестових даних на графіку (для 1 змінної)"
   ]
  },
  {
   "cell_type": "code",
   "execution_count": 79,
   "metadata": {},
   "outputs": [
    {
     "data": {
      "image/png": "[encoded data removed]",
      "text/plain": [
       "<Figure size 432x288 with 1 Axes>"
      ]
     },
     "metadata": {
      "needs_background": "light"
     },
     "output_type": "display_data"
    }
   ],
   "source": [
    "plot_data(X_train, X_test, y_train, y_test)"
   ]
  },
  {
   "cell_type": "markdown",
   "metadata": {},
   "source": [
    "Підготовка тренувальних даних (додавання 0-колонки з одиницями). Ініціалізація параметрів регресії (0, 0): "
   ]
  },
  {
   "cell_type": "code",
   "execution_count": 80,
   "metadata": {
    "collapsed": true
   },
   "outputs": [],
   "source": [
    "X_train_norm, mean, std = normalize(X_train)\n",
    "X = prepare_X(X_train_norm)\n",
    "theta = np.array([0, 0])"
   ]
  },
  {
   "cell_type": "markdown",
   "metadata": {},
   "source": [
    "Для спрощення записів аліас для вектора передбачуваних значень"
   ]
  },
  {
   "cell_type": "code",
   "execution_count": 81,
   "metadata": {
    "collapsed": true
   },
   "outputs": [],
   "source": [
    "y = y_train[:]"
   ]
  },
  {
   "cell_type": "markdown",
   "metadata": {},
   "source": [
    "У випадку використання ВСІХ даних для тренування (test_size=0.0), штрафна функція має повернути величину близьку до 32.072."
   ]
  },
  {
   "cell_type": "code",
   "execution_count": 82,
   "metadata": {},
   "outputs": [
    {
     "name": "stdout",
     "output_type": "stream",
     "text": [
      "X: (77, 2)\n",
      "y: (77,)\n",
      "nan\n"
     ]
    }
   ],
   "source": [
    "print('X: {}'.format(X.shape))\n",
    "print('y: {}'.format(y.shape))\n",
    "print(cost_function(X, y, theta))"
   ]
  },
  {
   "cell_type": "markdown",
   "metadata": {},
   "source": [
    "Налаштування гіперпараметрів регресії: швидкості навчання та кількості ітерацій."
   ]
  },
  {
   "cell_type": "code",
   "execution_count": 83,
   "metadata": {
    "collapsed": true
   },
   "outputs": [],
   "source": [
    "alpha = 0.01\n",
    "num_iters = 1500"
   ]
  },
  {
   "cell_type": "markdown",
   "metadata": {},
   "source": [
    "Запуск градієнтного спуску та видрук знайдених оптимальних значень на екран. У випадку використання всіх даних для тренування, результати будуть близькі до Theta 0: 5.84; Theta 1: 4.59"
   ]
  },
  {
   "cell_type": "code",
   "execution_count": 84,
   "metadata": {},
   "outputs": [
    {
     "name": "stdout",
     "output_type": "stream",
     "text": [
      "<class 'pandas.core.series.Series'>\n",
      "Theta 0: 6.706681312938516; Theta 1: 0.7233437091337493\n"
     ]
    }
   ],
   "source": [
    "print(type(hypothesis(X, theta)))\n",
    "new_theta, Js = gradient_descent(X, y, theta, alpha, num_iters, False)\n",
    "print('Theta 0: {}; Theta 1: {}'.format(new_theta[0], new_theta[1]))"
   ]
  },
  {
   "cell_type": "markdown",
   "metadata": {},
   "source": [
    "Відображення штрафної функції як функції від thetha0, thetha1."
   ]
  },
  {
   "cell_type": "code",
   "execution_count": 85,
   "metadata": {},
   "outputs": [
    {
     "name": "stderr",
     "output_type": "stream",
     "text": [
      "C:\\Users\\MarKson\\AppData\\Local\\Temp\\ipykernel_10628\\4287163605.py:20: MatplotlibDeprecationWarning: Calling gca() with keyword arguments was deprecated in Matplotlib 3.4. Starting two minor releases later, gca() will take no keyword arguments. The gca() function should only be used to get the current axes, or if no axes exist, create new axes with default keyword arguments. To create a new axes with non-default arguments, use plt.axes() or plt.subplot().\n",
      "  ax = fig.gca(projection='3d')\n"
     ]
    },
    {
     "data": {
      "image/png": "[encoded data removed]",
      "text/plain": [
       "<Figure size 432x288 with 1 Axes>"
      ]
     },
     "metadata": {
      "needs_background": "light"
     },
     "output_type": "display_data"
    },
    {
     "name": "stderr",
     "output_type": "stream",
     "text": [
      "c:\\Programs\\MyPrograms\\Python\\ML\\3K2SML\\Homeworks\\2\\venv_2\\lib\\site-packages\\matplotlib\\contour.py:1486: UserWarning: Warning: converting a masked element to nan.\n",
      "  self.zmax = float(z.max())\n",
      "c:\\Programs\\MyPrograms\\Python\\ML\\3K2SML\\Homeworks\\2\\venv_2\\lib\\site-packages\\matplotlib\\contour.py:1487: UserWarning: Warning: converting a masked element to nan.\n",
      "  self.zmin = float(z.min())\n",
      "C:\\Users\\MarKson\\AppData\\Local\\Temp\\ipykernel_10628\\4287163605.py:26: UserWarning: No contour levels were found within the data range.\n",
      "  plt.contour(theta_0, theta_1, J_vals, np.logspace(-2, 3, 20))\n"
     ]
    },
    {
     "data": {
      "image/png": "[encoded data removed]",
      "text/plain": [
       "<Figure size 432x288 with 1 Axes>"
      ]
     },
     "metadata": {
      "needs_background": "light"
     },
     "output_type": "display_data"
    }
   ],
   "source": [
    "plot_J(X, y)"
   ]
  },
  {
   "cell_type": "markdown",
   "metadata": {},
   "source": [
    "Відображення знайденої апроксимації разом із тренувальними даними."
   ]
  },
  {
   "cell_type": "code",
   "execution_count": 86,
   "metadata": {},
   "outputs": [
    {
     "ename": "ValueError",
     "evalue": "Length of values (220) does not match length of index (1)",
     "output_type": "error",
     "traceback": [
      "\u001b[1;31m---------------------------------------------------------------------------\u001b[0m",
      "\u001b[1;31mValueError\u001b[0m                                Traceback (most recent call last)",
      "\u001b[1;32mc:\\Programs\\MyPrograms\\Python\\ML\\3K2SML\\Homeworks\\2\\Linear Regression - Task.ipynb Cell 32'\u001b[0m in \u001b[0;36m<cell line: 2>\u001b[1;34m()\u001b[0m\n\u001b[0;32m      <a href='vscode-notebook-cell:/c%3A/Programs/MyPrograms/Python/ML/3K2SML/Homeworks/2/Linear%20Regression%20-%20Task.ipynb#ch0000031?line=0'>1</a>\u001b[0m x \u001b[39m=\u001b[39m np\u001b[39m.\u001b[39marange(\u001b[39m3\u001b[39m, \u001b[39m25\u001b[39m, \u001b[39m0.1\u001b[39m)\n\u001b[1;32m----> <a href='vscode-notebook-cell:/c%3A/Programs/MyPrograms/Python/ML/3K2SML/Homeworks/2/Linear%20Regression%20-%20Task.ipynb#ch0000031?line=1'>2</a>\u001b[0m h \u001b[39m=\u001b[39m new_theta[\u001b[39m0\u001b[39m] \u001b[39m+\u001b[39m new_theta[\u001b[39m1\u001b[39m]\u001b[39m*\u001b[39m(x\u001b[39m-\u001b[39;49mmean)\u001b[39m/\u001b[39mstd\n\u001b[0;32m      <a href='vscode-notebook-cell:/c%3A/Programs/MyPrograms/Python/ML/3K2SML/Homeworks/2/Linear%20Regression%20-%20Task.ipynb#ch0000031?line=3'>4</a>\u001b[0m plt\u001b[39m.\u001b[39mplot(x, h)\n\u001b[0;32m      <a href='vscode-notebook-cell:/c%3A/Programs/MyPrograms/Python/ML/3K2SML/Homeworks/2/Linear%20Regression%20-%20Task.ipynb#ch0000031?line=4'>5</a>\u001b[0m plt\u001b[39m.\u001b[39mscatter(X_new[:, \u001b[39m1\u001b[39m], y_train, marker\u001b[39m=\u001b[39m\u001b[39m'\u001b[39m\u001b[39mx\u001b[39m\u001b[39m'\u001b[39m, c\u001b[39m=\u001b[39m\u001b[39m'\u001b[39m\u001b[39mgreen\u001b[39m\u001b[39m'\u001b[39m)\n",
      "File \u001b[1;32mc:\\Programs\\MyPrograms\\Python\\ML\\3K2SML\\Homeworks\\2\\venv_2\\lib\\site-packages\\pandas\\core\\generic.py:2113\u001b[0m, in \u001b[0;36mNDFrame.__array_ufunc__\u001b[1;34m(self, ufunc, method, *inputs, **kwargs)\u001b[0m\n\u001b[0;32m   <a href='file:///c%3A/Programs/MyPrograms/Python/ML/3K2SML/Homeworks/2/venv_2/lib/site-packages/pandas/core/generic.py?line=2108'>2109</a>\u001b[0m \u001b[39m@final\u001b[39m\n\u001b[0;32m   <a href='file:///c%3A/Programs/MyPrograms/Python/ML/3K2SML/Homeworks/2/venv_2/lib/site-packages/pandas/core/generic.py?line=2109'>2110</a>\u001b[0m \u001b[39mdef\u001b[39;00m \u001b[39m__array_ufunc__\u001b[39m(\n\u001b[0;32m   <a href='file:///c%3A/Programs/MyPrograms/Python/ML/3K2SML/Homeworks/2/venv_2/lib/site-packages/pandas/core/generic.py?line=2110'>2111</a>\u001b[0m     \u001b[39mself\u001b[39m, ufunc: np\u001b[39m.\u001b[39mufunc, method: \u001b[39mstr\u001b[39m, \u001b[39m*\u001b[39minputs: Any, \u001b[39m*\u001b[39m\u001b[39m*\u001b[39mkwargs: Any\n\u001b[0;32m   <a href='file:///c%3A/Programs/MyPrograms/Python/ML/3K2SML/Homeworks/2/venv_2/lib/site-packages/pandas/core/generic.py?line=2111'>2112</a>\u001b[0m ):\n\u001b[1;32m-> <a href='file:///c%3A/Programs/MyPrograms/Python/ML/3K2SML/Homeworks/2/venv_2/lib/site-packages/pandas/core/generic.py?line=2112'>2113</a>\u001b[0m     \u001b[39mreturn\u001b[39;00m arraylike\u001b[39m.\u001b[39marray_ufunc(\u001b[39mself\u001b[39m, ufunc, method, \u001b[39m*\u001b[39minputs, \u001b[39m*\u001b[39m\u001b[39m*\u001b[39mkwargs)\n",
      "File \u001b[1;32mc:\\Programs\\MyPrograms\\Python\\ML\\3K2SML\\Homeworks\\2\\venv_2\\lib\\site-packages\\pandas\\core\\arraylike.py:263\u001b[0m, in \u001b[0;36marray_ufunc\u001b[1;34m(self, ufunc, method, *inputs, **kwargs)\u001b[0m\n\u001b[0;32m    <a href='file:///c%3A/Programs/MyPrograms/Python/ML/3K2SML/Homeworks/2/venv_2/lib/site-packages/pandas/core/arraylike.py?line=259'>260</a>\u001b[0m     \u001b[39mreturn\u001b[39;00m result\n\u001b[0;32m    <a href='file:///c%3A/Programs/MyPrograms/Python/ML/3K2SML/Homeworks/2/venv_2/lib/site-packages/pandas/core/arraylike.py?line=261'>262</a>\u001b[0m \u001b[39m# for binary ops, use our custom dunder methods\u001b[39;00m\n\u001b[1;32m--> <a href='file:///c%3A/Programs/MyPrograms/Python/ML/3K2SML/Homeworks/2/venv_2/lib/site-packages/pandas/core/arraylike.py?line=262'>263</a>\u001b[0m result \u001b[39m=\u001b[39m maybe_dispatch_ufunc_to_dunder_op(\u001b[39mself\u001b[39m, ufunc, method, \u001b[39m*\u001b[39minputs, \u001b[39m*\u001b[39m\u001b[39m*\u001b[39mkwargs)\n\u001b[0;32m    <a href='file:///c%3A/Programs/MyPrograms/Python/ML/3K2SML/Homeworks/2/venv_2/lib/site-packages/pandas/core/arraylike.py?line=263'>264</a>\u001b[0m \u001b[39mif\u001b[39;00m result \u001b[39mis\u001b[39;00m \u001b[39mnot\u001b[39;00m \u001b[39mNotImplemented\u001b[39m:\n\u001b[0;32m    <a href='file:///c%3A/Programs/MyPrograms/Python/ML/3K2SML/Homeworks/2/venv_2/lib/site-packages/pandas/core/arraylike.py?line=264'>265</a>\u001b[0m     \u001b[39mreturn\u001b[39;00m result\n",
      "File \u001b[1;32mc:\\Programs\\MyPrograms\\Python\\ML\\3K2SML\\Homeworks\\2\\venv_2\\lib\\site-packages\\pandas\\_libs\\ops_dispatch.pyx:113\u001b[0m, in \u001b[0;36mpandas._libs.ops_dispatch.maybe_dispatch_ufunc_to_dunder_op\u001b[1;34m()\u001b[0m\n",
      "File \u001b[1;32mc:\\Programs\\MyPrograms\\Python\\ML\\3K2SML\\Homeworks\\2\\venv_2\\lib\\site-packages\\pandas\\core\\ops\\common.py:70\u001b[0m, in \u001b[0;36m_unpack_zerodim_and_defer.<locals>.new_method\u001b[1;34m(self, other)\u001b[0m\n\u001b[0;32m     <a href='file:///c%3A/Programs/MyPrograms/Python/ML/3K2SML/Homeworks/2/venv_2/lib/site-packages/pandas/core/ops/common.py?line=65'>66</a>\u001b[0m             \u001b[39mreturn\u001b[39;00m \u001b[39mNotImplemented\u001b[39m\n\u001b[0;32m     <a href='file:///c%3A/Programs/MyPrograms/Python/ML/3K2SML/Homeworks/2/venv_2/lib/site-packages/pandas/core/ops/common.py?line=67'>68</a>\u001b[0m other \u001b[39m=\u001b[39m item_from_zerodim(other)\n\u001b[1;32m---> <a href='file:///c%3A/Programs/MyPrograms/Python/ML/3K2SML/Homeworks/2/venv_2/lib/site-packages/pandas/core/ops/common.py?line=69'>70</a>\u001b[0m \u001b[39mreturn\u001b[39;00m method(\u001b[39mself\u001b[39;49m, other)\n",
      "File \u001b[1;32mc:\\Programs\\MyPrograms\\Python\\ML\\3K2SML\\Homeworks\\2\\venv_2\\lib\\site-packages\\pandas\\core\\arraylike.py:112\u001b[0m, in \u001b[0;36mOpsMixin.__rsub__\u001b[1;34m(self, other)\u001b[0m\n\u001b[0;32m    <a href='file:///c%3A/Programs/MyPrograms/Python/ML/3K2SML/Homeworks/2/venv_2/lib/site-packages/pandas/core/arraylike.py?line=109'>110</a>\u001b[0m \u001b[39m@unpack_zerodim_and_defer\u001b[39m(\u001b[39m\"\u001b[39m\u001b[39m__rsub__\u001b[39m\u001b[39m\"\u001b[39m)\n\u001b[0;32m    <a href='file:///c%3A/Programs/MyPrograms/Python/ML/3K2SML/Homeworks/2/venv_2/lib/site-packages/pandas/core/arraylike.py?line=110'>111</a>\u001b[0m \u001b[39mdef\u001b[39;00m \u001b[39m__rsub__\u001b[39m(\u001b[39mself\u001b[39m, other):\n\u001b[1;32m--> <a href='file:///c%3A/Programs/MyPrograms/Python/ML/3K2SML/Homeworks/2/venv_2/lib/site-packages/pandas/core/arraylike.py?line=111'>112</a>\u001b[0m     \u001b[39mreturn\u001b[39;00m \u001b[39mself\u001b[39;49m\u001b[39m.\u001b[39;49m_arith_method(other, roperator\u001b[39m.\u001b[39;49mrsub)\n",
      "File \u001b[1;32mc:\\Programs\\MyPrograms\\Python\\ML\\3K2SML\\Homeworks\\2\\venv_2\\lib\\site-packages\\pandas\\core\\series.py:5639\u001b[0m, in \u001b[0;36mSeries._arith_method\u001b[1;34m(self, other, op)\u001b[0m\n\u001b[0;32m   <a href='file:///c%3A/Programs/MyPrograms/Python/ML/3K2SML/Homeworks/2/venv_2/lib/site-packages/pandas/core/series.py?line=5636'>5637</a>\u001b[0m \u001b[39mdef\u001b[39;00m \u001b[39m_arith_method\u001b[39m(\u001b[39mself\u001b[39m, other, op):\n\u001b[0;32m   <a href='file:///c%3A/Programs/MyPrograms/Python/ML/3K2SML/Homeworks/2/venv_2/lib/site-packages/pandas/core/series.py?line=5637'>5638</a>\u001b[0m     \u001b[39mself\u001b[39m, other \u001b[39m=\u001b[39m ops\u001b[39m.\u001b[39malign_method_SERIES(\u001b[39mself\u001b[39m, other)\n\u001b[1;32m-> <a href='file:///c%3A/Programs/MyPrograms/Python/ML/3K2SML/Homeworks/2/venv_2/lib/site-packages/pandas/core/series.py?line=5638'>5639</a>\u001b[0m     \u001b[39mreturn\u001b[39;00m base\u001b[39m.\u001b[39;49mIndexOpsMixin\u001b[39m.\u001b[39;49m_arith_method(\u001b[39mself\u001b[39;49m, other, op)\n",
      "File \u001b[1;32mc:\\Programs\\MyPrograms\\Python\\ML\\3K2SML\\Homeworks\\2\\venv_2\\lib\\site-packages\\pandas\\core\\base.py:1297\u001b[0m, in \u001b[0;36mIndexOpsMixin._arith_method\u001b[1;34m(self, other, op)\u001b[0m\n\u001b[0;32m   <a href='file:///c%3A/Programs/MyPrograms/Python/ML/3K2SML/Homeworks/2/venv_2/lib/site-packages/pandas/core/base.py?line=1293'>1294</a>\u001b[0m \u001b[39mwith\u001b[39;00m np\u001b[39m.\u001b[39merrstate(\u001b[39mall\u001b[39m\u001b[39m=\u001b[39m\u001b[39m\"\u001b[39m\u001b[39mignore\u001b[39m\u001b[39m\"\u001b[39m):\n\u001b[0;32m   <a href='file:///c%3A/Programs/MyPrograms/Python/ML/3K2SML/Homeworks/2/venv_2/lib/site-packages/pandas/core/base.py?line=1294'>1295</a>\u001b[0m     result \u001b[39m=\u001b[39m ops\u001b[39m.\u001b[39marithmetic_op(lvalues, rvalues, op)\n\u001b[1;32m-> <a href='file:///c%3A/Programs/MyPrograms/Python/ML/3K2SML/Homeworks/2/venv_2/lib/site-packages/pandas/core/base.py?line=1296'>1297</a>\u001b[0m \u001b[39mreturn\u001b[39;00m \u001b[39mself\u001b[39;49m\u001b[39m.\u001b[39;49m_construct_result(result, name\u001b[39m=\u001b[39;49mres_name)\n",
      "File \u001b[1;32mc:\\Programs\\MyPrograms\\Python\\ML\\3K2SML\\Homeworks\\2\\venv_2\\lib\\site-packages\\pandas\\core\\series.py:3017\u001b[0m, in \u001b[0;36mSeries._construct_result\u001b[1;34m(self, result, name)\u001b[0m\n\u001b[0;32m   <a href='file:///c%3A/Programs/MyPrograms/Python/ML/3K2SML/Homeworks/2/venv_2/lib/site-packages/pandas/core/series.py?line=3012'>3013</a>\u001b[0m     \u001b[39mreturn\u001b[39;00m (res1, res2)\n\u001b[0;32m   <a href='file:///c%3A/Programs/MyPrograms/Python/ML/3K2SML/Homeworks/2/venv_2/lib/site-packages/pandas/core/series.py?line=3014'>3015</a>\u001b[0m \u001b[39m# We do not pass dtype to ensure that the Series constructor\u001b[39;00m\n\u001b[0;32m   <a href='file:///c%3A/Programs/MyPrograms/Python/ML/3K2SML/Homeworks/2/venv_2/lib/site-packages/pandas/core/series.py?line=3015'>3016</a>\u001b[0m \u001b[39m#  does inference in the case where `result` has object-dtype.\u001b[39;00m\n\u001b[1;32m-> <a href='file:///c%3A/Programs/MyPrograms/Python/ML/3K2SML/Homeworks/2/venv_2/lib/site-packages/pandas/core/series.py?line=3016'>3017</a>\u001b[0m out \u001b[39m=\u001b[39m \u001b[39mself\u001b[39;49m\u001b[39m.\u001b[39;49m_constructor(result, index\u001b[39m=\u001b[39;49m\u001b[39mself\u001b[39;49m\u001b[39m.\u001b[39;49mindex)\n\u001b[0;32m   <a href='file:///c%3A/Programs/MyPrograms/Python/ML/3K2SML/Homeworks/2/venv_2/lib/site-packages/pandas/core/series.py?line=3017'>3018</a>\u001b[0m out \u001b[39m=\u001b[39m out\u001b[39m.\u001b[39m__finalize__(\u001b[39mself\u001b[39m)\n\u001b[0;32m   <a href='file:///c%3A/Programs/MyPrograms/Python/ML/3K2SML/Homeworks/2/venv_2/lib/site-packages/pandas/core/series.py?line=3019'>3020</a>\u001b[0m \u001b[39m# Set the result's name after __finalize__ is called because __finalize__\u001b[39;00m\n\u001b[0;32m   <a href='file:///c%3A/Programs/MyPrograms/Python/ML/3K2SML/Homeworks/2/venv_2/lib/site-packages/pandas/core/series.py?line=3020'>3021</a>\u001b[0m \u001b[39m#  would set it back to self.name\u001b[39;00m\n",
      "File \u001b[1;32mc:\\Programs\\MyPrograms\\Python\\ML\\3K2SML\\Homeworks\\2\\venv_2\\lib\\site-packages\\pandas\\core\\series.py:442\u001b[0m, in \u001b[0;36mSeries.__init__\u001b[1;34m(self, data, index, dtype, name, copy, fastpath)\u001b[0m\n\u001b[0;32m    <a href='file:///c%3A/Programs/MyPrograms/Python/ML/3K2SML/Homeworks/2/venv_2/lib/site-packages/pandas/core/series.py?line=439'>440</a>\u001b[0m     index \u001b[39m=\u001b[39m default_index(\u001b[39mlen\u001b[39m(data))\n\u001b[0;32m    <a href='file:///c%3A/Programs/MyPrograms/Python/ML/3K2SML/Homeworks/2/venv_2/lib/site-packages/pandas/core/series.py?line=440'>441</a>\u001b[0m \u001b[39melif\u001b[39;00m is_list_like(data):\n\u001b[1;32m--> <a href='file:///c%3A/Programs/MyPrograms/Python/ML/3K2SML/Homeworks/2/venv_2/lib/site-packages/pandas/core/series.py?line=441'>442</a>\u001b[0m     com\u001b[39m.\u001b[39;49mrequire_length_match(data, index)\n\u001b[0;32m    <a href='file:///c%3A/Programs/MyPrograms/Python/ML/3K2SML/Homeworks/2/venv_2/lib/site-packages/pandas/core/series.py?line=443'>444</a>\u001b[0m \u001b[39m# create/copy the manager\u001b[39;00m\n\u001b[0;32m    <a href='file:///c%3A/Programs/MyPrograms/Python/ML/3K2SML/Homeworks/2/venv_2/lib/site-packages/pandas/core/series.py?line=444'>445</a>\u001b[0m \u001b[39mif\u001b[39;00m \u001b[39misinstance\u001b[39m(data, (SingleBlockManager, SingleArrayManager)):\n",
      "File \u001b[1;32mc:\\Programs\\MyPrograms\\Python\\ML\\3K2SML\\Homeworks\\2\\venv_2\\lib\\site-packages\\pandas\\core\\common.py:557\u001b[0m, in \u001b[0;36mrequire_length_match\u001b[1;34m(data, index)\u001b[0m\n\u001b[0;32m    <a href='file:///c%3A/Programs/MyPrograms/Python/ML/3K2SML/Homeworks/2/venv_2/lib/site-packages/pandas/core/common.py?line=552'>553</a>\u001b[0m \u001b[39m\"\"\"\u001b[39;00m\n\u001b[0;32m    <a href='file:///c%3A/Programs/MyPrograms/Python/ML/3K2SML/Homeworks/2/venv_2/lib/site-packages/pandas/core/common.py?line=553'>554</a>\u001b[0m \u001b[39mCheck the length of data matches the length of the index.\u001b[39;00m\n\u001b[0;32m    <a href='file:///c%3A/Programs/MyPrograms/Python/ML/3K2SML/Homeworks/2/venv_2/lib/site-packages/pandas/core/common.py?line=554'>555</a>\u001b[0m \u001b[39m\"\"\"\u001b[39;00m\n\u001b[0;32m    <a href='file:///c%3A/Programs/MyPrograms/Python/ML/3K2SML/Homeworks/2/venv_2/lib/site-packages/pandas/core/common.py?line=555'>556</a>\u001b[0m \u001b[39mif\u001b[39;00m \u001b[39mlen\u001b[39m(data) \u001b[39m!=\u001b[39m \u001b[39mlen\u001b[39m(index):\n\u001b[1;32m--> <a href='file:///c%3A/Programs/MyPrograms/Python/ML/3K2SML/Homeworks/2/venv_2/lib/site-packages/pandas/core/common.py?line=556'>557</a>\u001b[0m     \u001b[39mraise\u001b[39;00m \u001b[39mValueError\u001b[39;00m(\n\u001b[0;32m    <a href='file:///c%3A/Programs/MyPrograms/Python/ML/3K2SML/Homeworks/2/venv_2/lib/site-packages/pandas/core/common.py?line=557'>558</a>\u001b[0m         \u001b[39m\"\u001b[39m\u001b[39mLength of values \u001b[39m\u001b[39m\"\u001b[39m\n\u001b[0;32m    <a href='file:///c%3A/Programs/MyPrograms/Python/ML/3K2SML/Homeworks/2/venv_2/lib/site-packages/pandas/core/common.py?line=558'>559</a>\u001b[0m         \u001b[39mf\u001b[39m\u001b[39m\"\u001b[39m\u001b[39m(\u001b[39m\u001b[39m{\u001b[39;00m\u001b[39mlen\u001b[39m(data)\u001b[39m}\u001b[39;00m\u001b[39m) \u001b[39m\u001b[39m\"\u001b[39m\n\u001b[0;32m    <a href='file:///c%3A/Programs/MyPrograms/Python/ML/3K2SML/Homeworks/2/venv_2/lib/site-packages/pandas/core/common.py?line=559'>560</a>\u001b[0m         \u001b[39m\"\u001b[39m\u001b[39mdoes not match length of index \u001b[39m\u001b[39m\"\u001b[39m\n\u001b[0;32m    <a href='file:///c%3A/Programs/MyPrograms/Python/ML/3K2SML/Homeworks/2/venv_2/lib/site-packages/pandas/core/common.py?line=560'>561</a>\u001b[0m         \u001b[39mf\u001b[39m\u001b[39m\"\u001b[39m\u001b[39m(\u001b[39m\u001b[39m{\u001b[39;00m\u001b[39mlen\u001b[39m(index)\u001b[39m}\u001b[39;00m\u001b[39m)\u001b[39m\u001b[39m\"\u001b[39m\n\u001b[0;32m    <a href='file:///c%3A/Programs/MyPrograms/Python/ML/3K2SML/Homeworks/2/venv_2/lib/site-packages/pandas/core/common.py?line=561'>562</a>\u001b[0m     )\n",
      "\u001b[1;31mValueError\u001b[0m: Length of values (220) does not match length of index (1)"
     ]
    }
   ],
   "source": [
    "x = np.arange(3, 25, 0.1)\n",
    "h = new_theta[0] + new_theta[1]*(x-mean)/std\n",
    "\n",
    "plt.plot(x, h)\n",
    "plt.scatter(X_new[:, 1], y_train, marker='x', c='green')\n",
    "\n",
    "plt.show()"
   ]
  },
  {
   "cell_type": "markdown",
   "metadata": {},
   "source": [
    "Оцінка похибки апроксимації на тестових даних (test_size має бути більше 0.0 та менше 1.0)."
   ]
  },
  {
   "cell_type": "code",
   "execution_count": null,
   "metadata": {},
   "outputs": [
    {
     "ename": "ValueError",
     "evalue": "Data must be 1-dimensional",
     "output_type": "error",
     "traceback": [
      "\u001b[1;31m---------------------------------------------------------------------------\u001b[0m",
      "\u001b[1;31mValueError\u001b[0m                                Traceback (most recent call last)",
      "\u001b[1;32mc:\\Programs\\MyPrograms\\Python\\ML\\3K2SML\\Homeworks\\2\\Linear Regression - Task.ipynb Cell 34'\u001b[0m in \u001b[0;36m<cell line: 9>\u001b[1;34m()\u001b[0m\n\u001b[0;32m      <a href='vscode-notebook-cell:/c%3A/Programs/MyPrograms/Python/ML/3K2SML/Homeworks/2/Linear%20Regression%20-%20Task.ipynb#ch0000033?line=5'>6</a>\u001b[0m y_test_pred \u001b[39m=\u001b[39m hypothesis(X_test_proc, new_theta)\n\u001b[0;32m      <a href='vscode-notebook-cell:/c%3A/Programs/MyPrograms/Python/ML/3K2SML/Homeworks/2/Linear%20Regression%20-%20Task.ipynb#ch0000033?line=6'>7</a>\u001b[0m rel_diff \u001b[39m=\u001b[39m np\u001b[39m.\u001b[39mabs(np\u001b[39m.\u001b[39mdivide(y_test \u001b[39m-\u001b[39m y_test_pred, y_test)) \u001b[39m*\u001b[39m \u001b[39m100\u001b[39m\n\u001b[1;32m----> <a href='vscode-notebook-cell:/c%3A/Programs/MyPrograms/Python/ML/3K2SML/Homeworks/2/Linear%20Regression%20-%20Task.ipynb#ch0000033?line=8'>9</a>\u001b[0m res \u001b[39m=\u001b[39m pd\u001b[39m.\u001b[39;49mDataFrame({\u001b[39m'\u001b[39;49m\u001b[39mX\u001b[39;49m\u001b[39m'\u001b[39;49m : X_test, \u001b[39m'\u001b[39;49m\u001b[39my_actual\u001b[39;49m\u001b[39m'\u001b[39;49m : y_test, \u001b[39m'\u001b[39;49m\u001b[39my_pred\u001b[39;49m\u001b[39m'\u001b[39;49m : y_test_pred, \u001b[39m'\u001b[39;49m\u001b[39merr\u001b[39;49m\u001b[39m'\u001b[39;49m : rel_diff})\n\u001b[0;32m     <a href='vscode-notebook-cell:/c%3A/Programs/MyPrograms/Python/ML/3K2SML/Homeworks/2/Linear%20Regression%20-%20Task.ipynb#ch0000033?line=9'>10</a>\u001b[0m \u001b[39mprint\u001b[39m(res)\n\u001b[0;32m     <a href='vscode-notebook-cell:/c%3A/Programs/MyPrograms/Python/ML/3K2SML/Homeworks/2/Linear%20Regression%20-%20Task.ipynb#ch0000033?line=10'>11</a>\u001b[0m \u001b[39mprint\u001b[39m(cost_function(X_test_proc, y_test, new_theta))\n",
      "File \u001b[1;32mc:\\Programs\\MyPrograms\\Python\\ML\\3K2SML\\Homeworks\\2\\venv_2\\lib\\site-packages\\pandas\\core\\frame.py:636\u001b[0m, in \u001b[0;36mDataFrame.__init__\u001b[1;34m(self, data, index, columns, dtype, copy)\u001b[0m\n\u001b[0;32m    <a href='file:///c%3A/Programs/MyPrograms/Python/ML/3K2SML/Homeworks/2/venv_2/lib/site-packages/pandas/core/frame.py?line=629'>630</a>\u001b[0m     mgr \u001b[39m=\u001b[39m \u001b[39mself\u001b[39m\u001b[39m.\u001b[39m_init_mgr(\n\u001b[0;32m    <a href='file:///c%3A/Programs/MyPrograms/Python/ML/3K2SML/Homeworks/2/venv_2/lib/site-packages/pandas/core/frame.py?line=630'>631</a>\u001b[0m         data, axes\u001b[39m=\u001b[39m{\u001b[39m\"\u001b[39m\u001b[39mindex\u001b[39m\u001b[39m\"\u001b[39m: index, \u001b[39m\"\u001b[39m\u001b[39mcolumns\u001b[39m\u001b[39m\"\u001b[39m: columns}, dtype\u001b[39m=\u001b[39mdtype, copy\u001b[39m=\u001b[39mcopy\n\u001b[0;32m    <a href='file:///c%3A/Programs/MyPrograms/Python/ML/3K2SML/Homeworks/2/venv_2/lib/site-packages/pandas/core/frame.py?line=631'>632</a>\u001b[0m     )\n\u001b[0;32m    <a href='file:///c%3A/Programs/MyPrograms/Python/ML/3K2SML/Homeworks/2/venv_2/lib/site-packages/pandas/core/frame.py?line=633'>634</a>\u001b[0m \u001b[39melif\u001b[39;00m \u001b[39misinstance\u001b[39m(data, \u001b[39mdict\u001b[39m):\n\u001b[0;32m    <a href='file:///c%3A/Programs/MyPrograms/Python/ML/3K2SML/Homeworks/2/venv_2/lib/site-packages/pandas/core/frame.py?line=634'>635</a>\u001b[0m     \u001b[39m# GH#38939 de facto copy defaults to False only in non-dict cases\u001b[39;00m\n\u001b[1;32m--> <a href='file:///c%3A/Programs/MyPrograms/Python/ML/3K2SML/Homeworks/2/venv_2/lib/site-packages/pandas/core/frame.py?line=635'>636</a>\u001b[0m     mgr \u001b[39m=\u001b[39m dict_to_mgr(data, index, columns, dtype\u001b[39m=\u001b[39;49mdtype, copy\u001b[39m=\u001b[39;49mcopy, typ\u001b[39m=\u001b[39;49mmanager)\n\u001b[0;32m    <a href='file:///c%3A/Programs/MyPrograms/Python/ML/3K2SML/Homeworks/2/venv_2/lib/site-packages/pandas/core/frame.py?line=636'>637</a>\u001b[0m \u001b[39melif\u001b[39;00m \u001b[39misinstance\u001b[39m(data, ma\u001b[39m.\u001b[39mMaskedArray):\n\u001b[0;32m    <a href='file:///c%3A/Programs/MyPrograms/Python/ML/3K2SML/Homeworks/2/venv_2/lib/site-packages/pandas/core/frame.py?line=637'>638</a>\u001b[0m     \u001b[39mimport\u001b[39;00m \u001b[39mnumpy\u001b[39;00m\u001b[39m.\u001b[39;00m\u001b[39mma\u001b[39;00m\u001b[39m.\u001b[39;00m\u001b[39mmrecords\u001b[39;00m \u001b[39mas\u001b[39;00m \u001b[39mmrecords\u001b[39;00m\n",
      "File \u001b[1;32mc:\\Programs\\MyPrograms\\Python\\ML\\3K2SML\\Homeworks\\2\\venv_2\\lib\\site-packages\\pandas\\core\\internals\\construction.py:502\u001b[0m, in \u001b[0;36mdict_to_mgr\u001b[1;34m(data, index, columns, dtype, typ, copy)\u001b[0m\n\u001b[0;32m    <a href='file:///c%3A/Programs/MyPrograms/Python/ML/3K2SML/Homeworks/2/venv_2/lib/site-packages/pandas/core/internals/construction.py?line=493'>494</a>\u001b[0m     arrays \u001b[39m=\u001b[39m [\n\u001b[0;32m    <a href='file:///c%3A/Programs/MyPrograms/Python/ML/3K2SML/Homeworks/2/venv_2/lib/site-packages/pandas/core/internals/construction.py?line=494'>495</a>\u001b[0m         x\n\u001b[0;32m    <a href='file:///c%3A/Programs/MyPrograms/Python/ML/3K2SML/Homeworks/2/venv_2/lib/site-packages/pandas/core/internals/construction.py?line=495'>496</a>\u001b[0m         \u001b[39mif\u001b[39;00m \u001b[39mnot\u001b[39;00m \u001b[39mhasattr\u001b[39m(x, \u001b[39m\"\u001b[39m\u001b[39mdtype\u001b[39m\u001b[39m\"\u001b[39m) \u001b[39mor\u001b[39;00m \u001b[39mnot\u001b[39;00m \u001b[39misinstance\u001b[39m(x\u001b[39m.\u001b[39mdtype, ExtensionDtype)\n\u001b[0;32m    <a href='file:///c%3A/Programs/MyPrograms/Python/ML/3K2SML/Homeworks/2/venv_2/lib/site-packages/pandas/core/internals/construction.py?line=496'>497</a>\u001b[0m         \u001b[39melse\u001b[39;00m x\u001b[39m.\u001b[39mcopy()\n\u001b[0;32m    <a href='file:///c%3A/Programs/MyPrograms/Python/ML/3K2SML/Homeworks/2/venv_2/lib/site-packages/pandas/core/internals/construction.py?line=497'>498</a>\u001b[0m         \u001b[39mfor\u001b[39;00m x \u001b[39min\u001b[39;00m arrays\n\u001b[0;32m    <a href='file:///c%3A/Programs/MyPrograms/Python/ML/3K2SML/Homeworks/2/venv_2/lib/site-packages/pandas/core/internals/construction.py?line=498'>499</a>\u001b[0m     ]\n\u001b[0;32m    <a href='file:///c%3A/Programs/MyPrograms/Python/ML/3K2SML/Homeworks/2/venv_2/lib/site-packages/pandas/core/internals/construction.py?line=499'>500</a>\u001b[0m     \u001b[39m# TODO: can we get rid of the dt64tz special case above?\u001b[39;00m\n\u001b[1;32m--> <a href='file:///c%3A/Programs/MyPrograms/Python/ML/3K2SML/Homeworks/2/venv_2/lib/site-packages/pandas/core/internals/construction.py?line=501'>502</a>\u001b[0m \u001b[39mreturn\u001b[39;00m arrays_to_mgr(arrays, columns, index, dtype\u001b[39m=\u001b[39;49mdtype, typ\u001b[39m=\u001b[39;49mtyp, consolidate\u001b[39m=\u001b[39;49mcopy)\n",
      "File \u001b[1;32mc:\\Programs\\MyPrograms\\Python\\ML\\3K2SML\\Homeworks\\2\\venv_2\\lib\\site-packages\\pandas\\core\\internals\\construction.py:125\u001b[0m, in \u001b[0;36marrays_to_mgr\u001b[1;34m(arrays, columns, index, dtype, verify_integrity, typ, consolidate)\u001b[0m\n\u001b[0;32m    <a href='file:///c%3A/Programs/MyPrograms/Python/ML/3K2SML/Homeworks/2/venv_2/lib/site-packages/pandas/core/internals/construction.py?line=121'>122</a>\u001b[0m         index \u001b[39m=\u001b[39m ensure_index(index)\n\u001b[0;32m    <a href='file:///c%3A/Programs/MyPrograms/Python/ML/3K2SML/Homeworks/2/venv_2/lib/site-packages/pandas/core/internals/construction.py?line=123'>124</a>\u001b[0m     \u001b[39m# don't force copy because getting jammed in an ndarray anyway\u001b[39;00m\n\u001b[1;32m--> <a href='file:///c%3A/Programs/MyPrograms/Python/ML/3K2SML/Homeworks/2/venv_2/lib/site-packages/pandas/core/internals/construction.py?line=124'>125</a>\u001b[0m     arrays \u001b[39m=\u001b[39m _homogenize(arrays, index, dtype)\n\u001b[0;32m    <a href='file:///c%3A/Programs/MyPrograms/Python/ML/3K2SML/Homeworks/2/venv_2/lib/site-packages/pandas/core/internals/construction.py?line=125'>126</a>\u001b[0m     \u001b[39m# _homogenize ensures\u001b[39;00m\n\u001b[0;32m    <a href='file:///c%3A/Programs/MyPrograms/Python/ML/3K2SML/Homeworks/2/venv_2/lib/site-packages/pandas/core/internals/construction.py?line=126'>127</a>\u001b[0m     \u001b[39m#  - all(len(x) == len(index) for x in arrays)\u001b[39;00m\n\u001b[0;32m    <a href='file:///c%3A/Programs/MyPrograms/Python/ML/3K2SML/Homeworks/2/venv_2/lib/site-packages/pandas/core/internals/construction.py?line=127'>128</a>\u001b[0m     \u001b[39m#  - all(x.ndim == 1 for x in arrays)\u001b[39;00m\n\u001b[1;32m   (...)\u001b[0m\n\u001b[0;32m    <a href='file:///c%3A/Programs/MyPrograms/Python/ML/3K2SML/Homeworks/2/venv_2/lib/site-packages/pandas/core/internals/construction.py?line=130'>131</a>\u001b[0m \n\u001b[0;32m    <a href='file:///c%3A/Programs/MyPrograms/Python/ML/3K2SML/Homeworks/2/venv_2/lib/site-packages/pandas/core/internals/construction.py?line=131'>132</a>\u001b[0m \u001b[39melse\u001b[39;00m:\n\u001b[0;32m    <a href='file:///c%3A/Programs/MyPrograms/Python/ML/3K2SML/Homeworks/2/venv_2/lib/site-packages/pandas/core/internals/construction.py?line=132'>133</a>\u001b[0m     index \u001b[39m=\u001b[39m ensure_index(index)\n",
      "File \u001b[1;32mc:\\Programs\\MyPrograms\\Python\\ML\\3K2SML\\Homeworks\\2\\venv_2\\lib\\site-packages\\pandas\\core\\internals\\construction.py:625\u001b[0m, in \u001b[0;36m_homogenize\u001b[1;34m(data, index, dtype)\u001b[0m\n\u001b[0;32m    <a href='file:///c%3A/Programs/MyPrograms/Python/ML/3K2SML/Homeworks/2/venv_2/lib/site-packages/pandas/core/internals/construction.py?line=621'>622</a>\u001b[0m             val \u001b[39m=\u001b[39m \u001b[39mdict\u001b[39m(val)\n\u001b[0;32m    <a href='file:///c%3A/Programs/MyPrograms/Python/ML/3K2SML/Homeworks/2/venv_2/lib/site-packages/pandas/core/internals/construction.py?line=622'>623</a>\u001b[0m         val \u001b[39m=\u001b[39m lib\u001b[39m.\u001b[39mfast_multiget(val, oindex\u001b[39m.\u001b[39m_values, default\u001b[39m=\u001b[39mnp\u001b[39m.\u001b[39mnan)\n\u001b[1;32m--> <a href='file:///c%3A/Programs/MyPrograms/Python/ML/3K2SML/Homeworks/2/venv_2/lib/site-packages/pandas/core/internals/construction.py?line=624'>625</a>\u001b[0m     val \u001b[39m=\u001b[39m sanitize_array(\n\u001b[0;32m    <a href='file:///c%3A/Programs/MyPrograms/Python/ML/3K2SML/Homeworks/2/venv_2/lib/site-packages/pandas/core/internals/construction.py?line=625'>626</a>\u001b[0m         val, index, dtype\u001b[39m=\u001b[39;49mdtype, copy\u001b[39m=\u001b[39;49m\u001b[39mFalse\u001b[39;49;00m, raise_cast_failure\u001b[39m=\u001b[39;49m\u001b[39mFalse\u001b[39;49;00m\n\u001b[0;32m    <a href='file:///c%3A/Programs/MyPrograms/Python/ML/3K2SML/Homeworks/2/venv_2/lib/site-packages/pandas/core/internals/construction.py?line=626'>627</a>\u001b[0m     )\n\u001b[0;32m    <a href='file:///c%3A/Programs/MyPrograms/Python/ML/3K2SML/Homeworks/2/venv_2/lib/site-packages/pandas/core/internals/construction.py?line=627'>628</a>\u001b[0m     com\u001b[39m.\u001b[39mrequire_length_match(val, index)\n\u001b[0;32m    <a href='file:///c%3A/Programs/MyPrograms/Python/ML/3K2SML/Homeworks/2/venv_2/lib/site-packages/pandas/core/internals/construction.py?line=629'>630</a>\u001b[0m homogenized\u001b[39m.\u001b[39mappend(val)\n",
      "File \u001b[1;32mc:\\Programs\\MyPrograms\\Python\\ML\\3K2SML\\Homeworks\\2\\venv_2\\lib\\site-packages\\pandas\\core\\construction.py:598\u001b[0m, in \u001b[0;36msanitize_array\u001b[1;34m(data, index, dtype, copy, raise_cast_failure, allow_2d)\u001b[0m\n\u001b[0;32m    <a href='file:///c%3A/Programs/MyPrograms/Python/ML/3K2SML/Homeworks/2/venv_2/lib/site-packages/pandas/core/construction.py?line=594'>595</a>\u001b[0m             subarr \u001b[39m=\u001b[39m cast(np\u001b[39m.\u001b[39mndarray, subarr)\n\u001b[0;32m    <a href='file:///c%3A/Programs/MyPrograms/Python/ML/3K2SML/Homeworks/2/venv_2/lib/site-packages/pandas/core/construction.py?line=595'>596</a>\u001b[0m             subarr \u001b[39m=\u001b[39m maybe_infer_to_datetimelike(subarr)\n\u001b[1;32m--> <a href='file:///c%3A/Programs/MyPrograms/Python/ML/3K2SML/Homeworks/2/venv_2/lib/site-packages/pandas/core/construction.py?line=597'>598</a>\u001b[0m subarr \u001b[39m=\u001b[39m _sanitize_ndim(subarr, data, dtype, index, allow_2d\u001b[39m=\u001b[39;49mallow_2d)\n\u001b[0;32m    <a href='file:///c%3A/Programs/MyPrograms/Python/ML/3K2SML/Homeworks/2/venv_2/lib/site-packages/pandas/core/construction.py?line=599'>600</a>\u001b[0m \u001b[39mif\u001b[39;00m \u001b[39misinstance\u001b[39m(subarr, np\u001b[39m.\u001b[39mndarray):\n\u001b[0;32m    <a href='file:///c%3A/Programs/MyPrograms/Python/ML/3K2SML/Homeworks/2/venv_2/lib/site-packages/pandas/core/construction.py?line=600'>601</a>\u001b[0m     \u001b[39m# at this point we should have dtype be None or subarr.dtype == dtype\u001b[39;00m\n\u001b[0;32m    <a href='file:///c%3A/Programs/MyPrograms/Python/ML/3K2SML/Homeworks/2/venv_2/lib/site-packages/pandas/core/construction.py?line=601'>602</a>\u001b[0m     dtype \u001b[39m=\u001b[39m cast(np\u001b[39m.\u001b[39mdtype, dtype)\n",
      "File \u001b[1;32mc:\\Programs\\MyPrograms\\Python\\ML\\3K2SML\\Homeworks\\2\\venv_2\\lib\\site-packages\\pandas\\core\\construction.py:649\u001b[0m, in \u001b[0;36m_sanitize_ndim\u001b[1;34m(result, data, dtype, index, allow_2d)\u001b[0m\n\u001b[0;32m    <a href='file:///c%3A/Programs/MyPrograms/Python/ML/3K2SML/Homeworks/2/venv_2/lib/site-packages/pandas/core/construction.py?line=646'>647</a>\u001b[0m     \u001b[39mif\u001b[39;00m allow_2d:\n\u001b[0;32m    <a href='file:///c%3A/Programs/MyPrograms/Python/ML/3K2SML/Homeworks/2/venv_2/lib/site-packages/pandas/core/construction.py?line=647'>648</a>\u001b[0m         \u001b[39mreturn\u001b[39;00m result\n\u001b[1;32m--> <a href='file:///c%3A/Programs/MyPrograms/Python/ML/3K2SML/Homeworks/2/venv_2/lib/site-packages/pandas/core/construction.py?line=648'>649</a>\u001b[0m     \u001b[39mraise\u001b[39;00m \u001b[39mValueError\u001b[39;00m(\u001b[39m\"\u001b[39m\u001b[39mData must be 1-dimensional\u001b[39m\u001b[39m\"\u001b[39m)\n\u001b[0;32m    <a href='file:///c%3A/Programs/MyPrograms/Python/ML/3K2SML/Homeworks/2/venv_2/lib/site-packages/pandas/core/construction.py?line=649'>650</a>\u001b[0m \u001b[39mif\u001b[39;00m is_object_dtype(dtype) \u001b[39mand\u001b[39;00m \u001b[39misinstance\u001b[39m(dtype, ExtensionDtype):\n\u001b[0;32m    <a href='file:///c%3A/Programs/MyPrograms/Python/ML/3K2SML/Homeworks/2/venv_2/lib/site-packages/pandas/core/construction.py?line=650'>651</a>\u001b[0m     \u001b[39m# i.e. PandasDtype(\"O\")\u001b[39;00m\n\u001b[0;32m    <a href='file:///c%3A/Programs/MyPrograms/Python/ML/3K2SML/Homeworks/2/venv_2/lib/site-packages/pandas/core/construction.py?line=652'>653</a>\u001b[0m     result \u001b[39m=\u001b[39m com\u001b[39m.\u001b[39masarray_tuplesafe(data, dtype\u001b[39m=\u001b[39mnp\u001b[39m.\u001b[39mdtype(\u001b[39m\"\u001b[39m\u001b[39mobject\u001b[39m\u001b[39m\"\u001b[39m))\n",
      "\u001b[1;31mValueError\u001b[0m: Data must be 1-dimensional"
     ]
    }
   ],
   "source": [
    "####################\n",
    "# Нормалізувати тестовий датасет, використовуючи mean, std з тренувального\n",
    "####################\n",
    "X_test_proc = (pd.DataFrame(X) - mean)/std\n",
    "X_test_proc = prepare_X(X_test_proc)\n",
    "y_test_pred = hypothesis(X_test_proc, new_theta)\n",
    "rel_diff = np.abs(np.divide(y_test - y_test_pred, y_test)) * 100\n",
    "\n",
    "res = pd.DataFrame({'X' : X_test, 'y_actual' : y_test, 'y_pred' : y_test_pred, 'err' : rel_diff})\n",
    "print(res)\n",
    "print(cost_function(X_test_proc, y_test, new_theta))"
   ]
  }
 ],
 "metadata": {
  "anaconda-cloud": {},
  "kernelspec": {
   "display_name": "Python 3 (ipykernel)",
   "language": "python",
   "name": "python3"
  },
  "language_info": {
   "codemirror_mode": {
    "name": "ipython",
    "version": 3
   },
   "file_extension": ".py",
   "mimetype": "text/x-python",
   "name": "python",
   "nbconvert_exporter": "python",
   "pygments_lexer": "ipython3",
   "version": "3.10.2"
  }
 },
 "nbformat": 4,
 "nbformat_minor": 1
}
